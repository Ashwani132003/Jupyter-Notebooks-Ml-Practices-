{
 "cells": [
  {
   "cell_type": "code",
   "execution_count": 1,
   "id": "57d413b0-2cab-4c26-9f47-f693084d4f6a",
   "metadata": {},
   "outputs": [],
   "source": [
    "import numpy as np\n",
    "import pandas as pd\n",
    "import matplotlib.pyplot as plt\n",
    "import seaborn as sns"
   ]
  },
  {
   "cell_type": "code",
   "execution_count": 2,
   "id": "292d7222-7bd3-4f2e-b23d-521c96e82d02",
   "metadata": {},
   "outputs": [],
   "source": [
    "df = pd.read_csv('playground-series-s3e16 crab age/train.csv')"
   ]
  },
  {
   "cell_type": "code",
   "execution_count": 3,
   "id": "e80ac1b1-ed9a-45c3-afc2-02903a4a725c",
   "metadata": {},
   "outputs": [
    {
     "data": {
      "text/html": [
       "<div>\n",
       "<style scoped>\n",
       "    .dataframe tbody tr th:only-of-type {\n",
       "        vertical-align: middle;\n",
       "    }\n",
       "\n",
       "    .dataframe tbody tr th {\n",
       "        vertical-align: top;\n",
       "    }\n",
       "\n",
       "    .dataframe thead th {\n",
       "        text-align: right;\n",
       "    }\n",
       "</style>\n",
       "<table border=\"1\" class=\"dataframe\">\n",
       "  <thead>\n",
       "    <tr style=\"text-align: right;\">\n",
       "      <th></th>\n",
       "      <th>id</th>\n",
       "      <th>Sex</th>\n",
       "      <th>Length</th>\n",
       "      <th>Diameter</th>\n",
       "      <th>Height</th>\n",
       "      <th>Weight</th>\n",
       "      <th>Shucked Weight</th>\n",
       "      <th>Viscera Weight</th>\n",
       "      <th>Shell Weight</th>\n",
       "      <th>Age</th>\n",
       "    </tr>\n",
       "  </thead>\n",
       "  <tbody>\n",
       "    <tr>\n",
       "      <th>0</th>\n",
       "      <td>0</td>\n",
       "      <td>I</td>\n",
       "      <td>1.5250</td>\n",
       "      <td>1.1750</td>\n",
       "      <td>0.3750</td>\n",
       "      <td>28.973189</td>\n",
       "      <td>12.728926</td>\n",
       "      <td>6.647958</td>\n",
       "      <td>8.348928</td>\n",
       "      <td>9</td>\n",
       "    </tr>\n",
       "    <tr>\n",
       "      <th>1</th>\n",
       "      <td>1</td>\n",
       "      <td>I</td>\n",
       "      <td>1.1000</td>\n",
       "      <td>0.8250</td>\n",
       "      <td>0.2750</td>\n",
       "      <td>10.418441</td>\n",
       "      <td>4.521745</td>\n",
       "      <td>2.324659</td>\n",
       "      <td>3.401940</td>\n",
       "      <td>8</td>\n",
       "    </tr>\n",
       "    <tr>\n",
       "      <th>2</th>\n",
       "      <td>2</td>\n",
       "      <td>M</td>\n",
       "      <td>1.3875</td>\n",
       "      <td>1.1125</td>\n",
       "      <td>0.3750</td>\n",
       "      <td>24.777463</td>\n",
       "      <td>11.339800</td>\n",
       "      <td>5.556502</td>\n",
       "      <td>6.662133</td>\n",
       "      <td>9</td>\n",
       "    </tr>\n",
       "    <tr>\n",
       "      <th>3</th>\n",
       "      <td>3</td>\n",
       "      <td>F</td>\n",
       "      <td>1.7000</td>\n",
       "      <td>1.4125</td>\n",
       "      <td>0.5000</td>\n",
       "      <td>50.660556</td>\n",
       "      <td>20.354941</td>\n",
       "      <td>10.991839</td>\n",
       "      <td>14.996885</td>\n",
       "      <td>11</td>\n",
       "    </tr>\n",
       "    <tr>\n",
       "      <th>4</th>\n",
       "      <td>4</td>\n",
       "      <td>I</td>\n",
       "      <td>1.2500</td>\n",
       "      <td>1.0125</td>\n",
       "      <td>0.3375</td>\n",
       "      <td>23.289114</td>\n",
       "      <td>11.977664</td>\n",
       "      <td>4.507570</td>\n",
       "      <td>5.953395</td>\n",
       "      <td>8</td>\n",
       "    </tr>\n",
       "  </tbody>\n",
       "</table>\n",
       "</div>"
      ],
      "text/plain": [
       "   id Sex  Length  Diameter  Height     Weight  Shucked Weight  \\\n",
       "0   0   I  1.5250    1.1750  0.3750  28.973189       12.728926   \n",
       "1   1   I  1.1000    0.8250  0.2750  10.418441        4.521745   \n",
       "2   2   M  1.3875    1.1125  0.3750  24.777463       11.339800   \n",
       "3   3   F  1.7000    1.4125  0.5000  50.660556       20.354941   \n",
       "4   4   I  1.2500    1.0125  0.3375  23.289114       11.977664   \n",
       "\n",
       "   Viscera Weight  Shell Weight  Age  \n",
       "0        6.647958      8.348928    9  \n",
       "1        2.324659      3.401940    8  \n",
       "2        5.556502      6.662133    9  \n",
       "3       10.991839     14.996885   11  \n",
       "4        4.507570      5.953395    8  "
      ]
     },
     "execution_count": 3,
     "metadata": {},
     "output_type": "execute_result"
    }
   ],
   "source": [
    "df.head()"
   ]
  },
  {
   "cell_type": "code",
   "execution_count": 16,
   "id": "8170da30-b1f2-4353-86a7-44dc393baee5",
   "metadata": {},
   "outputs": [
    {
     "data": {
      "text/plain": [
       "id                0\n",
       "Sex               0\n",
       "Length            0\n",
       "Diameter          0\n",
       "Height            0\n",
       "Weight            0\n",
       "Shucked Weight    0\n",
       "Viscera Weight    0\n",
       "Shell Weight      0\n",
       "Age               0\n",
       "dtype: int64"
      ]
     },
     "execution_count": 16,
     "metadata": {},
     "output_type": "execute_result"
    }
   ],
   "source": [
    "df.isnull().sum()"
   ]
  },
  {
   "cell_type": "code",
   "execution_count": 20,
   "id": "eef8d3a1-39d3-4a95-a3d3-a5e6e4d42288",
   "metadata": {},
   "outputs": [
    {
     "data": {
      "text/plain": [
       "array(['I', 'M', 'F'], dtype=object)"
      ]
     },
     "execution_count": 20,
     "metadata": {},
     "output_type": "execute_result"
    }
   ],
   "source": [
    "df['Sex'].unique()"
   ]
  },
  {
   "cell_type": "code",
   "execution_count": 21,
   "id": "4bbb66f5-8faf-435c-bdcd-d189e032d90e",
   "metadata": {},
   "outputs": [],
   "source": [
    "from sklearn import preprocessing\n",
    "  \n",
    "# label_encoder object knows \n",
    "# how to understand word labels.\n",
    "label_encoder = preprocessing.LabelEncoder()\n",
    "  \n",
    "# Encode labels in column 'species'.\n",
    "df['Sex']= label_encoder.fit_transform(df['Sex'])"
   ]
  },
  {
   "cell_type": "code",
   "execution_count": 4,
   "id": "784c83b7-b81e-4e5d-a606-3be1a37183a0",
   "metadata": {},
   "outputs": [],
   "source": [
    "corelation = df.corr()"
   ]
  },
  {
   "cell_type": "code",
   "execution_count": 7,
   "id": "24456bc7-7b54-470a-9b31-51bb3168ad09",
   "metadata": {},
   "outputs": [
    {
     "data": {
      "text/plain": [
       "<AxesSubplot:>"
      ]
     },
     "execution_count": 7,
     "metadata": {},
     "output_type": "execute_result"
    },
    {
     "data": {
      "image/png": "[encoded data removed]",
      "text/plain": [
       "<Figure size 1080x1080 with 2 Axes>"
      ]
     },
     "metadata": {
      "needs_background": "light"
     },
     "output_type": "display_data"
    }
   ],
   "source": [
    "fig, ax = plt.subplots(figsize=(15,15))\n",
    "sns.heatmap(corelation,xticklabels=corelation.columns,yticklabels=corelation.columns,annot=True,ax=ax)"
   ]
  },
  {
   "cell_type": "code",
   "execution_count": 105,
   "id": "f75c3414-3f1d-4352-b7db-84956b131f5b",
   "metadata": {},
   "outputs": [
    {
     "data": {
      "text/html": [
       "<div>\n",
       "<style scoped>\n",
       "    .dataframe tbody tr th:only-of-type {\n",
       "        vertical-align: middle;\n",
       "    }\n",
       "\n",
       "    .dataframe tbody tr th {\n",
       "        vertical-align: top;\n",
       "    }\n",
       "\n",
       "    .dataframe thead th {\n",
       "        text-align: right;\n",
       "    }\n",
       "</style>\n",
       "<table border=\"1\" class=\"dataframe\">\n",
       "  <thead>\n",
       "    <tr style=\"text-align: right;\">\n",
       "      <th></th>\n",
       "      <th>id</th>\n",
       "      <th>Sex</th>\n",
       "      <th>Length</th>\n",
       "      <th>Diameter</th>\n",
       "      <th>Height</th>\n",
       "      <th>Weight</th>\n",
       "      <th>Shucked Weight</th>\n",
       "      <th>Viscera Weight</th>\n",
       "      <th>Shell Weight</th>\n",
       "    </tr>\n",
       "  </thead>\n",
       "  <tbody>\n",
       "    <tr>\n",
       "      <th>0</th>\n",
       "      <td>0</td>\n",
       "      <td>1</td>\n",
       "      <td>1.5250</td>\n",
       "      <td>1.1750</td>\n",
       "      <td>0.3750</td>\n",
       "      <td>28.973189</td>\n",
       "      <td>12.728926</td>\n",
       "      <td>6.647958</td>\n",
       "      <td>8.348928</td>\n",
       "    </tr>\n",
       "    <tr>\n",
       "      <th>1</th>\n",
       "      <td>1</td>\n",
       "      <td>1</td>\n",
       "      <td>1.1000</td>\n",
       "      <td>0.8250</td>\n",
       "      <td>0.2750</td>\n",
       "      <td>10.418441</td>\n",
       "      <td>4.521745</td>\n",
       "      <td>2.324659</td>\n",
       "      <td>3.401940</td>\n",
       "    </tr>\n",
       "    <tr>\n",
       "      <th>2</th>\n",
       "      <td>2</td>\n",
       "      <td>2</td>\n",
       "      <td>1.3875</td>\n",
       "      <td>1.1125</td>\n",
       "      <td>0.3750</td>\n",
       "      <td>24.777463</td>\n",
       "      <td>11.339800</td>\n",
       "      <td>5.556502</td>\n",
       "      <td>6.662133</td>\n",
       "    </tr>\n",
       "    <tr>\n",
       "      <th>3</th>\n",
       "      <td>3</td>\n",
       "      <td>0</td>\n",
       "      <td>1.7000</td>\n",
       "      <td>1.4125</td>\n",
       "      <td>0.5000</td>\n",
       "      <td>50.660556</td>\n",
       "      <td>20.354941</td>\n",
       "      <td>10.991839</td>\n",
       "      <td>14.996885</td>\n",
       "    </tr>\n",
       "    <tr>\n",
       "      <th>4</th>\n",
       "      <td>4</td>\n",
       "      <td>1</td>\n",
       "      <td>1.2500</td>\n",
       "      <td>1.0125</td>\n",
       "      <td>0.3375</td>\n",
       "      <td>23.289114</td>\n",
       "      <td>11.977664</td>\n",
       "      <td>4.507570</td>\n",
       "      <td>5.953395</td>\n",
       "    </tr>\n",
       "  </tbody>\n",
       "</table>\n",
       "</div>"
      ],
      "text/plain": [
       "   id  Sex  Length  Diameter  Height     Weight  Shucked Weight  \\\n",
       "0   0    1  1.5250    1.1750  0.3750  28.973189       12.728926   \n",
       "1   1    1  1.1000    0.8250  0.2750  10.418441        4.521745   \n",
       "2   2    2  1.3875    1.1125  0.3750  24.777463       11.339800   \n",
       "3   3    0  1.7000    1.4125  0.5000  50.660556       20.354941   \n",
       "4   4    1  1.2500    1.0125  0.3375  23.289114       11.977664   \n",
       "\n",
       "   Viscera Weight  Shell Weight  \n",
       "0        6.647958      8.348928  \n",
       "1        2.324659      3.401940  \n",
       "2        5.556502      6.662133  \n",
       "3       10.991839     14.996885  \n",
       "4        4.507570      5.953395  "
      ]
     },
     "execution_count": 105,
     "metadata": {},
     "output_type": "execute_result"
    }
   ],
   "source": [
    "X = df.drop(['Age'],axis=1)\n",
    "X.head()"
   ]
  },
  {
   "cell_type": "code",
   "execution_count": 23,
   "id": "416c2d46-a893-4b02-ba46-931ef0411215",
   "metadata": {},
   "outputs": [
    {
     "data": {
      "text/plain": [
       "0     9\n",
       "1     8\n",
       "2     9\n",
       "3    11\n",
       "4     8\n",
       "Name: Age, dtype: int64"
      ]
     },
     "execution_count": 23,
     "metadata": {},
     "output_type": "execute_result"
    }
   ],
   "source": [
    "Y = df['Age']\n",
    "Y.head()"
   ]
  },
  {
   "cell_type": "code",
   "execution_count": null,
   "id": "cb3e9c5e-147d-4401-8aa7-0260e204d67a",
   "metadata": {},
   "outputs": [],
   "source": []
  },
  {
   "cell_type": "code",
   "execution_count": 24,
   "id": "54922064-b0c8-4b66-8855-f756b67c5551",
   "metadata": {},
   "outputs": [],
   "source": [
    "from sklearn.linear_model import LinearRegression"
   ]
  },
  {
   "cell_type": "code",
   "execution_count": 25,
   "id": "d881eee4-b10b-4266-b9ff-70cd9dd70683",
   "metadata": {},
   "outputs": [],
   "source": [
    "from sklearn.model_selection import train_test_split"
   ]
  },
  {
   "cell_type": "code",
   "execution_count": 108,
   "id": "84054167-c807-4edb-9c56-bd3fa5b5a340",
   "metadata": {},
   "outputs": [
    {
     "name": "stdout",
     "output_type": "stream",
     "text": [
      "[[ 1.53729277 -0.06951982 -0.79746731 -0.89153707 -0.92702685 -1.09617412\n",
      "  -1.01002542 -1.27135223 -1.1069797 ]\n",
      " [ 0.53748454 -1.28868922  0.41832453  0.42406224  0.15704744  0.64296733\n",
      "   0.99308903  0.54972272  0.18168222]\n",
      " [ 1.11979454 -0.06951982 -1.88299573 -1.73352062 -1.74008257 -1.5228405\n",
      "  -1.46917759 -1.550347   -1.56947493]\n",
      " [-1.1129703   1.14964958  0.93937818  0.95030197  0.5635753   1.01924005\n",
      "   1.17977728  1.38670703  0.6165068 ]\n",
      " [-1.44895074 -1.28868922 -0.3198348  -0.31267337 -0.38498971 -0.67622689\n",
      "  -0.61142078 -0.49016688 -0.75912004]\n",
      " [-0.93918409  1.14964958 -0.18957139  0.16094238 -0.11397113 -0.11741711\n",
      "  -0.21029332 -0.22639     0.41885926]\n",
      " [ 0.58707764  1.14964958 -1.53562664 -1.52302473 -1.33355471 -1.40525527\n",
      "  -1.43133538 -1.38802277 -1.39949805]\n",
      " [-0.63447395  1.14964958  1.37358955  1.58178963  1.24112173  2.00359635\n",
      "   1.95175842  1.28018175  1.34780267]\n",
      " [ 0.08848229  1.14964958 -0.36325594 -0.31267337 -0.52049899 -0.71094253\n",
      "  -0.56853294 -0.69307216 -0.71563758]\n",
      " [ 0.62101223  1.14964958  0.8525359   0.84505402  0.69908459  0.61273113\n",
      "   0.34724861  0.54972272  0.73509532]]\n"
     ]
    }
   ],
   "source": [
    "from sklearn.preprocessing import StandardScaler\n",
    "  \n",
    "sc_x = StandardScaler()\n",
    "X_train = sc_x.fit_transform(X_train)\n",
    "X_test = sc_x.transform(X_test)\n",
    "\n",
    "  \n",
    "print (X_train[0:10, :])"
   ]
  },
  {
   "cell_type": "code",
   "execution_count": 106,
   "id": "d44e59e5-57e7-4f8b-aa38-0c44a06c3670",
   "metadata": {},
   "outputs": [],
   "source": [
    "X_train, X_test, Y_train, Y_test = train_test_split(X,Y, test_size=0.2)"
   ]
  },
  {
   "cell_type": "code",
   "execution_count": null,
   "id": "416a2a56-0c28-4694-b1b8-833e04ce759f",
   "metadata": {},
   "outputs": [],
   "source": []
  },
  {
   "cell_type": "code",
   "execution_count": 109,
   "id": "a7edc5bd-b4b8-4963-be40-1deb9798ec7a",
   "metadata": {},
   "outputs": [],
   "source": [
    "model = LinearRegression()"
   ]
  },
  {
   "cell_type": "code",
   "execution_count": 110,
   "id": "664d3029-ba1f-482b-8414-1ed8c696199a",
   "metadata": {},
   "outputs": [
    {
     "data": {
      "text/plain": [
       "LinearRegression()"
      ]
     },
     "execution_count": 110,
     "metadata": {},
     "output_type": "execute_result"
    }
   ],
   "source": [
    "model.fit(X_train,Y_train)"
   ]
  },
  {
   "cell_type": "code",
   "execution_count": null,
   "id": "988a66c2-a937-43e8-84ec-983b6cd39531",
   "metadata": {},
   "outputs": [],
   "source": []
  },
  {
   "cell_type": "code",
   "execution_count": 111,
   "id": "cacd74a9-8b60-454c-8329-572edefd6f86",
   "metadata": {},
   "outputs": [
    {
     "data": {
      "text/plain": [
       "0.5404350635074523"
      ]
     },
     "execution_count": 111,
     "metadata": {},
     "output_type": "execute_result"
    }
   ],
   "source": [
    "model.score(X_test,Y_test)"
   ]
  },
  {
   "cell_type": "code",
   "execution_count": null,
   "id": "a37dd0bc-314b-4bec-b628-b9bc4e76c3ba",
   "metadata": {},
   "outputs": [],
   "source": []
  },
  {
   "cell_type": "code",
   "execution_count": 43,
   "id": "21bc8743-2518-4a5d-80c8-7ebc1c019cda",
   "metadata": {},
   "outputs": [],
   "source": [
    "from sklearn.metrics import mean_absolute_error, r2_score"
   ]
  },
  {
   "cell_type": "code",
   "execution_count": 44,
   "id": "a9802e47-d860-458e-84f8-e08041bc1461",
   "metadata": {
    "tags": []
   },
   "outputs": [],
   "source": [
    "Y_pred1=model.predict(X_test)"
   ]
  },
  {
   "cell_type": "code",
   "execution_count": 45,
   "id": "ef7815a8-c9da-4bc2-93c6-bbf9c82d3d34",
   "metadata": {},
   "outputs": [
    {
     "name": "stdout",
     "output_type": "stream",
     "text": [
      "MSE: 1.51\n",
      "R^2 score: 0.55\n"
     ]
    }
   ],
   "source": [
    "print('MSE: {:.2f}'.format(mean_absolute_error(Y_test, Y_pred1)))\n",
    "print('R^2 score: {:.2f}'.format(r2_score(Y_test, Y_pred1)))"
   ]
  },
  {
   "cell_type": "code",
   "execution_count": null,
   "id": "4a146a57-f031-42ff-92e5-bd0754927c04",
   "metadata": {},
   "outputs": [],
   "source": []
  },
  {
   "cell_type": "code",
   "execution_count": 46,
   "id": "a78ecca8-4997-4519-918e-a4587e3a1d73",
   "metadata": {},
   "outputs": [],
   "source": [
    "from sklearn.neighbors import KNeighborsRegressor"
   ]
  },
  {
   "cell_type": "code",
   "execution_count": 47,
   "id": "371aaded-5275-46ad-8535-f415529c61b0",
   "metadata": {},
   "outputs": [],
   "source": [
    "model0 = KNeighborsRegressor()"
   ]
  },
  {
   "cell_type": "code",
   "execution_count": 48,
   "id": "4b056f98-5fe2-498f-967f-be47906e7d5b",
   "metadata": {},
   "outputs": [
    {
     "data": {
      "text/plain": [
       "KNeighborsRegressor()"
      ]
     },
     "execution_count": 48,
     "metadata": {},
     "output_type": "execute_result"
    }
   ],
   "source": [
    "model0.fit(X_train,Y_train)"
   ]
  },
  {
   "cell_type": "code",
   "execution_count": 49,
   "id": "a901b539-7a10-4b3e-9d42-43c2d15e2ced",
   "metadata": {},
   "outputs": [
    {
     "data": {
      "text/plain": [
       "0.4970304219736458"
      ]
     },
     "execution_count": 49,
     "metadata": {},
     "output_type": "execute_result"
    }
   ],
   "source": [
    "model0.score(X_test,Y_test)"
   ]
  },
  {
   "cell_type": "code",
   "execution_count": null,
   "id": "94ab2b66-a28c-423b-9d68-707a0c1b6cff",
   "metadata": {},
   "outputs": [],
   "source": []
  },
  {
   "cell_type": "code",
   "execution_count": 50,
   "id": "3c3c5f7a-026c-498c-a1f1-61f9c2716f89",
   "metadata": {},
   "outputs": [],
   "source": [
    "# from sklearn.ensemble import AdaBoostRegressor"
   ]
  },
  {
   "cell_type": "code",
   "execution_count": 51,
   "id": "fb8b54fa-71cd-4fc2-a8cf-ca5c1634b0f1",
   "metadata": {},
   "outputs": [],
   "source": [
    "# model1 = AdaBoostRegressor()"
   ]
  },
  {
   "cell_type": "code",
   "execution_count": 52,
   "id": "26fd42a2-6651-4016-b11b-ce8c0e0c6a42",
   "metadata": {},
   "outputs": [
    {
     "data": {
      "text/plain": [
       "AdaBoostRegressor()"
      ]
     },
     "execution_count": 52,
     "metadata": {},
     "output_type": "execute_result"
    }
   ],
   "source": [
    "# model1.fit(X_train,Y_train)"
   ]
  },
  {
   "cell_type": "code",
   "execution_count": 53,
   "id": "c569f02a-c6ae-40fc-8477-1e14aa82b1f5",
   "metadata": {},
   "outputs": [
    {
     "data": {
      "text/plain": [
       "-0.12279280255563951"
      ]
     },
     "execution_count": 53,
     "metadata": {},
     "output_type": "execute_result"
    }
   ],
   "source": [
    "# model1.score(X_test,Y_test)"
   ]
  },
  {
   "cell_type": "code",
   "execution_count": 54,
   "id": "56846168-7972-47a5-af5a-d1371e64c75d",
   "metadata": {},
   "outputs": [],
   "source": [
    "from sklearn.linear_model import SGDRegressor"
   ]
  },
  {
   "cell_type": "code",
   "execution_count": 55,
   "id": "f0a5f32d-75c0-4184-a558-70b3e2b33cd2",
   "metadata": {},
   "outputs": [],
   "source": [
    "model2=SGDRegressor()"
   ]
  },
  {
   "cell_type": "code",
   "execution_count": 56,
   "id": "d31ca43c-f250-4472-821f-367a4386d229",
   "metadata": {},
   "outputs": [
    {
     "data": {
      "text/plain": [
       "SGDRegressor()"
      ]
     },
     "execution_count": 56,
     "metadata": {},
     "output_type": "execute_result"
    }
   ],
   "source": [
    "model2.fit(X_train,Y_train)"
   ]
  },
  {
   "cell_type": "code",
   "execution_count": 57,
   "id": "b1e33cb2-2b14-4fff-819b-fd7a3949f8bd",
   "metadata": {},
   "outputs": [
    {
     "data": {
      "text/plain": [
       "0.5479081008911214"
      ]
     },
     "execution_count": 57,
     "metadata": {},
     "output_type": "execute_result"
    }
   ],
   "source": [
    "model2.score(X_test,Y_test)"
   ]
  },
  {
   "cell_type": "code",
   "execution_count": null,
   "id": "711c56c4-3187-4076-a367-d4c33d687dc8",
   "metadata": {},
   "outputs": [],
   "source": []
  },
  {
   "cell_type": "code",
   "execution_count": 58,
   "id": "66a5f9d5-4214-4f19-9122-4173a7e9efbc",
   "metadata": {},
   "outputs": [],
   "source": [
    "from sklearn import svm"
   ]
  },
  {
   "cell_type": "code",
   "execution_count": 59,
   "id": "dd43a596-8cd6-4bdf-8314-318611095d5e",
   "metadata": {},
   "outputs": [],
   "source": [
    "model3 = svm.SVR()"
   ]
  },
  {
   "cell_type": "code",
   "execution_count": 60,
   "id": "f187a5ee-cad6-41f7-9210-b8a721cdb0ec",
   "metadata": {},
   "outputs": [
    {
     "data": {
      "text/plain": [
       "SVR()"
      ]
     },
     "execution_count": 60,
     "metadata": {},
     "output_type": "execute_result"
    }
   ],
   "source": [
    "model3.fit(X_train,Y_train)"
   ]
  },
  {
   "cell_type": "code",
   "execution_count": 61,
   "id": "7b65088d-bd61-4bd9-8e5c-5970e65c2c01",
   "metadata": {},
   "outputs": [
    {
     "data": {
      "text/plain": [
       "0.5683298418593632"
      ]
     },
     "execution_count": 61,
     "metadata": {},
     "output_type": "execute_result"
    }
   ],
   "source": [
    "model3.score(X_test,Y_test)"
   ]
  },
  {
   "cell_type": "code",
   "execution_count": 62,
   "id": "70cf24da-ef5c-4ce0-8a60-b748172b3676",
   "metadata": {},
   "outputs": [
    {
     "data": {
      "text/plain": [
       "DecisionTreeRegressor(random_state=0)"
      ]
     },
     "execution_count": 62,
     "metadata": {},
     "output_type": "execute_result"
    }
   ],
   "source": [
    "from sklearn.tree import DecisionTreeRegressor  \n",
    "classifier= DecisionTreeRegressor( random_state=0)  \n",
    "classifier.fit(X_train, Y_train) "
   ]
  },
  {
   "cell_type": "code",
   "execution_count": 63,
   "id": "20f042a4-3690-408c-bbba-9a3b2bc9c1d4",
   "metadata": {},
   "outputs": [
    {
     "data": {
      "text/plain": [
       "0.12886937563050982"
      ]
     },
     "execution_count": 63,
     "metadata": {},
     "output_type": "execute_result"
    }
   ],
   "source": [
    "classifier.score(X_test,Y_test)"
   ]
  },
  {
   "cell_type": "code",
   "execution_count": 64,
   "id": "889bdc2d-b8c8-4919-8dd6-c15b00089ea2",
   "metadata": {},
   "outputs": [],
   "source": [
    "from sklearn.ensemble import RandomForestRegressor "
   ]
  },
  {
   "cell_type": "code",
   "execution_count": 65,
   "id": "744fdbfa-1a42-4265-aacd-9266680ac84e",
   "metadata": {},
   "outputs": [
    {
     "data": {
      "text/plain": [
       "RandomForestRegressor(max_depth=2, random_state=0)"
      ]
     },
     "execution_count": 65,
     "metadata": {},
     "output_type": "execute_result"
    }
   ],
   "source": [
    "regr = RandomForestRegressor(max_depth=2, random_state=0)\n",
    "regr.fit(X_train, Y_train)"
   ]
  },
  {
   "cell_type": "code",
   "execution_count": 66,
   "id": "6fd23bb8-24bf-4b12-8d66-ac8989751acc",
   "metadata": {},
   "outputs": [
    {
     "data": {
      "text/plain": [
       "0.4315386175409325"
      ]
     },
     "execution_count": 66,
     "metadata": {},
     "output_type": "execute_result"
    }
   ],
   "source": [
    "regr.score(X_test,Y_test)"
   ]
  },
  {
   "cell_type": "code",
   "execution_count": 67,
   "id": "ff7b5559-e8c6-489d-9908-48cc23dfc328",
   "metadata": {},
   "outputs": [],
   "source": [
    "y_pred3 = model3.predict(X_test)"
   ]
  },
  {
   "cell_type": "code",
   "execution_count": 69,
   "id": "efaec709-b33c-4365-a869-05905a39b3d4",
   "metadata": {},
   "outputs": [
    {
     "name": "stdout",
     "output_type": "stream",
     "text": [
      "MSE: 1.38\n",
      "R^2 score: 0.57\n"
     ]
    }
   ],
   "source": [
    "print('MSE: {:.2f}'.format(mean_absolute_error(Y_test, y_pred3)))\n",
    "print('R^2 score: {:.2f}'.format(r2_score(Y_test, y_pred3)))"
   ]
  },
  {
   "cell_type": "code",
   "execution_count": 90,
   "id": "6a65931c-bb48-459e-9a7c-a3fd99424b8c",
   "metadata": {},
   "outputs": [],
   "source": [
    "test = pd.read_csv('playground-series-s3e16 crab age/test.csv')"
   ]
  },
  {
   "cell_type": "code",
   "execution_count": 91,
   "id": "af7fcf7e-a113-40d6-aa56-1571e616d421",
   "metadata": {},
   "outputs": [],
   "source": [
    "from sklearn import preprocessing\n",
    "  \n",
    "# label_encoder object knows \n",
    "# how to understand word labels.\n",
    "label_encoder = preprocessing.LabelEncoder()\n",
    "  \n",
    "# Encode labels in column 'species'.\n",
    "test['Sex']= label_encoder.fit_transform(test['Sex'])"
   ]
  },
  {
   "cell_type": "code",
   "execution_count": 92,
   "id": "511037f2-26ca-4800-8564-ff6f356bb6c3",
   "metadata": {},
   "outputs": [
    {
     "data": {
      "text/html": [
       "<div>\n",
       "<style scoped>\n",
       "    .dataframe tbody tr th:only-of-type {\n",
       "        vertical-align: middle;\n",
       "    }\n",
       "\n",
       "    .dataframe tbody tr th {\n",
       "        vertical-align: top;\n",
       "    }\n",
       "\n",
       "    .dataframe thead th {\n",
       "        text-align: right;\n",
       "    }\n",
       "</style>\n",
       "<table border=\"1\" class=\"dataframe\">\n",
       "  <thead>\n",
       "    <tr style=\"text-align: right;\">\n",
       "      <th></th>\n",
       "      <th>id</th>\n",
       "      <th>Sex</th>\n",
       "      <th>Length</th>\n",
       "      <th>Diameter</th>\n",
       "      <th>Height</th>\n",
       "      <th>Weight</th>\n",
       "      <th>Shucked Weight</th>\n",
       "      <th>Viscera Weight</th>\n",
       "      <th>Shell Weight</th>\n",
       "    </tr>\n",
       "  </thead>\n",
       "  <tbody>\n",
       "    <tr>\n",
       "      <th>0</th>\n",
       "      <td>74051</td>\n",
       "      <td>1</td>\n",
       "      <td>1.0500</td>\n",
       "      <td>0.7625</td>\n",
       "      <td>0.2750</td>\n",
       "      <td>8.618248</td>\n",
       "      <td>3.657085</td>\n",
       "      <td>1.729319</td>\n",
       "      <td>2.721552</td>\n",
       "    </tr>\n",
       "    <tr>\n",
       "      <th>1</th>\n",
       "      <td>74052</td>\n",
       "      <td>1</td>\n",
       "      <td>1.1625</td>\n",
       "      <td>0.8875</td>\n",
       "      <td>0.2750</td>\n",
       "      <td>15.507176</td>\n",
       "      <td>7.030676</td>\n",
       "      <td>3.246018</td>\n",
       "      <td>3.968930</td>\n",
       "    </tr>\n",
       "    <tr>\n",
       "      <th>2</th>\n",
       "      <td>74053</td>\n",
       "      <td>0</td>\n",
       "      <td>1.2875</td>\n",
       "      <td>0.9875</td>\n",
       "      <td>0.3250</td>\n",
       "      <td>14.571643</td>\n",
       "      <td>5.556502</td>\n",
       "      <td>3.883882</td>\n",
       "      <td>4.819415</td>\n",
       "    </tr>\n",
       "    <tr>\n",
       "      <th>3</th>\n",
       "      <td>74054</td>\n",
       "      <td>0</td>\n",
       "      <td>1.5500</td>\n",
       "      <td>0.9875</td>\n",
       "      <td>0.3875</td>\n",
       "      <td>28.377849</td>\n",
       "      <td>13.380964</td>\n",
       "      <td>6.548735</td>\n",
       "      <td>7.030676</td>\n",
       "    </tr>\n",
       "    <tr>\n",
       "      <th>4</th>\n",
       "      <td>74055</td>\n",
       "      <td>1</td>\n",
       "      <td>1.1125</td>\n",
       "      <td>0.8500</td>\n",
       "      <td>0.2625</td>\n",
       "      <td>11.765042</td>\n",
       "      <td>5.528153</td>\n",
       "      <td>2.466407</td>\n",
       "      <td>3.331066</td>\n",
       "    </tr>\n",
       "  </tbody>\n",
       "</table>\n",
       "</div>"
      ],
      "text/plain": [
       "      id  Sex  Length  Diameter  Height     Weight  Shucked Weight  \\\n",
       "0  74051    1  1.0500    0.7625  0.2750   8.618248        3.657085   \n",
       "1  74052    1  1.1625    0.8875  0.2750  15.507176        7.030676   \n",
       "2  74053    0  1.2875    0.9875  0.3250  14.571643        5.556502   \n",
       "3  74054    0  1.5500    0.9875  0.3875  28.377849       13.380964   \n",
       "4  74055    1  1.1125    0.8500  0.2625  11.765042        5.528153   \n",
       "\n",
       "   Viscera Weight  Shell Weight  \n",
       "0        1.729319      2.721552  \n",
       "1        3.246018      3.968930  \n",
       "2        3.883882      4.819415  \n",
       "3        6.548735      7.030676  \n",
       "4        2.466407      3.331066  "
      ]
     },
     "execution_count": 92,
     "metadata": {},
     "output_type": "execute_result"
    }
   ],
   "source": [
    "test.head()"
   ]
  },
  {
   "cell_type": "code",
   "execution_count": 93,
   "id": "a2725eb8-0ace-41fa-83a0-f5f199930f60",
   "metadata": {},
   "outputs": [
    {
     "data": {
      "text/plain": [
       "(49368, 9)"
      ]
     },
     "execution_count": 93,
     "metadata": {},
     "output_type": "execute_result"
    }
   ],
   "source": [
    "test.shape"
   ]
  },
  {
   "cell_type": "code",
   "execution_count": 103,
   "id": "554094f9-1cf4-4729-95c8-77fc7de77283",
   "metadata": {},
   "outputs": [
    {
     "name": "stdout",
     "output_type": "stream",
     "text": [
      "[[-1.73201572 -0.06021785 -0.94022724 -1.1152488  -0.79876245 -1.17440893\n",
      "  -1.15350235 -1.19765493 -1.1254916 ]\n",
      " [-1.73194555 -0.06021785 -0.5481686  -0.58690972 -0.79876245 -0.62946669\n",
      "  -0.55233383 -0.65433444 -0.7766346 ]\n",
      " [-1.73187539 -1.27809371 -0.11254788 -0.16423845 -0.25680733 -0.70347119\n",
      "  -0.81502932 -0.42583517 -0.53877755]\n",
      " [-1.73180522 -1.27809371  0.80225562 -0.16423845  0.42063656  0.38865586\n",
      "   0.5792775   0.52878401  0.07965077]\n",
      " [-1.73173505 -0.06021785 -0.72241689 -0.74541144 -0.93425123 -0.9254847\n",
      "  -0.82008116 -0.93361133 -0.95502739]\n",
      " [-1.73166488  1.15765801  0.36663491  0.36410063  0.01417022  0.10833578\n",
      "  -0.24922365  0.22919607  0.37300779]\n",
      " [-1.73159471  1.15765801  1.36856256  1.26227706  1.09808045  1.83622879\n",
      "   1.97863616  2.46848893  1.29272171]\n",
      " [-1.73152454 -0.06021785 -0.50460653 -0.58690972 -0.52778489 -0.7539288\n",
      "  -0.78977014 -0.74573415 -0.78456317]\n",
      " [-1.73145437 -1.27809371 -0.02542374  0.15276499 -0.66327367  0.00966311\n",
      "  -0.35026038  0.1987295   0.48004347]\n",
      " [-1.7313842  -1.27809371  0.36663491  0.09993109 -0.39229611 -0.44894055\n",
      "  -0.53970424 -0.16686933 -0.34056335]]\n"
     ]
    }
   ],
   "source": [
    "test = sc_x.fit_transform(test)\n",
    "\n",
    "  \n",
    "print (test[0:10, :])"
   ]
  },
  {
   "cell_type": "code",
   "execution_count": 94,
   "id": "b452d5a9-8992-49d6-8455-9369b835c5b2",
   "metadata": {},
   "outputs": [
    {
     "name": "stdout",
     "output_type": "stream",
     "text": [
      "[[7.40510000e+04 1.00000000e+00 1.05000000e+00 7.62500000e-01\n",
      "  2.75000000e-01 8.61824800e+00 3.65708550e+00 1.72931950e+00\n",
      "  2.72155200e+00]\n",
      " [7.40520000e+04 1.00000000e+00 1.16250000e+00 8.87500000e-01\n",
      "  2.75000000e-01 1.55071765e+01 7.03067600e+00 3.24601775e+00\n",
      "  3.96893000e+00]\n",
      " [7.40530000e+04 2.66389957e-17 1.28750000e+00 9.87500000e-01\n",
      "  3.25000000e-01 1.45716430e+01 5.55650200e+00 3.88388150e+00\n",
      "  4.81941500e+00]\n",
      " [7.40540000e+04 2.66389957e-17 1.55000000e+00 9.87500000e-01\n",
      "  3.87500000e-01 2.83778495e+01 1.33809640e+01 6.54873450e+00\n",
      "  7.03067600e+00]\n",
      " [7.40550000e+04 1.00000000e+00 1.11250000e+00 8.50000000e-01\n",
      "  2.62500000e-01 1.17650425e+01 5.52815250e+00 2.46640650e+00\n",
      "  3.33106625e+00]\n",
      " [7.40560000e+04 2.00000000e+00 1.42500000e+00 1.11250000e+00\n",
      "  3.50000000e-01 2.48341620e+01 8.73164600e+00 5.71242425e+00\n",
      "  8.07960750e+00]\n",
      " [7.40570000e+04 2.00000000e+00 1.71250000e+00 1.32500000e+00\n",
      "  4.50000000e-01 4.66774518e+01 2.12337755e+01 1.19634890e+01\n",
      "  1.13681495e+01]\n",
      " [7.40580000e+04 1.00000000e+00 1.17500000e+00 8.87500000e-01\n",
      "  3.00000000e-01 1.39337793e+01 5.69824950e+00 2.99087225e+00\n",
      "  3.94058050e+00]\n",
      " [7.40590000e+04 2.66389957e-17 1.31250000e+00 1.06250000e+00\n",
      "  2.87500000e-01 2.35867840e+01 8.16465600e+00 5.62737575e+00\n",
      "  8.46232575e+00]\n",
      " [7.40600000e+04 2.66389957e-17 1.42500000e+00 1.05000000e+00\n",
      "  3.12500000e-01 1.77893113e+01 7.10154975e+00 4.60679375e+00\n",
      "  5.52815250e+00]]\n"
     ]
    },
    {
     "name": "stderr",
     "output_type": "stream",
     "text": [
      "C:\\Users\\ashwa\\anaconda3\\lib\\site-packages\\sklearn\\base.py:443: UserWarning: X has feature names, but StandardScaler was fitted without feature names\n",
      "  warnings.warn(\n"
     ]
    }
   ],
   "source": [
    "test = sc_x.transform(test)\n",
    "\n",
    "  \n",
    "print (test[0:10, :])"
   ]
  },
  {
   "cell_type": "code",
   "execution_count": 104,
   "id": "aaef26c4-a5f2-401e-86cf-ddfc86d9ba56",
   "metadata": {},
   "outputs": [
    {
     "data": {
      "text/plain": [
       "(49368, 9)"
      ]
     },
     "execution_count": 104,
     "metadata": {},
     "output_type": "execute_result"
    }
   ],
   "source": [
    "test.shape"
   ]
  },
  {
   "cell_type": "code",
   "execution_count": 96,
   "id": "1691c218-3a20-463a-9809-203241e34b42",
   "metadata": {},
   "outputs": [],
   "source": [
    "y_predict = model3.predict(test)"
   ]
  },
  {
   "cell_type": "code",
   "execution_count": 84,
   "id": "05e658fb-2dd0-4223-ad0b-c17f1b1b8af7",
   "metadata": {},
   "outputs": [],
   "source": [
    "sol = pd.read_csv('playground-series-s3e16 crab age/sample_submission.csv')"
   ]
  },
  {
   "cell_type": "code",
   "execution_count": 85,
   "id": "63c0d6b0-6003-4378-a97c-63747aaab9b8",
   "metadata": {},
   "outputs": [
    {
     "data": {
      "text/html": [
       "<div>\n",
       "<style scoped>\n",
       "    .dataframe tbody tr th:only-of-type {\n",
       "        vertical-align: middle;\n",
       "    }\n",
       "\n",
       "    .dataframe tbody tr th {\n",
       "        vertical-align: top;\n",
       "    }\n",
       "\n",
       "    .dataframe thead th {\n",
       "        text-align: right;\n",
       "    }\n",
       "</style>\n",
       "<table border=\"1\" class=\"dataframe\">\n",
       "  <thead>\n",
       "    <tr style=\"text-align: right;\">\n",
       "      <th></th>\n",
       "      <th>id</th>\n",
       "    </tr>\n",
       "  </thead>\n",
       "  <tbody>\n",
       "    <tr>\n",
       "      <th>0</th>\n",
       "      <td>74051</td>\n",
       "    </tr>\n",
       "    <tr>\n",
       "      <th>1</th>\n",
       "      <td>74052</td>\n",
       "    </tr>\n",
       "    <tr>\n",
       "      <th>2</th>\n",
       "      <td>74053</td>\n",
       "    </tr>\n",
       "    <tr>\n",
       "      <th>3</th>\n",
       "      <td>74054</td>\n",
       "    </tr>\n",
       "    <tr>\n",
       "      <th>4</th>\n",
       "      <td>74055</td>\n",
       "    </tr>\n",
       "    <tr>\n",
       "      <th>...</th>\n",
       "      <td>...</td>\n",
       "    </tr>\n",
       "    <tr>\n",
       "      <th>49363</th>\n",
       "      <td>123414</td>\n",
       "    </tr>\n",
       "    <tr>\n",
       "      <th>49364</th>\n",
       "      <td>123415</td>\n",
       "    </tr>\n",
       "    <tr>\n",
       "      <th>49365</th>\n",
       "      <td>123416</td>\n",
       "    </tr>\n",
       "    <tr>\n",
       "      <th>49366</th>\n",
       "      <td>123417</td>\n",
       "    </tr>\n",
       "    <tr>\n",
       "      <th>49367</th>\n",
       "      <td>123418</td>\n",
       "    </tr>\n",
       "  </tbody>\n",
       "</table>\n",
       "<p>49368 rows × 1 columns</p>\n",
       "</div>"
      ],
      "text/plain": [
       "           id\n",
       "0       74051\n",
       "1       74052\n",
       "2       74053\n",
       "3       74054\n",
       "4       74055\n",
       "...       ...\n",
       "49363  123414\n",
       "49364  123415\n",
       "49365  123416\n",
       "49366  123417\n",
       "49367  123418\n",
       "\n",
       "[49368 rows x 1 columns]"
      ]
     },
     "execution_count": 85,
     "metadata": {},
     "output_type": "execute_result"
    }
   ],
   "source": [
    "sol.drop(['Age'],axis=1)"
   ]
  },
  {
   "cell_type": "code",
   "execution_count": 97,
   "id": "8a5d7f5e-cb4a-414e-8265-71d187290b26",
   "metadata": {},
   "outputs": [],
   "source": [
    "sol['Age']=y_predict"
   ]
  },
  {
   "cell_type": "code",
   "execution_count": 98,
   "id": "014935ce-f80e-4ffb-bfa1-ad1d20ab29e1",
   "metadata": {},
   "outputs": [
    {
     "data": {
      "text/plain": [
       "(49368, 9)"
      ]
     },
     "execution_count": 98,
     "metadata": {},
     "output_type": "execute_result"
    }
   ],
   "source": [
    "test.shape"
   ]
  },
  {
   "cell_type": "code",
   "execution_count": 99,
   "id": "be83ffd0-07a2-4e5c-80ab-7b8966370f34",
   "metadata": {},
   "outputs": [
    {
     "data": {
      "text/plain": [
       "(49368, 2)"
      ]
     },
     "execution_count": 99,
     "metadata": {},
     "output_type": "execute_result"
    }
   ],
   "source": [
    "sol.shape"
   ]
  },
  {
   "cell_type": "code",
   "execution_count": 100,
   "id": "eb61b16a-ac97-479a-85e1-8f68daf9ac7c",
   "metadata": {},
   "outputs": [
    {
     "data": {
      "text/plain": [
       "(74051, 10)"
      ]
     },
     "execution_count": 100,
     "metadata": {},
     "output_type": "execute_result"
    }
   ],
   "source": [
    "df.shape"
   ]
  },
  {
   "cell_type": "code",
   "execution_count": 101,
   "id": "c36a5435-c5c6-496a-8e52-b74b38227188",
   "metadata": {},
   "outputs": [
    {
     "data": {
      "text/html": [
       "<div>\n",
       "<style scoped>\n",
       "    .dataframe tbody tr th:only-of-type {\n",
       "        vertical-align: middle;\n",
       "    }\n",
       "\n",
       "    .dataframe tbody tr th {\n",
       "        vertical-align: top;\n",
       "    }\n",
       "\n",
       "    .dataframe thead th {\n",
       "        text-align: right;\n",
       "    }\n",
       "</style>\n",
       "<table border=\"1\" class=\"dataframe\">\n",
       "  <thead>\n",
       "    <tr style=\"text-align: right;\">\n",
       "      <th></th>\n",
       "      <th>id</th>\n",
       "      <th>Age</th>\n",
       "    </tr>\n",
       "  </thead>\n",
       "  <tbody>\n",
       "    <tr>\n",
       "      <th>0</th>\n",
       "      <td>74051</td>\n",
       "      <td>11.198102</td>\n",
       "    </tr>\n",
       "    <tr>\n",
       "      <th>1</th>\n",
       "      <td>74052</td>\n",
       "      <td>11.198102</td>\n",
       "    </tr>\n",
       "    <tr>\n",
       "      <th>2</th>\n",
       "      <td>74053</td>\n",
       "      <td>11.198102</td>\n",
       "    </tr>\n",
       "    <tr>\n",
       "      <th>3</th>\n",
       "      <td>74054</td>\n",
       "      <td>11.198102</td>\n",
       "    </tr>\n",
       "    <tr>\n",
       "      <th>4</th>\n",
       "      <td>74055</td>\n",
       "      <td>11.198102</td>\n",
       "    </tr>\n",
       "  </tbody>\n",
       "</table>\n",
       "</div>"
      ],
      "text/plain": [
       "      id        Age\n",
       "0  74051  11.198102\n",
       "1  74052  11.198102\n",
       "2  74053  11.198102\n",
       "3  74054  11.198102\n",
       "4  74055  11.198102"
      ]
     },
     "execution_count": 101,
     "metadata": {},
     "output_type": "execute_result"
    }
   ],
   "source": [
    "sol.head()"
   ]
  },
  {
   "cell_type": "code",
   "execution_count": 102,
   "id": "36127c20-bea4-42da-b1c3-5f096c41bc00",
   "metadata": {},
   "outputs": [],
   "source": [
    "sol.to_csv('solution.csv',index=False)"
   ]
  },
  {
   "cell_type": "code",
   "execution_count": null,
   "id": "7e29b72a-c64d-486d-8af8-9a06d57695b1",
   "metadata": {},
   "outputs": [],
   "source": []
  }
 ],
 "metadata": {
  "kernelspec": {
   "display_name": "Python 3 (ipykernel)",
   "language": "python",
   "name": "python3"
  },
  "language_info": {
   "codemirror_mode": {
    "name": "ipython",
    "version": 3
   },
   "file_extension": ".py",
   "mimetype": "text/x-python",
   "name": "python",
   "nbconvert_exporter": "python",
   "pygments_lexer": "ipython3",
   "version": "3.9.12"
  }
 },
 "nbformat": 4,
 "nbformat_minor": 5
}
