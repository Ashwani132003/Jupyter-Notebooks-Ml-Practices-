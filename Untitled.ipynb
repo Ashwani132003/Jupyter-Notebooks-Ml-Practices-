{
 "cells": [
  {
   "cell_type": "code",
   "execution_count": null,
   "id": "417ffec8-ae85-47f8-bd93-b49455771233",
   "metadata": {},
   "outputs": [],
   "source": []
  },
  {
   "cell_type": "code",
   "execution_count": 1,
   "id": "0dc9e644-8727-466f-a027-3486a4c7d3f0",
   "metadata": {},
   "outputs": [],
   "source": [
    "import pandas as pd\n",
    "import numpy as np\n",
    "import matplotlib.pyplot as plt\n",
    "import seaborn as sns"
   ]
  },
  {
   "cell_type": "code",
   "execution_count": 2,
   "id": "31c8ebda-d0bc-46ca-aa17-9843e6b47d17",
   "metadata": {},
   "outputs": [],
   "source": [
    "df = pd.read_csv('zomato.csv')"
   ]
  },
  {
   "cell_type": "code",
   "execution_count": 3,
   "id": "6000b450-eb27-4034-9de6-db91db6c7ee2",
   "metadata": {},
   "outputs": [
    {
     "data": {
      "text/html": [
       "<div>\n",
       "<style scoped>\n",
       "    .dataframe tbody tr th:only-of-type {\n",
       "        vertical-align: middle;\n",
       "    }\n",
       "\n",
       "    .dataframe tbody tr th {\n",
       "        vertical-align: top;\n",
       "    }\n",
       "\n",
       "    .dataframe thead th {\n",
       "        text-align: right;\n",
       "    }\n",
       "</style>\n",
       "<table border=\"1\" class=\"dataframe\">\n",
       "  <thead>\n",
       "    <tr style=\"text-align: right;\">\n",
       "      <th></th>\n",
       "      <th>address</th>\n",
       "      <th>name</th>\n",
       "      <th>online_order</th>\n",
       "      <th>book_table</th>\n",
       "      <th>rate</th>\n",
       "      <th>votes</th>\n",
       "      <th>phone</th>\n",
       "      <th>location</th>\n",
       "      <th>rest_type</th>\n",
       "      <th>dish_liked</th>\n",
       "      <th>cuisines</th>\n",
       "      <th>approx_cost(for two people)</th>\n",
       "      <th>listed_in(type)</th>\n",
       "    </tr>\n",
       "  </thead>\n",
       "  <tbody>\n",
       "    <tr>\n",
       "      <th>0</th>\n",
       "      <td>942, 21st Main Road, 2nd Stage, Banashankari, ...</td>\n",
       "      <td>Jalsa</td>\n",
       "      <td>Yes</td>\n",
       "      <td>Yes</td>\n",
       "      <td>4.1/5</td>\n",
       "      <td>775</td>\n",
       "      <td>080 42297555\\r\\n+91 9743772233</td>\n",
       "      <td>Banashankari</td>\n",
       "      <td>Casual Dining</td>\n",
       "      <td>Pasta, Lunch Buffet, Masala Papad, Paneer Laja...</td>\n",
       "      <td>North Indian, Mughlai, Chinese</td>\n",
       "      <td>800</td>\n",
       "      <td>Buffet</td>\n",
       "    </tr>\n",
       "    <tr>\n",
       "      <th>1</th>\n",
       "      <td>2nd Floor, 80 Feet Road, Near Big Bazaar, 6th ...</td>\n",
       "      <td>Spice Elephant</td>\n",
       "      <td>Yes</td>\n",
       "      <td>No</td>\n",
       "      <td>4.1/5</td>\n",
       "      <td>787</td>\n",
       "      <td>080 41714161</td>\n",
       "      <td>Banashankari</td>\n",
       "      <td>Casual Dining</td>\n",
       "      <td>Momos, Lunch Buffet, Chocolate Nirvana, Thai G...</td>\n",
       "      <td>Chinese, North Indian, Thai</td>\n",
       "      <td>800</td>\n",
       "      <td>Buffet</td>\n",
       "    </tr>\n",
       "    <tr>\n",
       "      <th>2</th>\n",
       "      <td>1112, Next to KIMS Medical College, 17th Cross...</td>\n",
       "      <td>San Churro Cafe</td>\n",
       "      <td>Yes</td>\n",
       "      <td>No</td>\n",
       "      <td>3.8/5</td>\n",
       "      <td>918</td>\n",
       "      <td>+91 9663487993</td>\n",
       "      <td>Banashankari</td>\n",
       "      <td>Cafe, Casual Dining</td>\n",
       "      <td>Churros, Cannelloni, Minestrone Soup, Hot Choc...</td>\n",
       "      <td>Cafe, Mexican, Italian</td>\n",
       "      <td>800</td>\n",
       "      <td>Buffet</td>\n",
       "    </tr>\n",
       "    <tr>\n",
       "      <th>3</th>\n",
       "      <td>1st Floor, Annakuteera, 3rd Stage, Banashankar...</td>\n",
       "      <td>Addhuri Udupi Bhojana</td>\n",
       "      <td>No</td>\n",
       "      <td>No</td>\n",
       "      <td>3.7/5</td>\n",
       "      <td>88</td>\n",
       "      <td>+91 9620009302</td>\n",
       "      <td>Banashankari</td>\n",
       "      <td>Quick Bites</td>\n",
       "      <td>Masala Dosa</td>\n",
       "      <td>South Indian, North Indian</td>\n",
       "      <td>300</td>\n",
       "      <td>Buffet</td>\n",
       "    </tr>\n",
       "    <tr>\n",
       "      <th>4</th>\n",
       "      <td>10, 3rd Floor, Lakshmi Associates, Gandhi Baza...</td>\n",
       "      <td>Grand Village</td>\n",
       "      <td>No</td>\n",
       "      <td>No</td>\n",
       "      <td>3.8/5</td>\n",
       "      <td>166</td>\n",
       "      <td>+91 8026612447\\r\\n+91 9901210005</td>\n",
       "      <td>Basavanagudi</td>\n",
       "      <td>Casual Dining</td>\n",
       "      <td>Panipuri, Gol Gappe</td>\n",
       "      <td>North Indian, Rajasthani</td>\n",
       "      <td>600</td>\n",
       "      <td>Buffet</td>\n",
       "    </tr>\n",
       "  </tbody>\n",
       "</table>\n",
       "</div>"
      ],
      "text/plain": [
       "                                             address                   name  \\\n",
       "0  942, 21st Main Road, 2nd Stage, Banashankari, ...                  Jalsa   \n",
       "1  2nd Floor, 80 Feet Road, Near Big Bazaar, 6th ...         Spice Elephant   \n",
       "2  1112, Next to KIMS Medical College, 17th Cross...        San Churro Cafe   \n",
       "3  1st Floor, Annakuteera, 3rd Stage, Banashankar...  Addhuri Udupi Bhojana   \n",
       "4  10, 3rd Floor, Lakshmi Associates, Gandhi Baza...          Grand Village   \n",
       "\n",
       "  online_order book_table   rate votes                             phone  \\\n",
       "0          Yes        Yes  4.1/5   775    080 42297555\\r\\n+91 9743772233   \n",
       "1          Yes         No  4.1/5   787                      080 41714161   \n",
       "2          Yes         No  3.8/5   918                    +91 9663487993   \n",
       "3           No         No  3.7/5    88                    +91 9620009302   \n",
       "4           No         No  3.8/5   166  +91 8026612447\\r\\n+91 9901210005   \n",
       "\n",
       "       location            rest_type  \\\n",
       "0  Banashankari        Casual Dining   \n",
       "1  Banashankari        Casual Dining   \n",
       "2  Banashankari  Cafe, Casual Dining   \n",
       "3  Banashankari          Quick Bites   \n",
       "4  Basavanagudi        Casual Dining   \n",
       "\n",
       "                                          dish_liked  \\\n",
       "0  Pasta, Lunch Buffet, Masala Papad, Paneer Laja...   \n",
       "1  Momos, Lunch Buffet, Chocolate Nirvana, Thai G...   \n",
       "2  Churros, Cannelloni, Minestrone Soup, Hot Choc...   \n",
       "3                                        Masala Dosa   \n",
       "4                                Panipuri, Gol Gappe   \n",
       "\n",
       "                         cuisines approx_cost(for two people) listed_in(type)  \n",
       "0  North Indian, Mughlai, Chinese                         800          Buffet  \n",
       "1     Chinese, North Indian, Thai                         800          Buffet  \n",
       "2          Cafe, Mexican, Italian                         800          Buffet  \n",
       "3      South Indian, North Indian                         300          Buffet  \n",
       "4        North Indian, Rajasthani                         600          Buffet  "
      ]
     },
     "execution_count": 3,
     "metadata": {},
     "output_type": "execute_result"
    }
   ],
   "source": [
    "df.head()"
   ]
  },
  {
   "cell_type": "code",
   "execution_count": 5,
   "id": "858fa51f-ad34-459f-a596-80f3e9b8e463",
   "metadata": {},
   "outputs": [
    {
     "data": {
      "text/plain": [
       "address                           17\n",
       "name                              16\n",
       "online_order                      19\n",
       "book_table                        58\n",
       "rate                            7838\n",
       "votes                             78\n",
       "phone                           1296\n",
       "location                         126\n",
       "rest_type                        338\n",
       "dish_liked                     28225\n",
       "cuisines                         203\n",
       "approx_cost(for two people)      521\n",
       "listed_in(type)                 4610\n",
       "dtype: int64"
      ]
     },
     "execution_count": 5,
     "metadata": {},
     "output_type": "execute_result"
    }
   ],
   "source": [
    "df.isna().sum()"
   ]
  },
  {
   "cell_type": "code",
   "execution_count": 6,
   "id": "7d3d2ef3-5cec-4b9b-bfbc-0b10049c3af2",
   "metadata": {},
   "outputs": [
    {
     "data": {
      "text/plain": [
       "(56252, 13)"
      ]
     },
     "execution_count": 6,
     "metadata": {},
     "output_type": "execute_result"
    }
   ],
   "source": [
    "df.shape"
   ]
  },
  {
   "cell_type": "code",
   "execution_count": 10,
   "id": "0dd0690a-0215-41a0-830c-a447feeef3e3",
   "metadata": {},
   "outputs": [
    {
     "data": {
      "text/plain": [
       "11915"
      ]
     },
     "execution_count": 10,
     "metadata": {},
     "output_type": "execute_result"
    }
   ],
   "source": [
    "len(df.name.unique())"
   ]
  },
  {
   "cell_type": "code",
   "execution_count": 13,
   "id": "abb000e9-9d2a-4e2f-82b4-847395dd359e",
   "metadata": {},
   "outputs": [
    {
     "data": {
      "text/html": [
       "<div>\n",
       "<style scoped>\n",
       "    .dataframe tbody tr th:only-of-type {\n",
       "        vertical-align: middle;\n",
       "    }\n",
       "\n",
       "    .dataframe tbody tr th {\n",
       "        vertical-align: top;\n",
       "    }\n",
       "\n",
       "    .dataframe thead th {\n",
       "        text-align: right;\n",
       "    }\n",
       "</style>\n",
       "<table border=\"1\" class=\"dataframe\">\n",
       "  <thead>\n",
       "    <tr style=\"text-align: right;\">\n",
       "      <th></th>\n",
       "      <th>address</th>\n",
       "      <th>name</th>\n",
       "      <th>online_order</th>\n",
       "      <th>book_table</th>\n",
       "      <th>rate</th>\n",
       "      <th>votes</th>\n",
       "      <th>phone</th>\n",
       "      <th>location</th>\n",
       "      <th>rest_type</th>\n",
       "      <th>dish_liked</th>\n",
       "      <th>cuisines</th>\n",
       "      <th>approx_cost(for two people)</th>\n",
       "      <th>listed_in(type)</th>\n",
       "    </tr>\n",
       "  </thead>\n",
       "  <tbody>\n",
       "    <tr>\n",
       "      <th>0</th>\n",
       "      <td>942, 21st Main Road, 2nd Stage, Banashankari, ...</td>\n",
       "      <td>Jalsa</td>\n",
       "      <td>Yes</td>\n",
       "      <td>Yes</td>\n",
       "      <td>4.1/5</td>\n",
       "      <td>775</td>\n",
       "      <td>080 42297555\\r\\n+91 9743772233</td>\n",
       "      <td>Banashankari</td>\n",
       "      <td>Casual Dining</td>\n",
       "      <td>Pasta, Lunch Buffet, Masala Papad, Paneer Laja...</td>\n",
       "      <td>North Indian, Mughlai, Chinese</td>\n",
       "      <td>800</td>\n",
       "      <td>Buffet</td>\n",
       "    </tr>\n",
       "    <tr>\n",
       "      <th>472</th>\n",
       "      <td>942, 21st Main Road, 2nd Stage, Banashankari, ...</td>\n",
       "      <td>Jalsa</td>\n",
       "      <td>Yes</td>\n",
       "      <td>Yes</td>\n",
       "      <td>4.1/5</td>\n",
       "      <td>775</td>\n",
       "      <td>080 42297555\\r\\n+91 9743772233</td>\n",
       "      <td>Banashankari</td>\n",
       "      <td>Casual Dining</td>\n",
       "      <td>Pasta, Lunch Buffet, Masala Papad, Paneer Laja...</td>\n",
       "      <td>North Indian, Mughlai, Chinese</td>\n",
       "      <td>800</td>\n",
       "      <td>Delivery</td>\n",
       "    </tr>\n",
       "    <tr>\n",
       "      <th>579</th>\n",
       "      <td>942, 21st Main Road, 2nd Stage, Banashankari, ...</td>\n",
       "      <td>Jalsa</td>\n",
       "      <td>Yes</td>\n",
       "      <td>Yes</td>\n",
       "      <td>4.1/5</td>\n",
       "      <td>775</td>\n",
       "      <td>080 42297555\\r\\r\\r\\r\\n+91 9743772233</td>\n",
       "      <td>Banashankari</td>\n",
       "      <td>Casual Dining</td>\n",
       "      <td>Pasta, Lunch Buffet, Masala Papad, Paneer Laja...</td>\n",
       "      <td>North Indian, Mughlai, Chinese</td>\n",
       "      <td>800</td>\n",
       "      <td>Dine-out</td>\n",
       "    </tr>\n",
       "    <tr>\n",
       "      <th>2586</th>\n",
       "      <td>942, 21st Main Road, 2nd Stage, Banashankari, ...</td>\n",
       "      <td>Jalsa</td>\n",
       "      <td>Yes</td>\n",
       "      <td>Yes</td>\n",
       "      <td>4.1/5</td>\n",
       "      <td>775</td>\n",
       "      <td>080 42297555\\r\\n+91 9743772233</td>\n",
       "      <td>Banashankari</td>\n",
       "      <td>Casual Dining</td>\n",
       "      <td>Pasta, Lunch Buffet, Masala Papad, Paneer Laja...</td>\n",
       "      <td>North Indian, Mughlai, Chinese</td>\n",
       "      <td>800</td>\n",
       "      <td>Buffet</td>\n",
       "    </tr>\n",
       "    <tr>\n",
       "      <th>3086</th>\n",
       "      <td>942, 21st Main Road, 2nd Stage, Banashankari, ...</td>\n",
       "      <td>Jalsa</td>\n",
       "      <td>Yes</td>\n",
       "      <td>Yes</td>\n",
       "      <td>4.1/5</td>\n",
       "      <td>775</td>\n",
       "      <td>080 42297555\\r\\n+91 9743772233</td>\n",
       "      <td>Banashankari</td>\n",
       "      <td>Casual Dining</td>\n",
       "      <td>Pasta, Lunch Buffet, Masala Papad, Paneer Laja...</td>\n",
       "      <td>North Indian, Mughlai, Chinese</td>\n",
       "      <td>800</td>\n",
       "      <td>Delivery</td>\n",
       "    </tr>\n",
       "    <tr>\n",
       "      <th>3596</th>\n",
       "      <td>942, 21st Main Road, 2nd Stage, Banashankari, ...</td>\n",
       "      <td>Jalsa</td>\n",
       "      <td>Yes</td>\n",
       "      <td>Yes</td>\n",
       "      <td>4.1 /5</td>\n",
       "      <td>804</td>\n",
       "      <td>080 42297555\\n+91 9743772233</td>\n",
       "      <td>Banashankari</td>\n",
       "      <td>Casual Dining</td>\n",
       "      <td>Pasta, Lunch Buffet, Paneer Lajawab, Masala Pa...</td>\n",
       "      <td>North Indian, Mughlai, Chinese</td>\n",
       "      <td>800</td>\n",
       "      <td>Dine-out</td>\n",
       "    </tr>\n",
       "    <tr>\n",
       "      <th>8067</th>\n",
       "      <td>25/7, Doddannakundi, Outer Ring Road, Mahadeva...</td>\n",
       "      <td>Jalsa</td>\n",
       "      <td>Yes</td>\n",
       "      <td>Yes</td>\n",
       "      <td>4.2/5</td>\n",
       "      <td>2173</td>\n",
       "      <td>+91 7406617555\\r\\n+91 7406627555</td>\n",
       "      <td>Marathahalli</td>\n",
       "      <td>Casual Dining</td>\n",
       "      <td>Mutton Curry, Stuffed Mushroom, Laccha Paratha...</td>\n",
       "      <td>North Indian, Mughlai</td>\n",
       "      <td>1,500</td>\n",
       "      <td>Delivery</td>\n",
       "    </tr>\n",
       "    <tr>\n",
       "      <th>20696</th>\n",
       "      <td>942, 21st Main Road, 2nd Stage, Banashankari, ...</td>\n",
       "      <td>Jalsa</td>\n",
       "      <td>Yes</td>\n",
       "      <td>Yes</td>\n",
       "      <td>4.1/5</td>\n",
       "      <td>783</td>\n",
       "      <td>080 42297555\\r\\n+91 9743772233</td>\n",
       "      <td>Banashankari</td>\n",
       "      <td>Casual Dining</td>\n",
       "      <td>Pasta, Lunch Buffet, Masala Papad, Paneer Laja...</td>\n",
       "      <td>North Indian, Mughlai, Chinese</td>\n",
       "      <td>800</td>\n",
       "      <td>Buffet</td>\n",
       "    </tr>\n",
       "    <tr>\n",
       "      <th>21780</th>\n",
       "      <td>942, 21st Main Road, 2nd Stage, Banashankari, ...</td>\n",
       "      <td>Jalsa</td>\n",
       "      <td>Yes</td>\n",
       "      <td>Yes</td>\n",
       "      <td>4.1/5</td>\n",
       "      <td>783</td>\n",
       "      <td>080 42297555\\r\\n+91 9743772233</td>\n",
       "      <td>Banashankari</td>\n",
       "      <td>Casual Dining</td>\n",
       "      <td>Pasta, Lunch Buffet, Masala Papad, Paneer Laja...</td>\n",
       "      <td>North Indian, Mughlai, Chinese</td>\n",
       "      <td>800</td>\n",
       "      <td>Delivery</td>\n",
       "    </tr>\n",
       "    <tr>\n",
       "      <th>22724</th>\n",
       "      <td>942, 21st Main Road, 2nd Stage, Banashankari, ...</td>\n",
       "      <td>Jalsa</td>\n",
       "      <td>Yes</td>\n",
       "      <td>Yes</td>\n",
       "      <td>4.1 /5</td>\n",
       "      <td>783</td>\n",
       "      <td>080 42297555\\r\\n+91 9743772233</td>\n",
       "      <td>Banashankari</td>\n",
       "      <td>Casual Dining</td>\n",
       "      <td>Pasta, Lunch Buffet, Masala Papad, Paneer Laja...</td>\n",
       "      <td>North Indian, Mughlai, Chinese</td>\n",
       "      <td>800</td>\n",
       "      <td>Dine-out</td>\n",
       "    </tr>\n",
       "    <tr>\n",
       "      <th>44674</th>\n",
       "      <td>25/7, Doddannakundi, Outer Ring Road, Mahadeva...</td>\n",
       "      <td>Jalsa</td>\n",
       "      <td>Yes</td>\n",
       "      <td>Yes</td>\n",
       "      <td>4.2 /5</td>\n",
       "      <td>2189</td>\n",
       "      <td>+91 7406617555\\n+91 7406627555</td>\n",
       "      <td>Marathahalli</td>\n",
       "      <td>Casual Dining</td>\n",
       "      <td>Mutton Curry, Stuffed Mushroom, Laccha Paratha...</td>\n",
       "      <td>North Indian, Mughlai</td>\n",
       "      <td>1,500</td>\n",
       "      <td>Delivery</td>\n",
       "    </tr>\n",
       "  </tbody>\n",
       "</table>\n",
       "</div>"
      ],
      "text/plain": [
       "                                                 address   name online_order  \\\n",
       "0      942, 21st Main Road, 2nd Stage, Banashankari, ...  Jalsa          Yes   \n",
       "472    942, 21st Main Road, 2nd Stage, Banashankari, ...  Jalsa          Yes   \n",
       "579    942, 21st Main Road, 2nd Stage, Banashankari, ...  Jalsa          Yes   \n",
       "2586   942, 21st Main Road, 2nd Stage, Banashankari, ...  Jalsa          Yes   \n",
       "3086   942, 21st Main Road, 2nd Stage, Banashankari, ...  Jalsa          Yes   \n",
       "3596   942, 21st Main Road, 2nd Stage, Banashankari, ...  Jalsa          Yes   \n",
       "8067   25/7, Doddannakundi, Outer Ring Road, Mahadeva...  Jalsa          Yes   \n",
       "20696  942, 21st Main Road, 2nd Stage, Banashankari, ...  Jalsa          Yes   \n",
       "21780  942, 21st Main Road, 2nd Stage, Banashankari, ...  Jalsa          Yes   \n",
       "22724  942, 21st Main Road, 2nd Stage, Banashankari, ...  Jalsa          Yes   \n",
       "44674  25/7, Doddannakundi, Outer Ring Road, Mahadeva...  Jalsa          Yes   \n",
       "\n",
       "      book_table    rate votes                                 phone  \\\n",
       "0            Yes   4.1/5   775        080 42297555\\r\\n+91 9743772233   \n",
       "472          Yes   4.1/5   775        080 42297555\\r\\n+91 9743772233   \n",
       "579          Yes   4.1/5   775  080 42297555\\r\\r\\r\\r\\n+91 9743772233   \n",
       "2586         Yes   4.1/5   775        080 42297555\\r\\n+91 9743772233   \n",
       "3086         Yes   4.1/5   775        080 42297555\\r\\n+91 9743772233   \n",
       "3596         Yes  4.1 /5   804          080 42297555\\n+91 9743772233   \n",
       "8067         Yes   4.2/5  2173      +91 7406617555\\r\\n+91 7406627555   \n",
       "20696        Yes   4.1/5   783        080 42297555\\r\\n+91 9743772233   \n",
       "21780        Yes   4.1/5   783        080 42297555\\r\\n+91 9743772233   \n",
       "22724        Yes  4.1 /5   783        080 42297555\\r\\n+91 9743772233   \n",
       "44674        Yes  4.2 /5  2189        +91 7406617555\\n+91 7406627555   \n",
       "\n",
       "           location      rest_type  \\\n",
       "0      Banashankari  Casual Dining   \n",
       "472    Banashankari  Casual Dining   \n",
       "579    Banashankari  Casual Dining   \n",
       "2586   Banashankari  Casual Dining   \n",
       "3086   Banashankari  Casual Dining   \n",
       "3596   Banashankari  Casual Dining   \n",
       "8067   Marathahalli  Casual Dining   \n",
       "20696  Banashankari  Casual Dining   \n",
       "21780  Banashankari  Casual Dining   \n",
       "22724  Banashankari  Casual Dining   \n",
       "44674  Marathahalli  Casual Dining   \n",
       "\n",
       "                                              dish_liked  \\\n",
       "0      Pasta, Lunch Buffet, Masala Papad, Paneer Laja...   \n",
       "472    Pasta, Lunch Buffet, Masala Papad, Paneer Laja...   \n",
       "579    Pasta, Lunch Buffet, Masala Papad, Paneer Laja...   \n",
       "2586   Pasta, Lunch Buffet, Masala Papad, Paneer Laja...   \n",
       "3086   Pasta, Lunch Buffet, Masala Papad, Paneer Laja...   \n",
       "3596   Pasta, Lunch Buffet, Paneer Lajawab, Masala Pa...   \n",
       "8067   Mutton Curry, Stuffed Mushroom, Laccha Paratha...   \n",
       "20696  Pasta, Lunch Buffet, Masala Papad, Paneer Laja...   \n",
       "21780  Pasta, Lunch Buffet, Masala Papad, Paneer Laja...   \n",
       "22724  Pasta, Lunch Buffet, Masala Papad, Paneer Laja...   \n",
       "44674  Mutton Curry, Stuffed Mushroom, Laccha Paratha...   \n",
       "\n",
       "                             cuisines approx_cost(for two people)  \\\n",
       "0      North Indian, Mughlai, Chinese                         800   \n",
       "472    North Indian, Mughlai, Chinese                         800   \n",
       "579    North Indian, Mughlai, Chinese                         800   \n",
       "2586   North Indian, Mughlai, Chinese                         800   \n",
       "3086   North Indian, Mughlai, Chinese                         800   \n",
       "3596   North Indian, Mughlai, Chinese                         800   \n",
       "8067            North Indian, Mughlai                       1,500   \n",
       "20696  North Indian, Mughlai, Chinese                         800   \n",
       "21780  North Indian, Mughlai, Chinese                         800   \n",
       "22724  North Indian, Mughlai, Chinese                         800   \n",
       "44674           North Indian, Mughlai                       1,500   \n",
       "\n",
       "      listed_in(type)  \n",
       "0              Buffet  \n",
       "472          Delivery  \n",
       "579          Dine-out  \n",
       "2586           Buffet  \n",
       "3086         Delivery  \n",
       "3596         Dine-out  \n",
       "8067         Delivery  \n",
       "20696          Buffet  \n",
       "21780        Delivery  \n",
       "22724        Dine-out  \n",
       "44674        Delivery  "
      ]
     },
     "execution_count": 13,
     "metadata": {},
     "output_type": "execute_result"
    }
   ],
   "source": [
    "df[df.name == 'Jalsa']"
   ]
  },
  {
   "cell_type": "code",
   "execution_count": 4,
   "id": "4e39490e-b8c9-4121-a71f-62216947157f",
   "metadata": {},
   "outputs": [
    {
     "data": {
      "text/plain": [
       "Index(['address', 'name', 'online_order', 'book_table', 'rate', 'votes',\n",
       "       'phone', 'location', 'rest_type', 'dish_liked', 'cuisines',\n",
       "       'approx_cost(for two people)', 'listed_in(type)'],\n",
       "      dtype='object')"
      ]
     },
     "execution_count": 4,
     "metadata": {},
     "output_type": "execute_result"
    }
   ],
   "source": [
    "df.columns"
   ]
  },
  {
   "cell_type": "markdown",
   "id": "c55ce76e-7b09-4eba-95c5-13091fbd17d8",
   "metadata": {},
   "source": [
    "## What is the overall distribution of restaurants based on their online ordering availability?"
   ]
  },
  {
   "cell_type": "code",
   "execution_count": 15,
   "id": "f8a31137-6667-4bd5-b269-0da2a0ceb32b",
   "metadata": {},
   "outputs": [
    {
     "data": {
      "text/plain": [
       "array(['Yes', 'No', \" ('Rated 4.0'\", ...,\n",
       "       ' \"\"RATED\\\\n  Truly what a wonderful place. From the walk through the green route to the actual place',\n",
       "       ' dirty tables etc... is really a turn off...\\\\n\\\\nFood - 7/10\\\\n\\\\nVeg Nachos - Lacks the punch... wish the salsa tasted better... nd also wud be grt if u cud introduce an option without gluocumole (not really a fan of it)\\\\n\\\\nVeg Sheek Kabab - Tasted Grt',\n",
       "       \" 'RATED\\\\n  Beer cafe \"], dtype=object)"
      ]
     },
     "execution_count": 15,
     "metadata": {},
     "output_type": "execute_result"
    }
   ],
   "source": [
    "df.online_order.unique()"
   ]
  },
  {
   "cell_type": "code",
   "execution_count": 34,
   "id": "8c35b07d-b1d7-43ac-83f4-fb21dd95ed42",
   "metadata": {},
   "outputs": [
    {
     "data": {
      "text/html": [
       "<div>\n",
       "<style scoped>\n",
       "    .dataframe tbody tr th:only-of-type {\n",
       "        vertical-align: middle;\n",
       "    }\n",
       "\n",
       "    .dataframe tbody tr th {\n",
       "        vertical-align: top;\n",
       "    }\n",
       "\n",
       "    .dataframe thead th {\n",
       "        text-align: right;\n",
       "    }\n",
       "</style>\n",
       "<table border=\"1\" class=\"dataframe\">\n",
       "  <thead>\n",
       "    <tr style=\"text-align: right;\">\n",
       "      <th></th>\n",
       "      <th>address</th>\n",
       "      <th>name</th>\n",
       "      <th>online_order</th>\n",
       "      <th>book_table</th>\n",
       "      <th>rate</th>\n",
       "      <th>votes</th>\n",
       "      <th>phone</th>\n",
       "      <th>location</th>\n",
       "      <th>rest_type</th>\n",
       "      <th>dish_liked</th>\n",
       "      <th>cuisines</th>\n",
       "      <th>approx_cost(for two people)</th>\n",
       "      <th>listed_in(type)</th>\n",
       "    </tr>\n",
       "  </thead>\n",
       "  <tbody>\n",
       "  </tbody>\n",
       "</table>\n",
       "</div>"
      ],
      "text/plain": [
       "Empty DataFrame\n",
       "Columns: [address, name, online_order, book_table, rate, votes, phone, location, rest_type, dish_liked, cuisines, approx_cost(for two people), listed_in(type)]\n",
       "Index: []"
      ]
     },
     "execution_count": 34,
     "metadata": {},
     "output_type": "execute_result"
    }
   ],
   "source": []
  },
  {
   "cell_type": "code",
   "execution_count": null,
   "id": "f6088914-71e3-4dc0-943d-a7e9a2abeac6",
   "metadata": {},
   "outputs": [],
   "source": []
  },
  {
   "cell_type": "code",
   "execution_count": 35,
   "id": "33440105-234f-41ac-b0db-53c44242e5a6",
   "metadata": {},
   "outputs": [],
   "source": [
    "df=df[df['online_order'].isin(['Yes','No'])]"
   ]
  },
  {
   "cell_type": "code",
   "execution_count": 36,
   "id": "0eb2d801-1807-4ca6-8127-7bb555b11697",
   "metadata": {},
   "outputs": [
    {
     "data": {
      "text/plain": [
       "array(['Yes', 'No'], dtype=object)"
      ]
     },
     "execution_count": 36,
     "metadata": {},
     "output_type": "execute_result"
    }
   ],
   "source": [
    "df.online_order.unique()"
   ]
  },
  {
   "cell_type": "code",
   "execution_count": 37,
   "id": "eaf8af84-2e58-46ba-b958-71033ee6c365",
   "metadata": {},
   "outputs": [],
   "source": [
    "county = len(df[df.online_order=='Yes'])"
   ]
  },
  {
   "cell_type": "code",
   "execution_count": 38,
   "id": "3cc129ce-25d3-4117-8190-acc30ff93127",
   "metadata": {},
   "outputs": [
    {
     "data": {
      "text/plain": [
       "30444"
      ]
     },
     "execution_count": 38,
     "metadata": {},
     "output_type": "execute_result"
    }
   ],
   "source": [
    "county"
   ]
  },
  {
   "cell_type": "code",
   "execution_count": 39,
   "id": "5a651603-73ec-46cb-ab74-60061207aa69",
   "metadata": {},
   "outputs": [
    {
     "data": {
      "text/plain": [
       "21273"
      ]
     },
     "execution_count": 39,
     "metadata": {},
     "output_type": "execute_result"
    }
   ],
   "source": [
    "countn = len(df[df.online_order=='No'])\n",
    "countn"
   ]
  },
  {
   "cell_type": "code",
   "execution_count": 40,
   "id": "26e29b24-a8cf-407e-a572-bd677b151a82",
   "metadata": {},
   "outputs": [
    {
     "data": {
      "text/plain": [
       "51717"
      ]
     },
     "execution_count": 40,
     "metadata": {},
     "output_type": "execute_result"
    }
   ],
   "source": [
    "county+countn"
   ]
  },
  {
   "cell_type": "markdown",
   "id": "bb8cbe00-25a5-457c-8f6f-0a5174eb41a0",
   "metadata": {},
   "source": [
    "## Can you find the top 5 locations with the most number of restaurants listed in the dataset?"
   ]
  },
  {
   "cell_type": "code",
   "execution_count": 43,
   "id": "4df7fa77-7097-430f-8450-fe3b105be6b1",
   "metadata": {},
   "outputs": [
    {
     "data": {
      "text/plain": [
       "array(['Banashankari', 'Basavanagudi', 'Mysore Road', 'Jayanagar',\n",
       "       'Kumaraswamy Layout', 'Rajarajeshwari Nagar', 'Vijay Nagar',\n",
       "       'Uttarahalli', 'JP Nagar', 'South Bangalore', 'City Market',\n",
       "       'Nagarbhavi', 'Bannerghatta Road', 'BTM', 'Kanakapura Road',\n",
       "       'Bommanahalli', nan, 'CV Raman Nagar', 'Electronic City', 'HSR',\n",
       "       'Marathahalli', 'Sarjapur Road', 'Wilson Garden', 'Shanti Nagar',\n",
       "       'Koramangala 5th Block', 'Koramangala 8th Block', 'Richmond Road',\n",
       "       'Koramangala 7th Block', 'Jalahalli', 'Koramangala 4th Block',\n",
       "       'Bellandur', 'Whitefield', 'East Bangalore', 'Old Airport Road',\n",
       "       'Indiranagar', 'Koramangala 1st Block', 'Frazer Town', 'RT Nagar',\n",
       "       'MG Road', 'Brigade Road', 'Lavelle Road', 'Church Street',\n",
       "       'Ulsoor', 'Residency Road', 'Shivajinagar', 'Infantry Road',\n",
       "       'St. Marks Road', 'Cunningham Road', 'Race Course Road',\n",
       "       'Commercial Street', 'Vasanth Nagar', 'HBR Layout', 'Domlur',\n",
       "       'Ejipura', 'Jeevan Bhima Nagar', 'Old Madras Road', 'Malleshwaram',\n",
       "       'Seshadripuram', 'Kammanahalli', 'Koramangala 6th Block',\n",
       "       'Majestic', 'Langford Town', 'Central Bangalore', 'Sanjay Nagar',\n",
       "       'Brookefield', 'ITPL Main Road, Whitefield',\n",
       "       'Varthur Main Road, Whitefield', 'KR Puram',\n",
       "       'Koramangala 2nd Block', 'Koramangala 3rd Block', 'Koramangala',\n",
       "       'Hosur Road', 'Rajajinagar', 'Banaswadi', 'North Bangalore',\n",
       "       'Nagawara', 'Hennur', 'Kalyan Nagar', 'New BEL Road', 'Jakkur',\n",
       "       'Rammurthy Nagar', 'Thippasandra', 'Kaggadasapura', 'Hebbal',\n",
       "       'Kengeri', 'Sankey Road', 'Sadashiv Nagar', 'Basaveshwara Nagar',\n",
       "       'Yeshwantpur', 'West Bangalore', 'Magadi Road', 'Yelahanka',\n",
       "       'Sahakara Nagar', 'Peenya'], dtype=object)"
      ]
     },
     "execution_count": 43,
     "metadata": {},
     "output_type": "execute_result"
    }
   ],
   "source": [
    "locations=df.location.unique()\n",
    "locations"
   ]
  },
  {
   "cell_type": "code",
   "execution_count": 42,
   "id": "3ea891b6-c901-4fbf-8bec-d58f85f020e7",
   "metadata": {},
   "outputs": [
    {
     "data": {
      "text/plain": [
       "94"
      ]
     },
     "execution_count": 42,
     "metadata": {},
     "output_type": "execute_result"
    }
   ],
   "source": [
    "len(df.location.unique())"
   ]
  },
  {
   "cell_type": "code",
   "execution_count": 45,
   "id": "be6b718f-dd01-4a79-bea6-985f83c669ce",
   "metadata": {},
   "outputs": [
    {
     "data": {
      "text/plain": [
       "{'Banashankari': 906,\n",
       " 'Basavanagudi': 684,\n",
       " 'Mysore Road': 22,\n",
       " 'Jayanagar': 1926,\n",
       " 'Kumaraswamy Layout': 195,\n",
       " 'Rajarajeshwari Nagar': 2,\n",
       " 'Vijay Nagar': 80,\n",
       " 'Uttarahalli': 17,\n",
       " 'JP Nagar': 2235,\n",
       " 'South Bangalore': 107,\n",
       " 'City Market': 126,\n",
       " 'Nagarbhavi': 9,\n",
       " 'Bannerghatta Road': 1630,\n",
       " 'BTM': 5124,\n",
       " 'Kanakapura Road': 19,\n",
       " 'Bommanahalli': 238,\n",
       " nan: 0,\n",
       " 'CV Raman Nagar': 90,\n",
       " 'Electronic City': 1258,\n",
       " 'HSR': 2523,\n",
       " 'Marathahalli': 1846,\n",
       " 'Sarjapur Road': 1065,\n",
       " 'Wilson Garden': 246,\n",
       " 'Shanti Nagar': 511,\n",
       " 'Koramangala 5th Block': 2504,\n",
       " 'Koramangala 8th Block': 320,\n",
       " 'Richmond Road': 812,\n",
       " 'Koramangala 7th Block': 1181,\n",
       " 'Jalahalli': 38,\n",
       " 'Koramangala 4th Block': 1017,\n",
       " 'Bellandur': 1286,\n",
       " 'Whitefield': 2144,\n",
       " 'East Bangalore': 44,\n",
       " 'Old Airport Road': 446,\n",
       " 'Indiranagar': 2083,\n",
       " 'Koramangala 1st Block': 1238,\n",
       " 'Frazer Town': 727,\n",
       " 'RT Nagar': 80,\n",
       " 'MG Road': 918,\n",
       " 'Brigade Road': 1218,\n",
       " 'Lavelle Road': 529,\n",
       " 'Church Street': 569,\n",
       " 'Ulsoor': 1023,\n",
       " 'Residency Road': 675,\n",
       " 'Shivajinagar': 499,\n",
       " 'Infantry Road': 151,\n",
       " 'St. Marks Road': 352,\n",
       " 'Cunningham Road': 491,\n",
       " 'Race Course Road': 139,\n",
       " 'Commercial Street': 370,\n",
       " 'Vasanth Nagar': 295,\n",
       " 'HBR Layout': 153,\n",
       " 'Domlur': 496,\n",
       " 'Ejipura': 439,\n",
       " 'Jeevan Bhima Nagar': 272,\n",
       " 'Old Madras Road': 22,\n",
       " 'Malleshwaram': 725,\n",
       " 'Seshadripuram': 165,\n",
       " 'Kammanahalli': 648,\n",
       " 'Koramangala 6th Block': 1156,\n",
       " 'Majestic': 155,\n",
       " 'Langford Town': 27,\n",
       " 'Central Bangalore': 8,\n",
       " 'Sanjay Nagar': 76,\n",
       " 'Brookefield': 658,\n",
       " 'ITPL Main Road, Whitefield': 113,\n",
       " 'Varthur Main Road, Whitefield': 117,\n",
       " 'KR Puram': 18,\n",
       " 'Koramangala 2nd Block': 102,\n",
       " 'Koramangala 3rd Block': 216,\n",
       " 'Koramangala': 48,\n",
       " 'Hosur Road': 102,\n",
       " 'Rajajinagar': 591,\n",
       " 'Banaswadi': 664,\n",
       " 'North Bangalore': 14,\n",
       " 'Nagawara': 187,\n",
       " 'Hennur': 161,\n",
       " 'Kalyan Nagar': 853,\n",
       " 'New BEL Road': 649,\n",
       " 'Jakkur': 3,\n",
       " 'Rammurthy Nagar': 32,\n",
       " 'Thippasandra': 194,\n",
       " 'Kaggadasapura': 101,\n",
       " 'Hebbal': 14,\n",
       " 'Kengeri': 9,\n",
       " 'Sankey Road': 27,\n",
       " 'Sadashiv Nagar': 63,\n",
       " 'Basaveshwara Nagar': 191,\n",
       " 'Yeshwantpur': 119,\n",
       " 'West Bangalore': 6,\n",
       " 'Magadi Road': 34,\n",
       " 'Yelahanka': 6,\n",
       " 'Sahakara Nagar': 53,\n",
       " 'Peenya': 1}"
      ]
     },
     "execution_count": 45,
     "metadata": {},
     "output_type": "execute_result"
    }
   ],
   "source": [
    "dict = {}\n",
    "for i in locations:\n",
    "    count=len(df[df.location==i])\n",
    "    dict[i]=count\n",
    "dict    \n",
    "    "
   ]
  },
  {
   "cell_type": "code",
   "execution_count": 62,
   "id": "9b703381-e46b-4611-aa6c-5a6140fc5e0c",
   "metadata": {},
   "outputs": [
    {
     "data": {
      "text/plain": [
       "[('BTM', 5124),\n",
       " ('HSR', 2523),\n",
       " ('Koramangala 5th Block', 2504),\n",
       " ('JP Nagar', 2235),\n",
       " ('Whitefield', 2144),\n",
       " ('Indiranagar', 2083),\n",
       " ('Jayanagar', 1926),\n",
       " ('Marathahalli', 1846),\n",
       " ('Bannerghatta Road', 1630),\n",
       " ('Bellandur', 1286),\n",
       " ('Electronic City', 1258),\n",
       " ('Koramangala 1st Block', 1238),\n",
       " ('Brigade Road', 1218),\n",
       " ('Koramangala 7th Block', 1181),\n",
       " ('Koramangala 6th Block', 1156),\n",
       " ('Sarjapur Road', 1065),\n",
       " ('Ulsoor', 1023),\n",
       " ('Koramangala 4th Block', 1017),\n",
       " ('MG Road', 918),\n",
       " ('Banashankari', 906),\n",
       " ('Kalyan Nagar', 853),\n",
       " ('Richmond Road', 812),\n",
       " ('Frazer Town', 727),\n",
       " ('Malleshwaram', 725),\n",
       " ('Basavanagudi', 684),\n",
       " ('Residency Road', 675),\n",
       " ('Banaswadi', 664),\n",
       " ('Brookefield', 658),\n",
       " ('New BEL Road', 649),\n",
       " ('Kammanahalli', 648),\n",
       " ('Rajajinagar', 591),\n",
       " ('Church Street', 569),\n",
       " ('Lavelle Road', 529),\n",
       " ('Shanti Nagar', 511),\n",
       " ('Shivajinagar', 499),\n",
       " ('Domlur', 496),\n",
       " ('Cunningham Road', 491),\n",
       " ('Old Airport Road', 446),\n",
       " ('Ejipura', 439),\n",
       " ('Commercial Street', 370),\n",
       " ('St. Marks Road', 352),\n",
       " ('Koramangala 8th Block', 320),\n",
       " ('Vasanth Nagar', 295),\n",
       " ('Jeevan Bhima Nagar', 272),\n",
       " ('Wilson Garden', 246),\n",
       " ('Bommanahalli', 238),\n",
       " ('Koramangala 3rd Block', 216),\n",
       " ('Kumaraswamy Layout', 195),\n",
       " ('Thippasandra', 194),\n",
       " ('Basaveshwara Nagar', 191),\n",
       " ('Nagawara', 187),\n",
       " ('Seshadripuram', 165),\n",
       " ('Hennur', 161),\n",
       " ('Majestic', 155),\n",
       " ('HBR Layout', 153),\n",
       " ('Infantry Road', 151),\n",
       " ('Race Course Road', 139),\n",
       " ('City Market', 126),\n",
       " ('Yeshwantpur', 119),\n",
       " ('Varthur Main Road, Whitefield', 117),\n",
       " ('ITPL Main Road, Whitefield', 113),\n",
       " ('South Bangalore', 107),\n",
       " ('Koramangala 2nd Block', 102),\n",
       " ('Hosur Road', 102),\n",
       " ('Kaggadasapura', 101),\n",
       " ('CV Raman Nagar', 90),\n",
       " ('Vijay Nagar', 80),\n",
       " ('RT Nagar', 80),\n",
       " ('Sanjay Nagar', 76),\n",
       " ('Sadashiv Nagar', 63),\n",
       " ('Sahakara Nagar', 53),\n",
       " ('Koramangala', 48),\n",
       " ('East Bangalore', 44),\n",
       " ('Jalahalli', 38),\n",
       " ('Magadi Road', 34),\n",
       " ('Rammurthy Nagar', 32),\n",
       " ('Langford Town', 27),\n",
       " ('Sankey Road', 27),\n",
       " ('Mysore Road', 22),\n",
       " ('Old Madras Road', 22),\n",
       " ('Kanakapura Road', 19),\n",
       " ('KR Puram', 18),\n",
       " ('Uttarahalli', 17),\n",
       " ('North Bangalore', 14),\n",
       " ('Hebbal', 14),\n",
       " ('Nagarbhavi', 9),\n",
       " ('Kengeri', 9),\n",
       " ('Central Bangalore', 8),\n",
       " ('West Bangalore', 6),\n",
       " ('Yelahanka', 6),\n",
       " ('Jakkur', 3),\n",
       " ('Rajarajeshwari Nagar', 2),\n",
       " ('Peenya', 1),\n",
       " (nan, 0)]"
      ]
     },
     "execution_count": 62,
     "metadata": {},
     "output_type": "execute_result"
    }
   ],
   "source": [
    "highest = sorted(dict.items(), key=lambda item: item[1], reverse = True)\n",
    "highest"
   ]
  },
  {
   "cell_type": "code",
   "execution_count": 64,
   "id": "e99e5edd-dfbf-434e-8353-feefc368bcf3",
   "metadata": {},
   "outputs": [
    {
     "data": {
      "text/plain": [
       "['BTM', 'HSR', 'Koramangala 5th Block', 'JP Nagar', 'Whitefield']"
      ]
     },
     "execution_count": 64,
     "metadata": {},
     "output_type": "execute_result"
    }
   ],
   "source": [
    "top5 = [i[0] for i in highest[0:5]]\n",
    "top5"
   ]
  },
  {
   "cell_type": "markdown",
   "id": "7fe7ea22-9e5a-486e-87f5-e87da7372dbd",
   "metadata": {},
   "source": [
    "## Which type of restaurant (rest_type) has the highest average rating (rate)?"
   ]
  },
  {
   "cell_type": "code",
   "execution_count": 65,
   "id": "7bdec1ae-a043-45eb-ade5-08137a603e43",
   "metadata": {},
   "outputs": [
    {
     "data": {
      "text/html": [
       "<div>\n",
       "<style scoped>\n",
       "    .dataframe tbody tr th:only-of-type {\n",
       "        vertical-align: middle;\n",
       "    }\n",
       "\n",
       "    .dataframe tbody tr th {\n",
       "        vertical-align: top;\n",
       "    }\n",
       "\n",
       "    .dataframe thead th {\n",
       "        text-align: right;\n",
       "    }\n",
       "</style>\n",
       "<table border=\"1\" class=\"dataframe\">\n",
       "  <thead>\n",
       "    <tr style=\"text-align: right;\">\n",
       "      <th></th>\n",
       "      <th>address</th>\n",
       "      <th>name</th>\n",
       "      <th>online_order</th>\n",
       "      <th>book_table</th>\n",
       "      <th>rate</th>\n",
       "      <th>votes</th>\n",
       "      <th>phone</th>\n",
       "      <th>location</th>\n",
       "      <th>rest_type</th>\n",
       "      <th>dish_liked</th>\n",
       "      <th>cuisines</th>\n",
       "      <th>approx_cost(for two people)</th>\n",
       "      <th>listed_in(type)</th>\n",
       "    </tr>\n",
       "  </thead>\n",
       "  <tbody>\n",
       "    <tr>\n",
       "      <th>0</th>\n",
       "      <td>942, 21st Main Road, 2nd Stage, Banashankari, ...</td>\n",
       "      <td>Jalsa</td>\n",
       "      <td>Yes</td>\n",
       "      <td>Yes</td>\n",
       "      <td>4.1/5</td>\n",
       "      <td>775</td>\n",
       "      <td>080 42297555\\r\\n+91 9743772233</td>\n",
       "      <td>Banashankari</td>\n",
       "      <td>Casual Dining</td>\n",
       "      <td>Pasta, Lunch Buffet, Masala Papad, Paneer Laja...</td>\n",
       "      <td>North Indian, Mughlai, Chinese</td>\n",
       "      <td>800</td>\n",
       "      <td>Buffet</td>\n",
       "    </tr>\n",
       "    <tr>\n",
       "      <th>1</th>\n",
       "      <td>2nd Floor, 80 Feet Road, Near Big Bazaar, 6th ...</td>\n",
       "      <td>Spice Elephant</td>\n",
       "      <td>Yes</td>\n",
       "      <td>No</td>\n",
       "      <td>4.1/5</td>\n",
       "      <td>787</td>\n",
       "      <td>080 41714161</td>\n",
       "      <td>Banashankari</td>\n",
       "      <td>Casual Dining</td>\n",
       "      <td>Momos, Lunch Buffet, Chocolate Nirvana, Thai G...</td>\n",
       "      <td>Chinese, North Indian, Thai</td>\n",
       "      <td>800</td>\n",
       "      <td>Buffet</td>\n",
       "    </tr>\n",
       "    <tr>\n",
       "      <th>2</th>\n",
       "      <td>1112, Next to KIMS Medical College, 17th Cross...</td>\n",
       "      <td>San Churro Cafe</td>\n",
       "      <td>Yes</td>\n",
       "      <td>No</td>\n",
       "      <td>3.8/5</td>\n",
       "      <td>918</td>\n",
       "      <td>+91 9663487993</td>\n",
       "      <td>Banashankari</td>\n",
       "      <td>Cafe, Casual Dining</td>\n",
       "      <td>Churros, Cannelloni, Minestrone Soup, Hot Choc...</td>\n",
       "      <td>Cafe, Mexican, Italian</td>\n",
       "      <td>800</td>\n",
       "      <td>Buffet</td>\n",
       "    </tr>\n",
       "    <tr>\n",
       "      <th>3</th>\n",
       "      <td>1st Floor, Annakuteera, 3rd Stage, Banashankar...</td>\n",
       "      <td>Addhuri Udupi Bhojana</td>\n",
       "      <td>No</td>\n",
       "      <td>No</td>\n",
       "      <td>3.7/5</td>\n",
       "      <td>88</td>\n",
       "      <td>+91 9620009302</td>\n",
       "      <td>Banashankari</td>\n",
       "      <td>Quick Bites</td>\n",
       "      <td>Masala Dosa</td>\n",
       "      <td>South Indian, North Indian</td>\n",
       "      <td>300</td>\n",
       "      <td>Buffet</td>\n",
       "    </tr>\n",
       "    <tr>\n",
       "      <th>4</th>\n",
       "      <td>10, 3rd Floor, Lakshmi Associates, Gandhi Baza...</td>\n",
       "      <td>Grand Village</td>\n",
       "      <td>No</td>\n",
       "      <td>No</td>\n",
       "      <td>3.8/5</td>\n",
       "      <td>166</td>\n",
       "      <td>+91 8026612447\\r\\n+91 9901210005</td>\n",
       "      <td>Basavanagudi</td>\n",
       "      <td>Casual Dining</td>\n",
       "      <td>Panipuri, Gol Gappe</td>\n",
       "      <td>North Indian, Rajasthani</td>\n",
       "      <td>600</td>\n",
       "      <td>Buffet</td>\n",
       "    </tr>\n",
       "  </tbody>\n",
       "</table>\n",
       "</div>"
      ],
      "text/plain": [
       "                                             address                   name  \\\n",
       "0  942, 21st Main Road, 2nd Stage, Banashankari, ...                  Jalsa   \n",
       "1  2nd Floor, 80 Feet Road, Near Big Bazaar, 6th ...         Spice Elephant   \n",
       "2  1112, Next to KIMS Medical College, 17th Cross...        San Churro Cafe   \n",
       "3  1st Floor, Annakuteera, 3rd Stage, Banashankar...  Addhuri Udupi Bhojana   \n",
       "4  10, 3rd Floor, Lakshmi Associates, Gandhi Baza...          Grand Village   \n",
       "\n",
       "  online_order book_table   rate votes                             phone  \\\n",
       "0          Yes        Yes  4.1/5   775    080 42297555\\r\\n+91 9743772233   \n",
       "1          Yes         No  4.1/5   787                      080 41714161   \n",
       "2          Yes         No  3.8/5   918                    +91 9663487993   \n",
       "3           No         No  3.7/5    88                    +91 9620009302   \n",
       "4           No         No  3.8/5   166  +91 8026612447\\r\\n+91 9901210005   \n",
       "\n",
       "       location            rest_type  \\\n",
       "0  Banashankari        Casual Dining   \n",
       "1  Banashankari        Casual Dining   \n",
       "2  Banashankari  Cafe, Casual Dining   \n",
       "3  Banashankari          Quick Bites   \n",
       "4  Basavanagudi        Casual Dining   \n",
       "\n",
       "                                          dish_liked  \\\n",
       "0  Pasta, Lunch Buffet, Masala Papad, Paneer Laja...   \n",
       "1  Momos, Lunch Buffet, Chocolate Nirvana, Thai G...   \n",
       "2  Churros, Cannelloni, Minestrone Soup, Hot Choc...   \n",
       "3                                        Masala Dosa   \n",
       "4                                Panipuri, Gol Gappe   \n",
       "\n",
       "                         cuisines approx_cost(for two people) listed_in(type)  \n",
       "0  North Indian, Mughlai, Chinese                         800          Buffet  \n",
       "1     Chinese, North Indian, Thai                         800          Buffet  \n",
       "2          Cafe, Mexican, Italian                         800          Buffet  \n",
       "3      South Indian, North Indian                         300          Buffet  \n",
       "4        North Indian, Rajasthani                         600          Buffet  "
      ]
     },
     "execution_count": 65,
     "metadata": {},
     "output_type": "execute_result"
    }
   ],
   "source": [
    "df.head()"
   ]
  },
  {
   "cell_type": "code",
   "execution_count": 66,
   "id": "25c9f878-8bc0-4bfa-aa34-54e1cc1287b8",
   "metadata": {},
   "outputs": [
    {
     "data": {
      "text/plain": [
       "array(['4.1/5', '3.8/5', '3.7/5', '3.6/5', '4.6/5', '4.0/5', '4.2/5',\n",
       "       '3.9/5', '3.1/5', '3.0/5', '3.2/5', '3.3/5', '2.8/5', '4.4/5',\n",
       "       '4.3/5', 'NEW', '2.9/5', '3.5/5', nan, '2.6/5', '3.8 /5', '3.4/5',\n",
       "       '4.5/5', '2.5/5', '2.7/5', '4.7/5', '2.4/5', '2.2/5', '2.3/5',\n",
       "       '3.4 /5', '-', '3.6 /5', '4.8/5', '3.9 /5', '4.2 /5', '4.0 /5',\n",
       "       '4.1 /5', '3.7 /5', '3.1 /5', '2.9 /5', '3.3 /5', '2.8 /5',\n",
       "       '3.5 /5', '2.7 /5', '2.5 /5', '3.2 /5', '2.6 /5', '4.5 /5',\n",
       "       '4.3 /5', '4.4 /5', '4.9/5', '2.1/5', '2.0/5', '1.8/5', '4.6 /5',\n",
       "       '4.9 /5', '3.0 /5', '4.8 /5', '2.3 /5', '4.7 /5', '2.4 /5',\n",
       "       '2.1 /5', '2.2 /5', '2.0 /5', '1.8 /5'], dtype=object)"
      ]
     },
     "execution_count": 66,
     "metadata": {},
     "output_type": "execute_result"
    }
   ],
   "source": [
    "df.rate.unique()"
   ]
  },
  {
   "cell_type": "code",
   "execution_count": 128,
   "id": "772b8311-b1fb-471d-ad1a-57af0ec68fb3",
   "metadata": {},
   "outputs": [],
   "source": [
    "# df.rate.isnotin(['NEW'])"
   ]
  },
  {
   "cell_type": "code",
   "execution_count": 83,
   "id": "1798d37f-467c-4535-8d27-6f8fe6431e53",
   "metadata": {},
   "outputs": [],
   "source": [
    "ind=df[df['rate'] == 'NEW'].index"
   ]
  },
  {
   "cell_type": "code",
   "execution_count": 85,
   "id": "23c266ed-01cb-4336-8b14-b6c571042987",
   "metadata": {},
   "outputs": [],
   "source": [
    "df.drop(ind, inplace=True)"
   ]
  },
  {
   "cell_type": "code",
   "execution_count": 94,
   "id": "0b781b96-fc3c-4eca-96e0-a859046a0925",
   "metadata": {},
   "outputs": [],
   "source": [
    "ind=df[df.rate.isin(['NEW','-','nan', None])].index"
   ]
  },
  {
   "cell_type": "code",
   "execution_count": 95,
   "id": "be68f515-a523-45f9-97a2-20c193dcdf54",
   "metadata": {},
   "outputs": [],
   "source": [
    "df.drop(ind, inplace=True)\n"
   ]
  },
  {
   "cell_type": "code",
   "execution_count": 96,
   "id": "d7392984-84de-4e44-bd13-b5a825444604",
   "metadata": {},
   "outputs": [
    {
     "data": {
      "text/plain": [
       "array(['4.1/5', '3.8/5', '3.7/5', '3.6/5', '4.6/5', '4.0/5', '4.2/5',\n",
       "       '3.9/5', '3.1/5', '3.0/5', '3.2/5', '3.3/5', '2.8/5', '4.4/5',\n",
       "       '4.3/5', '2.9/5', '3.5/5', nan, '2.6/5', '3.8 /5', '3.4/5',\n",
       "       '4.5/5', '2.5/5', '2.7/5', '4.7/5', '2.4/5', '2.2/5', '2.3/5',\n",
       "       '3.4 /5', '3.6 /5', '4.8/5', '3.9 /5', '4.2 /5', '4.0 /5',\n",
       "       '4.1 /5', '3.7 /5', '3.1 /5', '2.9 /5', '3.3 /5', '2.8 /5',\n",
       "       '3.5 /5', '2.7 /5', '2.5 /5', '3.2 /5', '2.6 /5', '4.5 /5',\n",
       "       '4.3 /5', '4.4 /5', '4.9/5', '2.1/5', '2.0/5', '1.8/5', '4.6 /5',\n",
       "       '4.9 /5', '3.0 /5', '4.8 /5', '2.3 /5', '4.7 /5', '2.4 /5',\n",
       "       '2.1 /5', '2.2 /5', '2.0 /5', '1.8 /5'], dtype=object)"
      ]
     },
     "execution_count": 96,
     "metadata": {},
     "output_type": "execute_result"
    }
   ],
   "source": [
    "df.rate.unique()\n"
   ]
  },
  {
   "cell_type": "code",
   "execution_count": 99,
   "id": "48b1166b-7356-4995-b25d-3152050af8fc",
   "metadata": {},
   "outputs": [],
   "source": [
    "ind=df[df.rate.isna()].index"
   ]
  },
  {
   "cell_type": "code",
   "execution_count": 100,
   "id": "61d12af0-4355-46aa-9d87-d3604d2de8c5",
   "metadata": {},
   "outputs": [
    {
     "data": {
      "text/plain": [
       "Index([   92,    98,    99,   100,   115,   121,   122,   123,   124,   125,\n",
       "       ...\n",
       "       56148, 56150, 56151, 56154, 56155, 56156, 56199, 56245, 56248, 56249],\n",
       "      dtype='int64', length=7775)"
      ]
     },
     "execution_count": 100,
     "metadata": {},
     "output_type": "execute_result"
    }
   ],
   "source": [
    "ind"
   ]
  },
  {
   "cell_type": "code",
   "execution_count": 103,
   "id": "9075a927-354d-445f-b5b4-4731b7a7b187",
   "metadata": {},
   "outputs": [],
   "source": [
    "df.drop(ind, inplace=True)\n"
   ]
  },
  {
   "cell_type": "code",
   "execution_count": 104,
   "id": "1453f209-d9d9-4020-ad1b-c874fd71e193",
   "metadata": {},
   "outputs": [
    {
     "data": {
      "text/plain": [
       "array(['4.1/5', '3.8/5', '3.7/5', '3.6/5', '4.6/5', '4.0/5', '4.2/5',\n",
       "       '3.9/5', '3.1/5', '3.0/5', '3.2/5', '3.3/5', '2.8/5', '4.4/5',\n",
       "       '4.3/5', '2.9/5', '3.5/5', '2.6/5', '3.8 /5', '3.4/5', '4.5/5',\n",
       "       '2.5/5', '2.7/5', '4.7/5', '2.4/5', '2.2/5', '2.3/5', '3.4 /5',\n",
       "       '3.6 /5', '4.8/5', '3.9 /5', '4.2 /5', '4.0 /5', '4.1 /5',\n",
       "       '3.7 /5', '3.1 /5', '2.9 /5', '3.3 /5', '2.8 /5', '3.5 /5',\n",
       "       '2.7 /5', '2.5 /5', '3.2 /5', '2.6 /5', '4.5 /5', '4.3 /5',\n",
       "       '4.4 /5', '4.9/5', '2.1/5', '2.0/5', '1.8/5', '4.6 /5', '4.9 /5',\n",
       "       '3.0 /5', '4.8 /5', '2.3 /5', '4.7 /5', '2.4 /5', '2.1 /5',\n",
       "       '2.2 /5', '2.0 /5', '1.8 /5'], dtype=object)"
      ]
     },
     "execution_count": 104,
     "metadata": {},
     "output_type": "execute_result"
    }
   ],
   "source": [
    "df.rate.unique()\n"
   ]
  },
  {
   "cell_type": "code",
   "execution_count": 118,
   "id": "e27cb982-8b4d-406a-9c2b-cd76561b700a",
   "metadata": {},
   "outputs": [],
   "source": [
    "df['rating']=df.rate.apply(lambda rate:  float(rate.split('/')[0]))"
   ]
  },
  {
   "cell_type": "code",
   "execution_count": 119,
   "id": "39d82f7e-d776-4875-8615-3672d3c343c6",
   "metadata": {},
   "outputs": [
    {
     "data": {
      "text/html": [
       "<div>\n",
       "<style scoped>\n",
       "    .dataframe tbody tr th:only-of-type {\n",
       "        vertical-align: middle;\n",
       "    }\n",
       "\n",
       "    .dataframe tbody tr th {\n",
       "        vertical-align: top;\n",
       "    }\n",
       "\n",
       "    .dataframe thead th {\n",
       "        text-align: right;\n",
       "    }\n",
       "</style>\n",
       "<table border=\"1\" class=\"dataframe\">\n",
       "  <thead>\n",
       "    <tr style=\"text-align: right;\">\n",
       "      <th></th>\n",
       "      <th>address</th>\n",
       "      <th>name</th>\n",
       "      <th>online_order</th>\n",
       "      <th>book_table</th>\n",
       "      <th>rate</th>\n",
       "      <th>votes</th>\n",
       "      <th>phone</th>\n",
       "      <th>location</th>\n",
       "      <th>rest_type</th>\n",
       "      <th>dish_liked</th>\n",
       "      <th>cuisines</th>\n",
       "      <th>approx_cost(for two people)</th>\n",
       "      <th>listed_in(type)</th>\n",
       "      <th>rating</th>\n",
       "    </tr>\n",
       "  </thead>\n",
       "  <tbody>\n",
       "    <tr>\n",
       "      <th>0</th>\n",
       "      <td>942, 21st Main Road, 2nd Stage, Banashankari, ...</td>\n",
       "      <td>Jalsa</td>\n",
       "      <td>Yes</td>\n",
       "      <td>Yes</td>\n",
       "      <td>4.1/5</td>\n",
       "      <td>775</td>\n",
       "      <td>080 42297555\\r\\n+91 9743772233</td>\n",
       "      <td>Banashankari</td>\n",
       "      <td>Casual Dining</td>\n",
       "      <td>Pasta, Lunch Buffet, Masala Papad, Paneer Laja...</td>\n",
       "      <td>North Indian, Mughlai, Chinese</td>\n",
       "      <td>800</td>\n",
       "      <td>Buffet</td>\n",
       "      <td>4.1</td>\n",
       "    </tr>\n",
       "    <tr>\n",
       "      <th>1</th>\n",
       "      <td>2nd Floor, 80 Feet Road, Near Big Bazaar, 6th ...</td>\n",
       "      <td>Spice Elephant</td>\n",
       "      <td>Yes</td>\n",
       "      <td>No</td>\n",
       "      <td>4.1/5</td>\n",
       "      <td>787</td>\n",
       "      <td>080 41714161</td>\n",
       "      <td>Banashankari</td>\n",
       "      <td>Casual Dining</td>\n",
       "      <td>Momos, Lunch Buffet, Chocolate Nirvana, Thai G...</td>\n",
       "      <td>Chinese, North Indian, Thai</td>\n",
       "      <td>800</td>\n",
       "      <td>Buffet</td>\n",
       "      <td>4.1</td>\n",
       "    </tr>\n",
       "    <tr>\n",
       "      <th>2</th>\n",
       "      <td>1112, Next to KIMS Medical College, 17th Cross...</td>\n",
       "      <td>San Churro Cafe</td>\n",
       "      <td>Yes</td>\n",
       "      <td>No</td>\n",
       "      <td>3.8/5</td>\n",
       "      <td>918</td>\n",
       "      <td>+91 9663487993</td>\n",
       "      <td>Banashankari</td>\n",
       "      <td>Cafe, Casual Dining</td>\n",
       "      <td>Churros, Cannelloni, Minestrone Soup, Hot Choc...</td>\n",
       "      <td>Cafe, Mexican, Italian</td>\n",
       "      <td>800</td>\n",
       "      <td>Buffet</td>\n",
       "      <td>3.8</td>\n",
       "    </tr>\n",
       "    <tr>\n",
       "      <th>3</th>\n",
       "      <td>1st Floor, Annakuteera, 3rd Stage, Banashankar...</td>\n",
       "      <td>Addhuri Udupi Bhojana</td>\n",
       "      <td>No</td>\n",
       "      <td>No</td>\n",
       "      <td>3.7/5</td>\n",
       "      <td>88</td>\n",
       "      <td>+91 9620009302</td>\n",
       "      <td>Banashankari</td>\n",
       "      <td>Quick Bites</td>\n",
       "      <td>Masala Dosa</td>\n",
       "      <td>South Indian, North Indian</td>\n",
       "      <td>300</td>\n",
       "      <td>Buffet</td>\n",
       "      <td>3.7</td>\n",
       "    </tr>\n",
       "    <tr>\n",
       "      <th>4</th>\n",
       "      <td>10, 3rd Floor, Lakshmi Associates, Gandhi Baza...</td>\n",
       "      <td>Grand Village</td>\n",
       "      <td>No</td>\n",
       "      <td>No</td>\n",
       "      <td>3.8/5</td>\n",
       "      <td>166</td>\n",
       "      <td>+91 8026612447\\r\\n+91 9901210005</td>\n",
       "      <td>Basavanagudi</td>\n",
       "      <td>Casual Dining</td>\n",
       "      <td>Panipuri, Gol Gappe</td>\n",
       "      <td>North Indian, Rajasthani</td>\n",
       "      <td>600</td>\n",
       "      <td>Buffet</td>\n",
       "      <td>3.8</td>\n",
       "    </tr>\n",
       "  </tbody>\n",
       "</table>\n",
       "</div>"
      ],
      "text/plain": [
       "                                             address                   name  \\\n",
       "0  942, 21st Main Road, 2nd Stage, Banashankari, ...                  Jalsa   \n",
       "1  2nd Floor, 80 Feet Road, Near Big Bazaar, 6th ...         Spice Elephant   \n",
       "2  1112, Next to KIMS Medical College, 17th Cross...        San Churro Cafe   \n",
       "3  1st Floor, Annakuteera, 3rd Stage, Banashankar...  Addhuri Udupi Bhojana   \n",
       "4  10, 3rd Floor, Lakshmi Associates, Gandhi Baza...          Grand Village   \n",
       "\n",
       "  online_order book_table   rate votes                             phone  \\\n",
       "0          Yes        Yes  4.1/5   775    080 42297555\\r\\n+91 9743772233   \n",
       "1          Yes         No  4.1/5   787                      080 41714161   \n",
       "2          Yes         No  3.8/5   918                    +91 9663487993   \n",
       "3           No         No  3.7/5    88                    +91 9620009302   \n",
       "4           No         No  3.8/5   166  +91 8026612447\\r\\n+91 9901210005   \n",
       "\n",
       "       location            rest_type  \\\n",
       "0  Banashankari        Casual Dining   \n",
       "1  Banashankari        Casual Dining   \n",
       "2  Banashankari  Cafe, Casual Dining   \n",
       "3  Banashankari          Quick Bites   \n",
       "4  Basavanagudi        Casual Dining   \n",
       "\n",
       "                                          dish_liked  \\\n",
       "0  Pasta, Lunch Buffet, Masala Papad, Paneer Laja...   \n",
       "1  Momos, Lunch Buffet, Chocolate Nirvana, Thai G...   \n",
       "2  Churros, Cannelloni, Minestrone Soup, Hot Choc...   \n",
       "3                                        Masala Dosa   \n",
       "4                                Panipuri, Gol Gappe   \n",
       "\n",
       "                         cuisines approx_cost(for two people) listed_in(type)  \\\n",
       "0  North Indian, Mughlai, Chinese                         800          Buffet   \n",
       "1     Chinese, North Indian, Thai                         800          Buffet   \n",
       "2          Cafe, Mexican, Italian                         800          Buffet   \n",
       "3      South Indian, North Indian                         300          Buffet   \n",
       "4        North Indian, Rajasthani                         600          Buffet   \n",
       "\n",
       "   rating  \n",
       "0     4.1  \n",
       "1     4.1  \n",
       "2     3.8  \n",
       "3     3.7  \n",
       "4     3.8  "
      ]
     },
     "execution_count": 119,
     "metadata": {},
     "output_type": "execute_result"
    }
   ],
   "source": [
    "df.head()"
   ]
  },
  {
   "cell_type": "code",
   "execution_count": 120,
   "id": "b9584dda-d58e-46ca-a3d9-5c948788f703",
   "metadata": {},
   "outputs": [
    {
     "data": {
      "text/plain": [
       "count    41665.000000\n",
       "mean         3.700449\n",
       "std          0.440513\n",
       "min          1.800000\n",
       "25%          3.400000\n",
       "50%          3.700000\n",
       "75%          4.000000\n",
       "max          4.900000\n",
       "Name: rating, dtype: float64"
      ]
     },
     "execution_count": 120,
     "metadata": {},
     "output_type": "execute_result"
    }
   ],
   "source": [
    "(df.rating).describe()"
   ]
  },
  {
   "cell_type": "code",
   "execution_count": 124,
   "id": "2e119a99-ab54-41ea-81ec-0f5ea103027c",
   "metadata": {},
   "outputs": [],
   "source": [
    "high_rating = df.sort_values('rating', ascending=False)"
   ]
  },
  {
   "cell_type": "code",
   "execution_count": 125,
   "id": "08928fb3-42e2-48ae-9d09-775a91a42508",
   "metadata": {},
   "outputs": [
    {
     "data": {
      "text/html": [
       "<div>\n",
       "<style scoped>\n",
       "    .dataframe tbody tr th:only-of-type {\n",
       "        vertical-align: middle;\n",
       "    }\n",
       "\n",
       "    .dataframe tbody tr th {\n",
       "        vertical-align: top;\n",
       "    }\n",
       "\n",
       "    .dataframe thead th {\n",
       "        text-align: right;\n",
       "    }\n",
       "</style>\n",
       "<table border=\"1\" class=\"dataframe\">\n",
       "  <thead>\n",
       "    <tr style=\"text-align: right;\">\n",
       "      <th></th>\n",
       "      <th>address</th>\n",
       "      <th>name</th>\n",
       "      <th>online_order</th>\n",
       "      <th>book_table</th>\n",
       "      <th>rate</th>\n",
       "      <th>votes</th>\n",
       "      <th>phone</th>\n",
       "      <th>location</th>\n",
       "      <th>rest_type</th>\n",
       "      <th>dish_liked</th>\n",
       "      <th>cuisines</th>\n",
       "      <th>approx_cost(for two people)</th>\n",
       "      <th>listed_in(type)</th>\n",
       "      <th>rating</th>\n",
       "    </tr>\n",
       "  </thead>\n",
       "  <tbody>\n",
       "    <tr>\n",
       "      <th>37762</th>\n",
       "      <td>136, Ground Floor, 1st Cross, 5th Block, Jyoti...</td>\n",
       "      <td>Asia Kitchen By Mainland China</td>\n",
       "      <td>Yes</td>\n",
       "      <td>Yes</td>\n",
       "      <td>4.9 /5</td>\n",
       "      <td>2249</td>\n",
       "      <td>080 49652573</td>\n",
       "      <td>Koramangala 5th Block</td>\n",
       "      <td>Casual Dining, Bar</td>\n",
       "      <td>Noodles, Chicken Dim Sum, Pad Thai Noodle, Jum...</td>\n",
       "      <td>Asian, Chinese, Thai, Momos</td>\n",
       "      <td>1,500</td>\n",
       "      <td>NaN</td>\n",
       "      <td>4.9</td>\n",
       "    </tr>\n",
       "    <tr>\n",
       "      <th>40507</th>\n",
       "      <td>136, Ground Floor, 1st Cross, 5th Block, Jyoti...</td>\n",
       "      <td>Asia Kitchen By Mainland China</td>\n",
       "      <td>Yes</td>\n",
       "      <td>Yes</td>\n",
       "      <td>4.9 /5</td>\n",
       "      <td>2256</td>\n",
       "      <td>080 49652573</td>\n",
       "      <td>Koramangala 5th Block</td>\n",
       "      <td>Casual Dining, Bar</td>\n",
       "      <td>Noodles, Chicken Dim Sum, Pad Thai Noodle, Jum...</td>\n",
       "      <td>Asian, Chinese, Thai, Momos</td>\n",
       "      <td>1,500</td>\n",
       "      <td>NaN</td>\n",
       "      <td>4.9</td>\n",
       "    </tr>\n",
       "    <tr>\n",
       "      <th>11524</th>\n",
       "      <td>136, Ground Floor, 1st Cross, 5th Block, Jyoti...</td>\n",
       "      <td>Asia Kitchen By Mainland China</td>\n",
       "      <td>Yes</td>\n",
       "      <td>Yes</td>\n",
       "      <td>4.9/5</td>\n",
       "      <td>2178</td>\n",
       "      <td>080 49652573</td>\n",
       "      <td>Koramangala 5th Block</td>\n",
       "      <td>Casual Dining, Bar</td>\n",
       "      <td>Noodles, Chicken Dim Sum, Pad Thai Noodle, Jum...</td>\n",
       "      <td>Asian, Chinese, Thai, Momos</td>\n",
       "      <td>1,500</td>\n",
       "      <td>NaN</td>\n",
       "      <td>4.9</td>\n",
       "    </tr>\n",
       "    <tr>\n",
       "      <th>19062</th>\n",
       "      <td>65, Markham Road, Ashok Nagar, Brigade Road, B...</td>\n",
       "      <td>Belgian Waffle Factory</td>\n",
       "      <td>Yes</td>\n",
       "      <td>No</td>\n",
       "      <td>4.9/5</td>\n",
       "      <td>1735</td>\n",
       "      <td>+91 9481511911</td>\n",
       "      <td>Brigade Road</td>\n",
       "      <td>Dessert Parlor</td>\n",
       "      <td>Coffee, Berryblast, Nachos, Chocolate Waffles,...</td>\n",
       "      <td>Desserts</td>\n",
       "      <td>400</td>\n",
       "      <td>NaN</td>\n",
       "      <td>4.9</td>\n",
       "    </tr>\n",
       "    <tr>\n",
       "      <th>5158</th>\n",
       "      <td>Behind MK Retail, Sarjapur Road, Bangalore</td>\n",
       "      <td>Byg Brewski Brewing Company</td>\n",
       "      <td>Yes</td>\n",
       "      <td>Yes</td>\n",
       "      <td>4.9/5</td>\n",
       "      <td>16345</td>\n",
       "      <td>+91 8039514766</td>\n",
       "      <td>Sarjapur Road</td>\n",
       "      <td>Microbrewery</td>\n",
       "      <td>Cocktails, Dahi Kebab, Rajma Chawal, Butter Ch...</td>\n",
       "      <td>Continental, North Indian, Italian, South Indi...</td>\n",
       "      <td>1,600</td>\n",
       "      <td>NaN</td>\n",
       "      <td>4.9</td>\n",
       "    </tr>\n",
       "    <tr>\n",
       "      <th>...</th>\n",
       "      <td>...</td>\n",
       "      <td>...</td>\n",
       "      <td>...</td>\n",
       "      <td>...</td>\n",
       "      <td>...</td>\n",
       "      <td>...</td>\n",
       "      <td>...</td>\n",
       "      <td>...</td>\n",
       "      <td>...</td>\n",
       "      <td>...</td>\n",
       "      <td>...</td>\n",
       "      <td>...</td>\n",
       "      <td>...</td>\n",
       "      <td>...</td>\n",
       "    </tr>\n",
       "    <tr>\n",
       "      <th>6677</th>\n",
       "      <td>Maya International Hotel, 52/1, Church Street,...</td>\n",
       "      <td>Alibi - Maya International Hotel</td>\n",
       "      <td>No</td>\n",
       "      <td>No</td>\n",
       "      <td>1.8/5</td>\n",
       "      <td>224</td>\n",
       "      <td>080 25594366\\r\\n080 25596349</td>\n",
       "      <td>Church Street</td>\n",
       "      <td>Casual Dining</td>\n",
       "      <td>Dj</td>\n",
       "      <td>North Indian, Continental, Chinese</td>\n",
       "      <td>1,200</td>\n",
       "      <td>NaN</td>\n",
       "      <td>1.8</td>\n",
       "    </tr>\n",
       "    <tr>\n",
       "      <th>52644</th>\n",
       "      <td>Maya International Hotel, 52/1, Church Street,...</td>\n",
       "      <td>Alibi - Maya International Hotel</td>\n",
       "      <td>No</td>\n",
       "      <td>No</td>\n",
       "      <td>1.8 /5</td>\n",
       "      <td>225</td>\n",
       "      <td>080 25594366\\n080 25596349</td>\n",
       "      <td>Church Street</td>\n",
       "      <td>Casual Dining</td>\n",
       "      <td>Dj</td>\n",
       "      <td>North Indian, Continental, Chinese</td>\n",
       "      <td>1,200</td>\n",
       "      <td>NaN</td>\n",
       "      <td>1.8</td>\n",
       "    </tr>\n",
       "    <tr>\n",
       "      <th>41982</th>\n",
       "      <td>Maya International Hotel, 52/1, Church Street,...</td>\n",
       "      <td>Alibi - Maya International Hotel</td>\n",
       "      <td>No</td>\n",
       "      <td>No</td>\n",
       "      <td>1.8 /5</td>\n",
       "      <td>225</td>\n",
       "      <td>080 25594366\\n080 25596349</td>\n",
       "      <td>Church Street</td>\n",
       "      <td>Casual Dining</td>\n",
       "      <td>Dj</td>\n",
       "      <td>North Indian, Continental, Chinese</td>\n",
       "      <td>1,200</td>\n",
       "      <td>NaN</td>\n",
       "      <td>1.8</td>\n",
       "    </tr>\n",
       "    <tr>\n",
       "      <th>13329</th>\n",
       "      <td>Maya International Hotel, 52/1, Church Street,...</td>\n",
       "      <td>Alibi - Maya International Hotel</td>\n",
       "      <td>No</td>\n",
       "      <td>No</td>\n",
       "      <td>1.8/5</td>\n",
       "      <td>224</td>\n",
       "      <td>080 25594366\\r\\n080 25596349</td>\n",
       "      <td>Church Street</td>\n",
       "      <td>Casual Dining</td>\n",
       "      <td>Dj</td>\n",
       "      <td>North Indian, Continental, Chinese</td>\n",
       "      <td>1,200</td>\n",
       "      <td>NaN</td>\n",
       "      <td>1.8</td>\n",
       "    </tr>\n",
       "    <tr>\n",
       "      <th>47131</th>\n",
       "      <td>Maya International Hotel, 52/1, Church Street,...</td>\n",
       "      <td>Alibi - Maya International Hotel</td>\n",
       "      <td>No</td>\n",
       "      <td>No</td>\n",
       "      <td>1.8 /5</td>\n",
       "      <td>225</td>\n",
       "      <td>080 25594366\\n080 25596349</td>\n",
       "      <td>Church Street</td>\n",
       "      <td>Casual Dining</td>\n",
       "      <td>Dj</td>\n",
       "      <td>North Indian, Continental, Chinese</td>\n",
       "      <td>1,200</td>\n",
       "      <td>NaN</td>\n",
       "      <td>1.8</td>\n",
       "    </tr>\n",
       "  </tbody>\n",
       "</table>\n",
       "<p>41665 rows × 14 columns</p>\n",
       "</div>"
      ],
      "text/plain": [
       "                                                 address  \\\n",
       "37762  136, Ground Floor, 1st Cross, 5th Block, Jyoti...   \n",
       "40507  136, Ground Floor, 1st Cross, 5th Block, Jyoti...   \n",
       "11524  136, Ground Floor, 1st Cross, 5th Block, Jyoti...   \n",
       "19062  65, Markham Road, Ashok Nagar, Brigade Road, B...   \n",
       "5158          Behind MK Retail, Sarjapur Road, Bangalore   \n",
       "...                                                  ...   \n",
       "6677   Maya International Hotel, 52/1, Church Street,...   \n",
       "52644  Maya International Hotel, 52/1, Church Street,...   \n",
       "41982  Maya International Hotel, 52/1, Church Street,...   \n",
       "13329  Maya International Hotel, 52/1, Church Street,...   \n",
       "47131  Maya International Hotel, 52/1, Church Street,...   \n",
       "\n",
       "                                   name online_order book_table    rate  \\\n",
       "37762    Asia Kitchen By Mainland China          Yes        Yes  4.9 /5   \n",
       "40507    Asia Kitchen By Mainland China          Yes        Yes  4.9 /5   \n",
       "11524    Asia Kitchen By Mainland China          Yes        Yes   4.9/5   \n",
       "19062            Belgian Waffle Factory          Yes         No   4.9/5   \n",
       "5158        Byg Brewski Brewing Company          Yes        Yes   4.9/5   \n",
       "...                                 ...          ...        ...     ...   \n",
       "6677   Alibi - Maya International Hotel           No         No   1.8/5   \n",
       "52644  Alibi - Maya International Hotel           No         No  1.8 /5   \n",
       "41982  Alibi - Maya International Hotel           No         No  1.8 /5   \n",
       "13329  Alibi - Maya International Hotel           No         No   1.8/5   \n",
       "47131  Alibi - Maya International Hotel           No         No  1.8 /5   \n",
       "\n",
       "       votes                         phone               location  \\\n",
       "37762   2249                  080 49652573  Koramangala 5th Block   \n",
       "40507   2256                  080 49652573  Koramangala 5th Block   \n",
       "11524   2178                  080 49652573  Koramangala 5th Block   \n",
       "19062   1735                +91 9481511911           Brigade Road   \n",
       "5158   16345                +91 8039514766          Sarjapur Road   \n",
       "...      ...                           ...                    ...   \n",
       "6677     224  080 25594366\\r\\n080 25596349          Church Street   \n",
       "52644    225    080 25594366\\n080 25596349          Church Street   \n",
       "41982    225    080 25594366\\n080 25596349          Church Street   \n",
       "13329    224  080 25594366\\r\\n080 25596349          Church Street   \n",
       "47131    225    080 25594366\\n080 25596349          Church Street   \n",
       "\n",
       "                rest_type                                         dish_liked  \\\n",
       "37762  Casual Dining, Bar  Noodles, Chicken Dim Sum, Pad Thai Noodle, Jum...   \n",
       "40507  Casual Dining, Bar  Noodles, Chicken Dim Sum, Pad Thai Noodle, Jum...   \n",
       "11524  Casual Dining, Bar  Noodles, Chicken Dim Sum, Pad Thai Noodle, Jum...   \n",
       "19062      Dessert Parlor  Coffee, Berryblast, Nachos, Chocolate Waffles,...   \n",
       "5158         Microbrewery  Cocktails, Dahi Kebab, Rajma Chawal, Butter Ch...   \n",
       "...                   ...                                                ...   \n",
       "6677        Casual Dining                                                 Dj   \n",
       "52644       Casual Dining                                                 Dj   \n",
       "41982       Casual Dining                                                 Dj   \n",
       "13329       Casual Dining                                                 Dj   \n",
       "47131       Casual Dining                                                 Dj   \n",
       "\n",
       "                                                cuisines  \\\n",
       "37762                        Asian, Chinese, Thai, Momos   \n",
       "40507                        Asian, Chinese, Thai, Momos   \n",
       "11524                        Asian, Chinese, Thai, Momos   \n",
       "19062                                           Desserts   \n",
       "5158   Continental, North Indian, Italian, South Indi...   \n",
       "...                                                  ...   \n",
       "6677                  North Indian, Continental, Chinese   \n",
       "52644                 North Indian, Continental, Chinese   \n",
       "41982                 North Indian, Continental, Chinese   \n",
       "13329                 North Indian, Continental, Chinese   \n",
       "47131                 North Indian, Continental, Chinese   \n",
       "\n",
       "      approx_cost(for two people) listed_in(type)  rating  \n",
       "37762                       1,500             NaN     4.9  \n",
       "40507                       1,500             NaN     4.9  \n",
       "11524                       1,500             NaN     4.9  \n",
       "19062                         400             NaN     4.9  \n",
       "5158                        1,600             NaN     4.9  \n",
       "...                           ...             ...     ...  \n",
       "6677                        1,200             NaN     1.8  \n",
       "52644                       1,200             NaN     1.8  \n",
       "41982                       1,200             NaN     1.8  \n",
       "13329                       1,200             NaN     1.8  \n",
       "47131                       1,200             NaN     1.8  \n",
       "\n",
       "[41665 rows x 14 columns]"
      ]
     },
     "execution_count": 125,
     "metadata": {},
     "output_type": "execute_result"
    }
   ],
   "source": [
    "high_rating"
   ]
  },
  {
   "cell_type": "code",
   "execution_count": 127,
   "id": "7c451b2b-5bc1-4f15-8d9e-e6054df99773",
   "metadata": {},
   "outputs": [
    {
     "data": {
      "text/plain": [
       "(41665, 14)"
      ]
     },
     "execution_count": 127,
     "metadata": {},
     "output_type": "execute_result"
    }
   ],
   "source": [
    "df.shape"
   ]
  },
  {
   "cell_type": "code",
   "execution_count": 129,
   "id": "a889a3c6-7024-4236-81f6-dab59105c32d",
   "metadata": {},
   "outputs": [
    {
     "data": {
      "text/plain": [
       "array(['Casual Dining', 'Cafe, Casual Dining', 'Quick Bites',\n",
       "       'Casual Dining, Cafe', 'Cafe', 'Quick Bites, Cafe',\n",
       "       'Cafe, Quick Bites', 'Delivery', 'Mess', 'Dessert Parlor',\n",
       "       'Bakery, Dessert Parlor', 'Pub', 'Bakery', 'Takeaway, Delivery',\n",
       "       'Fine Dining', 'Beverage Shop', 'Sweet Shop', 'Bar',\n",
       "       'Dessert Parlor, Sweet Shop', 'Bakery, Quick Bites',\n",
       "       'Sweet Shop, Quick Bites', 'Kiosk', 'Food Truck',\n",
       "       'Quick Bites, Dessert Parlor', 'Beverage Shop, Quick Bites',\n",
       "       'Beverage Shop, Dessert Parlor', 'Takeaway', 'Pub, Casual Dining',\n",
       "       'Casual Dining, Bar', 'Dessert Parlor, Beverage Shop',\n",
       "       'Quick Bites, Bakery', 'Microbrewery, Casual Dining', 'Lounge',\n",
       "       'Bar, Casual Dining', 'Food Court', 'Cafe, Bakery', nan, 'Dhaba',\n",
       "       'Quick Bites, Sweet Shop', 'Microbrewery',\n",
       "       'Food Court, Quick Bites', 'Quick Bites, Beverage Shop',\n",
       "       'Pub, Bar', 'Casual Dining, Pub', 'Lounge, Bar',\n",
       "       'Dessert Parlor, Quick Bites', 'Food Court, Dessert Parlor',\n",
       "       'Casual Dining, Sweet Shop', 'Food Court, Casual Dining',\n",
       "       'Casual Dining, Microbrewery', 'Lounge, Casual Dining',\n",
       "       'Cafe, Food Court', 'Beverage Shop, Cafe', 'Cafe, Dessert Parlor',\n",
       "       'Dessert Parlor, Cafe', 'Dessert Parlor, Bakery',\n",
       "       'Microbrewery, Pub', 'Bakery, Food Court', 'Club',\n",
       "       'Quick Bites, Food Court', 'Bakery, Cafe', 'Pub, Cafe',\n",
       "       'Casual Dining, Irani Cafee', 'Fine Dining, Lounge',\n",
       "       'Bar, Quick Bites', 'Confectionery', 'Pub, Microbrewery',\n",
       "       'Microbrewery, Lounge', 'Fine Dining, Microbrewery',\n",
       "       'Fine Dining, Bar', 'Dessert Parlor, Kiosk', 'Bhojanalya',\n",
       "       'Casual Dining, Quick Bites', 'Cafe, Bar', 'Casual Dining, Lounge',\n",
       "       'Bakery, Beverage Shop', 'Microbrewery, Bar', 'Cafe, Lounge',\n",
       "       'Bar, Pub', 'Lounge, Cafe', 'Club, Casual Dining',\n",
       "       'Quick Bites, Mess', 'Quick Bites, Meat Shop',\n",
       "       'Quick Bites, Kiosk', 'Lounge, Microbrewery',\n",
       "       'Food Court, Beverage Shop', 'Dessert Parlor, Food Court',\n",
       "       'Bar, Lounge'], dtype=object)"
      ]
     },
     "execution_count": 129,
     "metadata": {},
     "output_type": "execute_result"
    }
   ],
   "source": [
    "df.rest_type.unique()"
   ]
  },
  {
   "cell_type": "code",
   "execution_count": 131,
   "id": "a6499dae-072f-498c-9ab1-bfde9478857a",
   "metadata": {},
   "outputs": [
    {
     "data": {
      "text/plain": [
       "address                            0\n",
       "name                               0\n",
       "online_order                       0\n",
       "book_table                         0\n",
       "rate                               0\n",
       "votes                              0\n",
       "phone                            814\n",
       "location                           0\n",
       "rest_type                        149\n",
       "dish_liked                     18203\n",
       "cuisines                          11\n",
       "approx_cost(for two people)      247\n",
       "listed_in(type)                 4346\n",
       "rating                             0\n",
       "dtype: int64"
      ]
     },
     "execution_count": 131,
     "metadata": {},
     "output_type": "execute_result"
    }
   ],
   "source": [
    "df.isna().sum()"
   ]
  },
  {
   "cell_type": "code",
   "execution_count": 132,
   "id": "6634666a-52c8-4a47-862c-c626484cf98a",
   "metadata": {},
   "outputs": [],
   "source": [
    "rest_nan = df[df.rest_type.isna()].index"
   ]
  },
  {
   "cell_type": "code",
   "execution_count": 153,
   "id": "84631fe4-b5e9-4aa2-9522-940181e4d1f1",
   "metadata": {},
   "outputs": [],
   "source": [
    "rest_data = high_rating.drop(rest_nan)"
   ]
  },
  {
   "cell_type": "code",
   "execution_count": 154,
   "id": "b2434d1e-9ada-46cb-a6b4-ea64c062405b",
   "metadata": {},
   "outputs": [
    {
     "data": {
      "text/html": [
       "<div>\n",
       "<style scoped>\n",
       "    .dataframe tbody tr th:only-of-type {\n",
       "        vertical-align: middle;\n",
       "    }\n",
       "\n",
       "    .dataframe tbody tr th {\n",
       "        vertical-align: top;\n",
       "    }\n",
       "\n",
       "    .dataframe thead th {\n",
       "        text-align: right;\n",
       "    }\n",
       "</style>\n",
       "<table border=\"1\" class=\"dataframe\">\n",
       "  <thead>\n",
       "    <tr style=\"text-align: right;\">\n",
       "      <th></th>\n",
       "      <th>address</th>\n",
       "      <th>name</th>\n",
       "      <th>online_order</th>\n",
       "      <th>book_table</th>\n",
       "      <th>rate</th>\n",
       "      <th>votes</th>\n",
       "      <th>phone</th>\n",
       "      <th>location</th>\n",
       "      <th>rest_type</th>\n",
       "      <th>dish_liked</th>\n",
       "      <th>cuisines</th>\n",
       "      <th>approx_cost(for two people)</th>\n",
       "      <th>listed_in(type)</th>\n",
       "      <th>rating</th>\n",
       "    </tr>\n",
       "  </thead>\n",
       "  <tbody>\n",
       "    <tr>\n",
       "      <th>37762</th>\n",
       "      <td>136, Ground Floor, 1st Cross, 5th Block, Jyoti...</td>\n",
       "      <td>Asia Kitchen By Mainland China</td>\n",
       "      <td>Yes</td>\n",
       "      <td>Yes</td>\n",
       "      <td>4.9 /5</td>\n",
       "      <td>2249</td>\n",
       "      <td>080 49652573</td>\n",
       "      <td>Koramangala 5th Block</td>\n",
       "      <td>Casual Dining, Bar</td>\n",
       "      <td>Noodles, Chicken Dim Sum, Pad Thai Noodle, Jum...</td>\n",
       "      <td>Asian, Chinese, Thai, Momos</td>\n",
       "      <td>1,500</td>\n",
       "      <td>NaN</td>\n",
       "      <td>4.9</td>\n",
       "    </tr>\n",
       "    <tr>\n",
       "      <th>40507</th>\n",
       "      <td>136, Ground Floor, 1st Cross, 5th Block, Jyoti...</td>\n",
       "      <td>Asia Kitchen By Mainland China</td>\n",
       "      <td>Yes</td>\n",
       "      <td>Yes</td>\n",
       "      <td>4.9 /5</td>\n",
       "      <td>2256</td>\n",
       "      <td>080 49652573</td>\n",
       "      <td>Koramangala 5th Block</td>\n",
       "      <td>Casual Dining, Bar</td>\n",
       "      <td>Noodles, Chicken Dim Sum, Pad Thai Noodle, Jum...</td>\n",
       "      <td>Asian, Chinese, Thai, Momos</td>\n",
       "      <td>1,500</td>\n",
       "      <td>NaN</td>\n",
       "      <td>4.9</td>\n",
       "    </tr>\n",
       "    <tr>\n",
       "      <th>11524</th>\n",
       "      <td>136, Ground Floor, 1st Cross, 5th Block, Jyoti...</td>\n",
       "      <td>Asia Kitchen By Mainland China</td>\n",
       "      <td>Yes</td>\n",
       "      <td>Yes</td>\n",
       "      <td>4.9/5</td>\n",
       "      <td>2178</td>\n",
       "      <td>080 49652573</td>\n",
       "      <td>Koramangala 5th Block</td>\n",
       "      <td>Casual Dining, Bar</td>\n",
       "      <td>Noodles, Chicken Dim Sum, Pad Thai Noodle, Jum...</td>\n",
       "      <td>Asian, Chinese, Thai, Momos</td>\n",
       "      <td>1,500</td>\n",
       "      <td>NaN</td>\n",
       "      <td>4.9</td>\n",
       "    </tr>\n",
       "    <tr>\n",
       "      <th>19062</th>\n",
       "      <td>65, Markham Road, Ashok Nagar, Brigade Road, B...</td>\n",
       "      <td>Belgian Waffle Factory</td>\n",
       "      <td>Yes</td>\n",
       "      <td>No</td>\n",
       "      <td>4.9/5</td>\n",
       "      <td>1735</td>\n",
       "      <td>+91 9481511911</td>\n",
       "      <td>Brigade Road</td>\n",
       "      <td>Dessert Parlor</td>\n",
       "      <td>Coffee, Berryblast, Nachos, Chocolate Waffles,...</td>\n",
       "      <td>Desserts</td>\n",
       "      <td>400</td>\n",
       "      <td>NaN</td>\n",
       "      <td>4.9</td>\n",
       "    </tr>\n",
       "    <tr>\n",
       "      <th>5158</th>\n",
       "      <td>Behind MK Retail, Sarjapur Road, Bangalore</td>\n",
       "      <td>Byg Brewski Brewing Company</td>\n",
       "      <td>Yes</td>\n",
       "      <td>Yes</td>\n",
       "      <td>4.9/5</td>\n",
       "      <td>16345</td>\n",
       "      <td>+91 8039514766</td>\n",
       "      <td>Sarjapur Road</td>\n",
       "      <td>Microbrewery</td>\n",
       "      <td>Cocktails, Dahi Kebab, Rajma Chawal, Butter Ch...</td>\n",
       "      <td>Continental, North Indian, Italian, South Indi...</td>\n",
       "      <td>1,600</td>\n",
       "      <td>NaN</td>\n",
       "      <td>4.9</td>\n",
       "    </tr>\n",
       "  </tbody>\n",
       "</table>\n",
       "</div>"
      ],
      "text/plain": [
       "                                                 address  \\\n",
       "37762  136, Ground Floor, 1st Cross, 5th Block, Jyoti...   \n",
       "40507  136, Ground Floor, 1st Cross, 5th Block, Jyoti...   \n",
       "11524  136, Ground Floor, 1st Cross, 5th Block, Jyoti...   \n",
       "19062  65, Markham Road, Ashok Nagar, Brigade Road, B...   \n",
       "5158          Behind MK Retail, Sarjapur Road, Bangalore   \n",
       "\n",
       "                                 name online_order book_table    rate  votes  \\\n",
       "37762  Asia Kitchen By Mainland China          Yes        Yes  4.9 /5   2249   \n",
       "40507  Asia Kitchen By Mainland China          Yes        Yes  4.9 /5   2256   \n",
       "11524  Asia Kitchen By Mainland China          Yes        Yes   4.9/5   2178   \n",
       "19062          Belgian Waffle Factory          Yes         No   4.9/5   1735   \n",
       "5158      Byg Brewski Brewing Company          Yes        Yes   4.9/5  16345   \n",
       "\n",
       "                phone               location           rest_type  \\\n",
       "37762    080 49652573  Koramangala 5th Block  Casual Dining, Bar   \n",
       "40507    080 49652573  Koramangala 5th Block  Casual Dining, Bar   \n",
       "11524    080 49652573  Koramangala 5th Block  Casual Dining, Bar   \n",
       "19062  +91 9481511911           Brigade Road      Dessert Parlor   \n",
       "5158   +91 8039514766          Sarjapur Road        Microbrewery   \n",
       "\n",
       "                                              dish_liked  \\\n",
       "37762  Noodles, Chicken Dim Sum, Pad Thai Noodle, Jum...   \n",
       "40507  Noodles, Chicken Dim Sum, Pad Thai Noodle, Jum...   \n",
       "11524  Noodles, Chicken Dim Sum, Pad Thai Noodle, Jum...   \n",
       "19062  Coffee, Berryblast, Nachos, Chocolate Waffles,...   \n",
       "5158   Cocktails, Dahi Kebab, Rajma Chawal, Butter Ch...   \n",
       "\n",
       "                                                cuisines  \\\n",
       "37762                        Asian, Chinese, Thai, Momos   \n",
       "40507                        Asian, Chinese, Thai, Momos   \n",
       "11524                        Asian, Chinese, Thai, Momos   \n",
       "19062                                           Desserts   \n",
       "5158   Continental, North Indian, Italian, South Indi...   \n",
       "\n",
       "      approx_cost(for two people) listed_in(type)  rating  \n",
       "37762                       1,500             NaN     4.9  \n",
       "40507                       1,500             NaN     4.9  \n",
       "11524                       1,500             NaN     4.9  \n",
       "19062                         400             NaN     4.9  \n",
       "5158                        1,600             NaN     4.9  "
      ]
     },
     "execution_count": 154,
     "metadata": {},
     "output_type": "execute_result"
    }
   ],
   "source": [
    "rest_data.head()"
   ]
  },
  {
   "cell_type": "code",
   "execution_count": 155,
   "id": "8906f824-df00-4d29-83b7-5ee68d0d61b2",
   "metadata": {},
   "outputs": [
    {
     "data": {
      "text/plain": [
       "address                            0\n",
       "name                               0\n",
       "online_order                       0\n",
       "book_table                         0\n",
       "rate                               0\n",
       "votes                              0\n",
       "phone                            810\n",
       "location                           0\n",
       "rest_type                          0\n",
       "dish_liked                     18124\n",
       "cuisines                          11\n",
       "approx_cost(for two people)      245\n",
       "listed_in(type)                 4329\n",
       "rating                             0\n",
       "dtype: int64"
      ]
     },
     "execution_count": 155,
     "metadata": {},
     "output_type": "execute_result"
    }
   ],
   "source": [
    "rest_data.isna().sum()"
   ]
  },
  {
   "cell_type": "code",
   "execution_count": 167,
   "id": "88d75714-0238-4c50-b477-209b45171719",
   "metadata": {},
   "outputs": [
    {
     "data": {
      "text/plain": [
       "rest_type\n",
       "Bakery                     3.607955\n",
       "Bakery, Beverage Shop      3.200000\n",
       "Bakery, Cafe               4.009722\n",
       "Bakery, Dessert Parlor     3.687402\n",
       "Bakery, Food Court         3.100000\n",
       "                             ...   \n",
       "Quick Bites, Sweet Shop    3.570667\n",
       "Sweet Shop                 3.626012\n",
       "Sweet Shop, Quick Bites    3.610526\n",
       "Takeaway                   3.407229\n",
       "Takeaway, Delivery         3.513622\n",
       "Name: rating, Length: 87, dtype: float64"
      ]
     },
     "execution_count": 167,
     "metadata": {},
     "output_type": "execute_result"
    }
   ],
   "source": [
    "new_data = rest_data.groupby('rest_type')['rating'].mean()\n",
    "new_data"
   ]
  },
  {
   "cell_type": "code",
   "execution_count": 168,
   "id": "51bcbe39-8a79-4b72-9334-bce98403e285",
   "metadata": {},
   "outputs": [],
   "source": [
    "new_data=new_data.sort_values(ascending=False)"
   ]
  },
  {
   "cell_type": "code",
   "execution_count": 169,
   "id": "2d0fc790-c214-425d-8416-40fcd859378c",
   "metadata": {},
   "outputs": [
    {
     "data": {
      "text/plain": [
       "rest_type\n",
       "Pub, Cafe                    4.657500\n",
       "Bar, Pub                     4.600000\n",
       "Microbrewery                 4.478571\n",
       "Pub, Microbrewery            4.452632\n",
       "Microbrewery, Bar            4.446154\n",
       "                               ...   \n",
       "Bhojanalya                   3.266667\n",
       "Food Court, Casual Dining    3.240000\n",
       "Bakery, Beverage Shop        3.200000\n",
       "Bakery, Food Court           3.100000\n",
       "Dessert Parlor, Kiosk        3.000000\n",
       "Name: rating, Length: 87, dtype: float64"
      ]
     },
     "execution_count": 169,
     "metadata": {},
     "output_type": "execute_result"
    }
   ],
   "source": [
    "new_data"
   ]
  },
  {
   "cell_type": "markdown",
   "id": "2a893590-dc4f-41ee-8ca1-6f3ef2038d6e",
   "metadata": {},
   "source": [
    "## What are the top 5 cuisines preferred by people based on the number of votes (votes) received?"
   ]
  },
  {
   "cell_type": "code",
   "execution_count": 170,
   "id": "60527e72-b6c7-426f-b0b2-cc0363f5ee3d",
   "metadata": {},
   "outputs": [
    {
     "data": {
      "text/html": [
       "<div>\n",
       "<style scoped>\n",
       "    .dataframe tbody tr th:only-of-type {\n",
       "        vertical-align: middle;\n",
       "    }\n",
       "\n",
       "    .dataframe tbody tr th {\n",
       "        vertical-align: top;\n",
       "    }\n",
       "\n",
       "    .dataframe thead th {\n",
       "        text-align: right;\n",
       "    }\n",
       "</style>\n",
       "<table border=\"1\" class=\"dataframe\">\n",
       "  <thead>\n",
       "    <tr style=\"text-align: right;\">\n",
       "      <th></th>\n",
       "      <th>address</th>\n",
       "      <th>name</th>\n",
       "      <th>online_order</th>\n",
       "      <th>book_table</th>\n",
       "      <th>rate</th>\n",
       "      <th>votes</th>\n",
       "      <th>phone</th>\n",
       "      <th>location</th>\n",
       "      <th>rest_type</th>\n",
       "      <th>dish_liked</th>\n",
       "      <th>cuisines</th>\n",
       "      <th>approx_cost(for two people)</th>\n",
       "      <th>listed_in(type)</th>\n",
       "      <th>rating</th>\n",
       "    </tr>\n",
       "  </thead>\n",
       "  <tbody>\n",
       "    <tr>\n",
       "      <th>0</th>\n",
       "      <td>942, 21st Main Road, 2nd Stage, Banashankari, ...</td>\n",
       "      <td>Jalsa</td>\n",
       "      <td>Yes</td>\n",
       "      <td>Yes</td>\n",
       "      <td>4.1/5</td>\n",
       "      <td>775</td>\n",
       "      <td>080 42297555\\r\\n+91 9743772233</td>\n",
       "      <td>Banashankari</td>\n",
       "      <td>Casual Dining</td>\n",
       "      <td>Pasta, Lunch Buffet, Masala Papad, Paneer Laja...</td>\n",
       "      <td>North Indian, Mughlai, Chinese</td>\n",
       "      <td>800</td>\n",
       "      <td>Buffet</td>\n",
       "      <td>4.1</td>\n",
       "    </tr>\n",
       "    <tr>\n",
       "      <th>1</th>\n",
       "      <td>2nd Floor, 80 Feet Road, Near Big Bazaar, 6th ...</td>\n",
       "      <td>Spice Elephant</td>\n",
       "      <td>Yes</td>\n",
       "      <td>No</td>\n",
       "      <td>4.1/5</td>\n",
       "      <td>787</td>\n",
       "      <td>080 41714161</td>\n",
       "      <td>Banashankari</td>\n",
       "      <td>Casual Dining</td>\n",
       "      <td>Momos, Lunch Buffet, Chocolate Nirvana, Thai G...</td>\n",
       "      <td>Chinese, North Indian, Thai</td>\n",
       "      <td>800</td>\n",
       "      <td>Buffet</td>\n",
       "      <td>4.1</td>\n",
       "    </tr>\n",
       "    <tr>\n",
       "      <th>2</th>\n",
       "      <td>1112, Next to KIMS Medical College, 17th Cross...</td>\n",
       "      <td>San Churro Cafe</td>\n",
       "      <td>Yes</td>\n",
       "      <td>No</td>\n",
       "      <td>3.8/5</td>\n",
       "      <td>918</td>\n",
       "      <td>+91 9663487993</td>\n",
       "      <td>Banashankari</td>\n",
       "      <td>Cafe, Casual Dining</td>\n",
       "      <td>Churros, Cannelloni, Minestrone Soup, Hot Choc...</td>\n",
       "      <td>Cafe, Mexican, Italian</td>\n",
       "      <td>800</td>\n",
       "      <td>Buffet</td>\n",
       "      <td>3.8</td>\n",
       "    </tr>\n",
       "    <tr>\n",
       "      <th>3</th>\n",
       "      <td>1st Floor, Annakuteera, 3rd Stage, Banashankar...</td>\n",
       "      <td>Addhuri Udupi Bhojana</td>\n",
       "      <td>No</td>\n",
       "      <td>No</td>\n",
       "      <td>3.7/5</td>\n",
       "      <td>88</td>\n",
       "      <td>+91 9620009302</td>\n",
       "      <td>Banashankari</td>\n",
       "      <td>Quick Bites</td>\n",
       "      <td>Masala Dosa</td>\n",
       "      <td>South Indian, North Indian</td>\n",
       "      <td>300</td>\n",
       "      <td>Buffet</td>\n",
       "      <td>3.7</td>\n",
       "    </tr>\n",
       "    <tr>\n",
       "      <th>4</th>\n",
       "      <td>10, 3rd Floor, Lakshmi Associates, Gandhi Baza...</td>\n",
       "      <td>Grand Village</td>\n",
       "      <td>No</td>\n",
       "      <td>No</td>\n",
       "      <td>3.8/5</td>\n",
       "      <td>166</td>\n",
       "      <td>+91 8026612447\\r\\n+91 9901210005</td>\n",
       "      <td>Basavanagudi</td>\n",
       "      <td>Casual Dining</td>\n",
       "      <td>Panipuri, Gol Gappe</td>\n",
       "      <td>North Indian, Rajasthani</td>\n",
       "      <td>600</td>\n",
       "      <td>Buffet</td>\n",
       "      <td>3.8</td>\n",
       "    </tr>\n",
       "  </tbody>\n",
       "</table>\n",
       "</div>"
      ],
      "text/plain": [
       "                                             address                   name  \\\n",
       "0  942, 21st Main Road, 2nd Stage, Banashankari, ...                  Jalsa   \n",
       "1  2nd Floor, 80 Feet Road, Near Big Bazaar, 6th ...         Spice Elephant   \n",
       "2  1112, Next to KIMS Medical College, 17th Cross...        San Churro Cafe   \n",
       "3  1st Floor, Annakuteera, 3rd Stage, Banashankar...  Addhuri Udupi Bhojana   \n",
       "4  10, 3rd Floor, Lakshmi Associates, Gandhi Baza...          Grand Village   \n",
       "\n",
       "  online_order book_table   rate votes                             phone  \\\n",
       "0          Yes        Yes  4.1/5   775    080 42297555\\r\\n+91 9743772233   \n",
       "1          Yes         No  4.1/5   787                      080 41714161   \n",
       "2          Yes         No  3.8/5   918                    +91 9663487993   \n",
       "3           No         No  3.7/5    88                    +91 9620009302   \n",
       "4           No         No  3.8/5   166  +91 8026612447\\r\\n+91 9901210005   \n",
       "\n",
       "       location            rest_type  \\\n",
       "0  Banashankari        Casual Dining   \n",
       "1  Banashankari        Casual Dining   \n",
       "2  Banashankari  Cafe, Casual Dining   \n",
       "3  Banashankari          Quick Bites   \n",
       "4  Basavanagudi        Casual Dining   \n",
       "\n",
       "                                          dish_liked  \\\n",
       "0  Pasta, Lunch Buffet, Masala Papad, Paneer Laja...   \n",
       "1  Momos, Lunch Buffet, Chocolate Nirvana, Thai G...   \n",
       "2  Churros, Cannelloni, Minestrone Soup, Hot Choc...   \n",
       "3                                        Masala Dosa   \n",
       "4                                Panipuri, Gol Gappe   \n",
       "\n",
       "                         cuisines approx_cost(for two people) listed_in(type)  \\\n",
       "0  North Indian, Mughlai, Chinese                         800          Buffet   \n",
       "1     Chinese, North Indian, Thai                         800          Buffet   \n",
       "2          Cafe, Mexican, Italian                         800          Buffet   \n",
       "3      South Indian, North Indian                         300          Buffet   \n",
       "4        North Indian, Rajasthani                         600          Buffet   \n",
       "\n",
       "   rating  \n",
       "0     4.1  \n",
       "1     4.1  \n",
       "2     3.8  \n",
       "3     3.7  \n",
       "4     3.8  "
      ]
     },
     "execution_count": 170,
     "metadata": {},
     "output_type": "execute_result"
    }
   ],
   "source": [
    "df.head()\n"
   ]
  },
  {
   "cell_type": "code",
   "execution_count": 171,
   "id": "85fdeb05-885c-4429-b2b3-6956d67a8e16",
   "metadata": {},
   "outputs": [
    {
     "data": {
      "text/plain": [
       "array(['North Indian, Mughlai, Chinese', 'Chinese, North Indian, Thai',\n",
       "       'Cafe, Mexican, Italian', ..., 'Tibetan, Nepalese',\n",
       "       'North Indian, Street Food, Biryani',\n",
       "       'North Indian, Chinese, Arabian, Momos'], dtype=object)"
      ]
     },
     "execution_count": 171,
     "metadata": {},
     "output_type": "execute_result"
    }
   ],
   "source": [
    "df.cuisines.unique()"
   ]
  },
  {
   "cell_type": "code",
   "execution_count": 172,
   "id": "5ce522a2-9487-44d7-ac2a-31451ebdbf66",
   "metadata": {},
   "outputs": [
    {
     "data": {
      "text/plain": [
       "array(['775', '787', '918', ..., '4957', '2382', '843'], dtype=object)"
      ]
     },
     "execution_count": 172,
     "metadata": {},
     "output_type": "execute_result"
    }
   ],
   "source": [
    "df.votes.unique()"
   ]
  },
  {
   "cell_type": "code",
   "execution_count": 173,
   "id": "20469627-f354-43e6-9b54-ac096c3b3c6d",
   "metadata": {},
   "outputs": [
    {
     "data": {
      "text/plain": [
       "address                            0\n",
       "name                               0\n",
       "online_order                       0\n",
       "book_table                         0\n",
       "rate                               0\n",
       "votes                              0\n",
       "phone                            814\n",
       "location                           0\n",
       "rest_type                        149\n",
       "dish_liked                     18203\n",
       "cuisines                          11\n",
       "approx_cost(for two people)      247\n",
       "listed_in(type)                 4346\n",
       "rating                             0\n",
       "dtype: int64"
      ]
     },
     "execution_count": 173,
     "metadata": {},
     "output_type": "execute_result"
    }
   ],
   "source": [
    "df.isna().sum()"
   ]
  },
  {
   "cell_type": "code",
   "execution_count": 187,
   "id": "1f3c9cf2-ba26-4ff6-8b68-8348e8a0cd13",
   "metadata": {},
   "outputs": [],
   "source": [
    "cuisine_data = df.drop(df[df.cuisines.isna()].index)"
   ]
  },
  {
   "cell_type": "code",
   "execution_count": 188,
   "id": "dcf2b3a3-68df-4ab3-bba4-38132d8b6272",
   "metadata": {},
   "outputs": [
    {
     "data": {
      "text/plain": [
       "address                            0\n",
       "name                               0\n",
       "online_order                       0\n",
       "book_table                         0\n",
       "rate                               0\n",
       "votes                              0\n",
       "phone                            811\n",
       "location                           0\n",
       "rest_type                        149\n",
       "dish_liked                     18192\n",
       "cuisines                           0\n",
       "approx_cost(for two people)      244\n",
       "listed_in(type)                 4345\n",
       "rating                             0\n",
       "dtype: int64"
      ]
     },
     "execution_count": 188,
     "metadata": {},
     "output_type": "execute_result"
    }
   ],
   "source": [
    "cuisine_data.isna().sum()"
   ]
  },
  {
   "cell_type": "code",
   "execution_count": 189,
   "id": "df1186bf-d9ae-4317-8c71-cdbaf004aa1d",
   "metadata": {},
   "outputs": [
    {
     "data": {
      "text/html": [
       "<div>\n",
       "<style scoped>\n",
       "    .dataframe tbody tr th:only-of-type {\n",
       "        vertical-align: middle;\n",
       "    }\n",
       "\n",
       "    .dataframe tbody tr th {\n",
       "        vertical-align: top;\n",
       "    }\n",
       "\n",
       "    .dataframe thead th {\n",
       "        text-align: right;\n",
       "    }\n",
       "</style>\n",
       "<table border=\"1\" class=\"dataframe\">\n",
       "  <thead>\n",
       "    <tr style=\"text-align: right;\">\n",
       "      <th></th>\n",
       "      <th>address</th>\n",
       "      <th>name</th>\n",
       "      <th>online_order</th>\n",
       "      <th>book_table</th>\n",
       "      <th>rate</th>\n",
       "      <th>votes</th>\n",
       "      <th>phone</th>\n",
       "      <th>location</th>\n",
       "      <th>rest_type</th>\n",
       "      <th>dish_liked</th>\n",
       "      <th>cuisines</th>\n",
       "      <th>approx_cost(for two people)</th>\n",
       "      <th>listed_in(type)</th>\n",
       "      <th>rating</th>\n",
       "    </tr>\n",
       "  </thead>\n",
       "  <tbody>\n",
       "    <tr>\n",
       "      <th>0</th>\n",
       "      <td>942, 21st Main Road, 2nd Stage, Banashankari, ...</td>\n",
       "      <td>Jalsa</td>\n",
       "      <td>Yes</td>\n",
       "      <td>Yes</td>\n",
       "      <td>4.1/5</td>\n",
       "      <td>775</td>\n",
       "      <td>080 42297555\\r\\n+91 9743772233</td>\n",
       "      <td>Banashankari</td>\n",
       "      <td>Casual Dining</td>\n",
       "      <td>Pasta, Lunch Buffet, Masala Papad, Paneer Laja...</td>\n",
       "      <td>North Indian, Mughlai, Chinese</td>\n",
       "      <td>800</td>\n",
       "      <td>Buffet</td>\n",
       "      <td>4.1</td>\n",
       "    </tr>\n",
       "    <tr>\n",
       "      <th>1</th>\n",
       "      <td>2nd Floor, 80 Feet Road, Near Big Bazaar, 6th ...</td>\n",
       "      <td>Spice Elephant</td>\n",
       "      <td>Yes</td>\n",
       "      <td>No</td>\n",
       "      <td>4.1/5</td>\n",
       "      <td>787</td>\n",
       "      <td>080 41714161</td>\n",
       "      <td>Banashankari</td>\n",
       "      <td>Casual Dining</td>\n",
       "      <td>Momos, Lunch Buffet, Chocolate Nirvana, Thai G...</td>\n",
       "      <td>Chinese, North Indian, Thai</td>\n",
       "      <td>800</td>\n",
       "      <td>Buffet</td>\n",
       "      <td>4.1</td>\n",
       "    </tr>\n",
       "    <tr>\n",
       "      <th>2</th>\n",
       "      <td>1112, Next to KIMS Medical College, 17th Cross...</td>\n",
       "      <td>San Churro Cafe</td>\n",
       "      <td>Yes</td>\n",
       "      <td>No</td>\n",
       "      <td>3.8/5</td>\n",
       "      <td>918</td>\n",
       "      <td>+91 9663487993</td>\n",
       "      <td>Banashankari</td>\n",
       "      <td>Cafe, Casual Dining</td>\n",
       "      <td>Churros, Cannelloni, Minestrone Soup, Hot Choc...</td>\n",
       "      <td>Cafe, Mexican, Italian</td>\n",
       "      <td>800</td>\n",
       "      <td>Buffet</td>\n",
       "      <td>3.8</td>\n",
       "    </tr>\n",
       "    <tr>\n",
       "      <th>3</th>\n",
       "      <td>1st Floor, Annakuteera, 3rd Stage, Banashankar...</td>\n",
       "      <td>Addhuri Udupi Bhojana</td>\n",
       "      <td>No</td>\n",
       "      <td>No</td>\n",
       "      <td>3.7/5</td>\n",
       "      <td>88</td>\n",
       "      <td>+91 9620009302</td>\n",
       "      <td>Banashankari</td>\n",
       "      <td>Quick Bites</td>\n",
       "      <td>Masala Dosa</td>\n",
       "      <td>South Indian, North Indian</td>\n",
       "      <td>300</td>\n",
       "      <td>Buffet</td>\n",
       "      <td>3.7</td>\n",
       "    </tr>\n",
       "    <tr>\n",
       "      <th>4</th>\n",
       "      <td>10, 3rd Floor, Lakshmi Associates, Gandhi Baza...</td>\n",
       "      <td>Grand Village</td>\n",
       "      <td>No</td>\n",
       "      <td>No</td>\n",
       "      <td>3.8/5</td>\n",
       "      <td>166</td>\n",
       "      <td>+91 8026612447\\r\\n+91 9901210005</td>\n",
       "      <td>Basavanagudi</td>\n",
       "      <td>Casual Dining</td>\n",
       "      <td>Panipuri, Gol Gappe</td>\n",
       "      <td>North Indian, Rajasthani</td>\n",
       "      <td>600</td>\n",
       "      <td>Buffet</td>\n",
       "      <td>3.8</td>\n",
       "    </tr>\n",
       "  </tbody>\n",
       "</table>\n",
       "</div>"
      ],
      "text/plain": [
       "                                             address                   name  \\\n",
       "0  942, 21st Main Road, 2nd Stage, Banashankari, ...                  Jalsa   \n",
       "1  2nd Floor, 80 Feet Road, Near Big Bazaar, 6th ...         Spice Elephant   \n",
       "2  1112, Next to KIMS Medical College, 17th Cross...        San Churro Cafe   \n",
       "3  1st Floor, Annakuteera, 3rd Stage, Banashankar...  Addhuri Udupi Bhojana   \n",
       "4  10, 3rd Floor, Lakshmi Associates, Gandhi Baza...          Grand Village   \n",
       "\n",
       "  online_order book_table   rate votes                             phone  \\\n",
       "0          Yes        Yes  4.1/5   775    080 42297555\\r\\n+91 9743772233   \n",
       "1          Yes         No  4.1/5   787                      080 41714161   \n",
       "2          Yes         No  3.8/5   918                    +91 9663487993   \n",
       "3           No         No  3.7/5    88                    +91 9620009302   \n",
       "4           No         No  3.8/5   166  +91 8026612447\\r\\n+91 9901210005   \n",
       "\n",
       "       location            rest_type  \\\n",
       "0  Banashankari        Casual Dining   \n",
       "1  Banashankari        Casual Dining   \n",
       "2  Banashankari  Cafe, Casual Dining   \n",
       "3  Banashankari          Quick Bites   \n",
       "4  Basavanagudi        Casual Dining   \n",
       "\n",
       "                                          dish_liked  \\\n",
       "0  Pasta, Lunch Buffet, Masala Papad, Paneer Laja...   \n",
       "1  Momos, Lunch Buffet, Chocolate Nirvana, Thai G...   \n",
       "2  Churros, Cannelloni, Minestrone Soup, Hot Choc...   \n",
       "3                                        Masala Dosa   \n",
       "4                                Panipuri, Gol Gappe   \n",
       "\n",
       "                         cuisines approx_cost(for two people) listed_in(type)  \\\n",
       "0  North Indian, Mughlai, Chinese                         800          Buffet   \n",
       "1     Chinese, North Indian, Thai                         800          Buffet   \n",
       "2          Cafe, Mexican, Italian                         800          Buffet   \n",
       "3      South Indian, North Indian                         300          Buffet   \n",
       "4        North Indian, Rajasthani                         600          Buffet   \n",
       "\n",
       "   rating  \n",
       "0     4.1  \n",
       "1     4.1  \n",
       "2     3.8  \n",
       "3     3.7  \n",
       "4     3.8  "
      ]
     },
     "execution_count": 189,
     "metadata": {},
     "output_type": "execute_result"
    }
   ],
   "source": [
    "cuisine_data.head()"
   ]
  },
  {
   "cell_type": "code",
   "execution_count": 190,
   "id": "4ba2b1cb-b83b-482a-bbe6-6d3173bc15f0",
   "metadata": {},
   "outputs": [
    {
     "data": {
      "text/plain": [
       "str"
      ]
     },
     "execution_count": 190,
     "metadata": {},
     "output_type": "execute_result"
    }
   ],
   "source": [
    "type(df.loc[0].votes)"
   ]
  },
  {
   "cell_type": "code",
   "execution_count": 191,
   "id": "187a38d5-b5a7-4e7e-945d-bfca9a6863bd",
   "metadata": {},
   "outputs": [],
   "source": [
    "cuisine_data['votes']=cuisine_data.votes.apply(lambda votes: int(votes))"
   ]
  },
  {
   "cell_type": "code",
   "execution_count": 192,
   "id": "c725e7ca-2a17-4696-9a15-db5be8530e5a",
   "metadata": {},
   "outputs": [
    {
     "data": {
      "text/html": [
       "<div>\n",
       "<style scoped>\n",
       "    .dataframe tbody tr th:only-of-type {\n",
       "        vertical-align: middle;\n",
       "    }\n",
       "\n",
       "    .dataframe tbody tr th {\n",
       "        vertical-align: top;\n",
       "    }\n",
       "\n",
       "    .dataframe thead th {\n",
       "        text-align: right;\n",
       "    }\n",
       "</style>\n",
       "<table border=\"1\" class=\"dataframe\">\n",
       "  <thead>\n",
       "    <tr style=\"text-align: right;\">\n",
       "      <th></th>\n",
       "      <th>address</th>\n",
       "      <th>name</th>\n",
       "      <th>online_order</th>\n",
       "      <th>book_table</th>\n",
       "      <th>rate</th>\n",
       "      <th>votes</th>\n",
       "      <th>phone</th>\n",
       "      <th>location</th>\n",
       "      <th>rest_type</th>\n",
       "      <th>dish_liked</th>\n",
       "      <th>cuisines</th>\n",
       "      <th>approx_cost(for two people)</th>\n",
       "      <th>listed_in(type)</th>\n",
       "      <th>rating</th>\n",
       "    </tr>\n",
       "  </thead>\n",
       "  <tbody>\n",
       "    <tr>\n",
       "      <th>0</th>\n",
       "      <td>942, 21st Main Road, 2nd Stage, Banashankari, ...</td>\n",
       "      <td>Jalsa</td>\n",
       "      <td>Yes</td>\n",
       "      <td>Yes</td>\n",
       "      <td>4.1/5</td>\n",
       "      <td>775</td>\n",
       "      <td>080 42297555\\r\\n+91 9743772233</td>\n",
       "      <td>Banashankari</td>\n",
       "      <td>Casual Dining</td>\n",
       "      <td>Pasta, Lunch Buffet, Masala Papad, Paneer Laja...</td>\n",
       "      <td>North Indian, Mughlai, Chinese</td>\n",
       "      <td>800</td>\n",
       "      <td>Buffet</td>\n",
       "      <td>4.1</td>\n",
       "    </tr>\n",
       "    <tr>\n",
       "      <th>1</th>\n",
       "      <td>2nd Floor, 80 Feet Road, Near Big Bazaar, 6th ...</td>\n",
       "      <td>Spice Elephant</td>\n",
       "      <td>Yes</td>\n",
       "      <td>No</td>\n",
       "      <td>4.1/5</td>\n",
       "      <td>787</td>\n",
       "      <td>080 41714161</td>\n",
       "      <td>Banashankari</td>\n",
       "      <td>Casual Dining</td>\n",
       "      <td>Momos, Lunch Buffet, Chocolate Nirvana, Thai G...</td>\n",
       "      <td>Chinese, North Indian, Thai</td>\n",
       "      <td>800</td>\n",
       "      <td>Buffet</td>\n",
       "      <td>4.1</td>\n",
       "    </tr>\n",
       "    <tr>\n",
       "      <th>2</th>\n",
       "      <td>1112, Next to KIMS Medical College, 17th Cross...</td>\n",
       "      <td>San Churro Cafe</td>\n",
       "      <td>Yes</td>\n",
       "      <td>No</td>\n",
       "      <td>3.8/5</td>\n",
       "      <td>918</td>\n",
       "      <td>+91 9663487993</td>\n",
       "      <td>Banashankari</td>\n",
       "      <td>Cafe, Casual Dining</td>\n",
       "      <td>Churros, Cannelloni, Minestrone Soup, Hot Choc...</td>\n",
       "      <td>Cafe, Mexican, Italian</td>\n",
       "      <td>800</td>\n",
       "      <td>Buffet</td>\n",
       "      <td>3.8</td>\n",
       "    </tr>\n",
       "    <tr>\n",
       "      <th>3</th>\n",
       "      <td>1st Floor, Annakuteera, 3rd Stage, Banashankar...</td>\n",
       "      <td>Addhuri Udupi Bhojana</td>\n",
       "      <td>No</td>\n",
       "      <td>No</td>\n",
       "      <td>3.7/5</td>\n",
       "      <td>88</td>\n",
       "      <td>+91 9620009302</td>\n",
       "      <td>Banashankari</td>\n",
       "      <td>Quick Bites</td>\n",
       "      <td>Masala Dosa</td>\n",
       "      <td>South Indian, North Indian</td>\n",
       "      <td>300</td>\n",
       "      <td>Buffet</td>\n",
       "      <td>3.7</td>\n",
       "    </tr>\n",
       "    <tr>\n",
       "      <th>4</th>\n",
       "      <td>10, 3rd Floor, Lakshmi Associates, Gandhi Baza...</td>\n",
       "      <td>Grand Village</td>\n",
       "      <td>No</td>\n",
       "      <td>No</td>\n",
       "      <td>3.8/5</td>\n",
       "      <td>166</td>\n",
       "      <td>+91 8026612447\\r\\n+91 9901210005</td>\n",
       "      <td>Basavanagudi</td>\n",
       "      <td>Casual Dining</td>\n",
       "      <td>Panipuri, Gol Gappe</td>\n",
       "      <td>North Indian, Rajasthani</td>\n",
       "      <td>600</td>\n",
       "      <td>Buffet</td>\n",
       "      <td>3.8</td>\n",
       "    </tr>\n",
       "  </tbody>\n",
       "</table>\n",
       "</div>"
      ],
      "text/plain": [
       "                                             address                   name  \\\n",
       "0  942, 21st Main Road, 2nd Stage, Banashankari, ...                  Jalsa   \n",
       "1  2nd Floor, 80 Feet Road, Near Big Bazaar, 6th ...         Spice Elephant   \n",
       "2  1112, Next to KIMS Medical College, 17th Cross...        San Churro Cafe   \n",
       "3  1st Floor, Annakuteera, 3rd Stage, Banashankar...  Addhuri Udupi Bhojana   \n",
       "4  10, 3rd Floor, Lakshmi Associates, Gandhi Baza...          Grand Village   \n",
       "\n",
       "  online_order book_table   rate  votes                             phone  \\\n",
       "0          Yes        Yes  4.1/5    775    080 42297555\\r\\n+91 9743772233   \n",
       "1          Yes         No  4.1/5    787                      080 41714161   \n",
       "2          Yes         No  3.8/5    918                    +91 9663487993   \n",
       "3           No         No  3.7/5     88                    +91 9620009302   \n",
       "4           No         No  3.8/5    166  +91 8026612447\\r\\n+91 9901210005   \n",
       "\n",
       "       location            rest_type  \\\n",
       "0  Banashankari        Casual Dining   \n",
       "1  Banashankari        Casual Dining   \n",
       "2  Banashankari  Cafe, Casual Dining   \n",
       "3  Banashankari          Quick Bites   \n",
       "4  Basavanagudi        Casual Dining   \n",
       "\n",
       "                                          dish_liked  \\\n",
       "0  Pasta, Lunch Buffet, Masala Papad, Paneer Laja...   \n",
       "1  Momos, Lunch Buffet, Chocolate Nirvana, Thai G...   \n",
       "2  Churros, Cannelloni, Minestrone Soup, Hot Choc...   \n",
       "3                                        Masala Dosa   \n",
       "4                                Panipuri, Gol Gappe   \n",
       "\n",
       "                         cuisines approx_cost(for two people) listed_in(type)  \\\n",
       "0  North Indian, Mughlai, Chinese                         800          Buffet   \n",
       "1     Chinese, North Indian, Thai                         800          Buffet   \n",
       "2          Cafe, Mexican, Italian                         800          Buffet   \n",
       "3      South Indian, North Indian                         300          Buffet   \n",
       "4        North Indian, Rajasthani                         600          Buffet   \n",
       "\n",
       "   rating  \n",
       "0     4.1  \n",
       "1     4.1  \n",
       "2     3.8  \n",
       "3     3.7  \n",
       "4     3.8  "
      ]
     },
     "execution_count": 192,
     "metadata": {},
     "output_type": "execute_result"
    }
   ],
   "source": [
    "cuisine_data.head()"
   ]
  },
  {
   "cell_type": "code",
   "execution_count": 193,
   "id": "51c10b1f-369a-4e70-b68f-3aa43dde37c9",
   "metadata": {},
   "outputs": [
    {
     "data": {
      "text/plain": [
       "str"
      ]
     },
     "execution_count": 193,
     "metadata": {},
     "output_type": "execute_result"
    }
   ],
   "source": [
    "type(df.loc[0].votes)\n"
   ]
  },
  {
   "cell_type": "code",
   "execution_count": 194,
   "id": "94861b2c-581d-43c4-95a6-5cc0ea264429",
   "metadata": {},
   "outputs": [
    {
     "data": {
      "text/plain": [
       "14650356"
      ]
     },
     "execution_count": 194,
     "metadata": {},
     "output_type": "execute_result"
    }
   ],
   "source": [
    "cuisine_data.votes.sum()\n"
   ]
  },
  {
   "cell_type": "code",
   "execution_count": 196,
   "id": "4c0b191e-3523-4cc9-9189-707378e240b0",
   "metadata": {},
   "outputs": [],
   "source": [
    "summed_cuisine=cuisine_data.groupby('cuisines')['votes'].sum()"
   ]
  },
  {
   "cell_type": "code",
   "execution_count": 197,
   "id": "1f8250de-8b84-4821-8bba-fdbb39d518d9",
   "metadata": {},
   "outputs": [
    {
     "data": {
      "text/plain": [
       "cuisines\n",
       "North Indian                                                          558650\n",
       "Pizza, Cafe, Italian                                                  347520\n",
       "Cafe, American, Burger, Steak                                         301059\n",
       "North Indian, Chinese                                                 259864\n",
       "North Indian, Mughlai, South Indian, Chinese                          227930\n",
       "                                                                       ...  \n",
       "Rolls, Arabian                                                             4\n",
       "Fast Food, Italian, North Indian, Steak                                    0\n",
       "Mexican, American                                                          0\n",
       "Continental, Chinese, North Indian, Asian, Healthy Food, Fast Food         0\n",
       "North Indian, Maharashtrian                                                0\n",
       "Name: votes, Length: 2383, dtype: int64"
      ]
     },
     "execution_count": 197,
     "metadata": {},
     "output_type": "execute_result"
    }
   ],
   "source": [
    "summed_cuisine.sort_values(ascending=False)"
   ]
  },
  {
   "cell_type": "code",
   "execution_count": null,
   "id": "400ba35e-6f0e-4cdb-a3a3-1258cb691949",
   "metadata": {},
   "outputs": [],
   "source": []
  },
  {
   "cell_type": "markdown",
   "id": "63bd8e37-5e8c-4e2f-a2db-9a304cf8be31",
   "metadata": {},
   "source": [
    "## Is there any correlation between the approximate cost for two people and the restaurant's rating?"
   ]
  },
  {
   "cell_type": "code",
   "execution_count": 210,
   "id": "418c5df3-e6c8-4883-b769-9f703c0f5faf",
   "metadata": {},
   "outputs": [
    {
     "data": {
      "text/plain": [
       "array(['800', '300', '600', '700', '550', '500', '450', '650', '400',\n",
       "       '900', '200', '750', '150', '850', '100', '1,200', '350', '250',\n",
       "       '950', '1,000', '1,500', '1,300', '199', '1,100', '1,600', '230',\n",
       "       '130', '1,700', '1,350', '2,200', '1,400', '2,000', '1,800', nan,\n",
       "       '1,900', '180', '330', '2,500', '2,100', '3,000', '2,800', '3,400',\n",
       "       '50', '40', '1,250', '3,500', '4,000', '2,400', '2,600', '1,450',\n",
       "       '70', '3,200', '240', '6,000', '1,050', '2,300', '4,100', '120',\n",
       "       '5,000', '3,700', '1,650', '2,700', '4,500', '80'], dtype=object)"
      ]
     },
     "execution_count": 210,
     "metadata": {},
     "output_type": "execute_result"
    }
   ],
   "source": [
    "df['approx_cost(for two people)'].unique()"
   ]
  },
  {
   "cell_type": "code",
   "execution_count": 211,
   "id": "e55b3374-b267-46e7-bbdf-3c1f26429941",
   "metadata": {},
   "outputs": [],
   "source": [
    "cor = df"
   ]
  },
  {
   "cell_type": "code",
   "execution_count": 219,
   "id": "6762fc62-2b62-4c0b-962b-3a30db18dcff",
   "metadata": {},
   "outputs": [],
   "source": [
    "\n",
    "cor['approx_cost(for two people)'] = df['approx_cost(for two people)'].apply(lambda x: '0' if pd.isna(x) else x)"
   ]
  },
  {
   "cell_type": "code",
   "execution_count": 220,
   "id": "4c03f49f-450b-492e-aa0e-cd380be9a35a",
   "metadata": {},
   "outputs": [
    {
     "data": {
      "text/html": [
       "<div>\n",
       "<style scoped>\n",
       "    .dataframe tbody tr th:only-of-type {\n",
       "        vertical-align: middle;\n",
       "    }\n",
       "\n",
       "    .dataframe tbody tr th {\n",
       "        vertical-align: top;\n",
       "    }\n",
       "\n",
       "    .dataframe thead th {\n",
       "        text-align: right;\n",
       "    }\n",
       "</style>\n",
       "<table border=\"1\" class=\"dataframe\">\n",
       "  <thead>\n",
       "    <tr style=\"text-align: right;\">\n",
       "      <th></th>\n",
       "      <th>address</th>\n",
       "      <th>name</th>\n",
       "      <th>online_order</th>\n",
       "      <th>book_table</th>\n",
       "      <th>rate</th>\n",
       "      <th>votes</th>\n",
       "      <th>phone</th>\n",
       "      <th>location</th>\n",
       "      <th>rest_type</th>\n",
       "      <th>dish_liked</th>\n",
       "      <th>cuisines</th>\n",
       "      <th>approx_cost(for two people)</th>\n",
       "      <th>listed_in(type)</th>\n",
       "      <th>rating</th>\n",
       "    </tr>\n",
       "  </thead>\n",
       "  <tbody>\n",
       "    <tr>\n",
       "      <th>0</th>\n",
       "      <td>942, 21st Main Road, 2nd Stage, Banashankari, ...</td>\n",
       "      <td>Jalsa</td>\n",
       "      <td>Yes</td>\n",
       "      <td>Yes</td>\n",
       "      <td>4.1/5</td>\n",
       "      <td>775</td>\n",
       "      <td>080 42297555\\r\\n+91 9743772233</td>\n",
       "      <td>Banashankari</td>\n",
       "      <td>Casual Dining</td>\n",
       "      <td>Pasta, Lunch Buffet, Masala Papad, Paneer Laja...</td>\n",
       "      <td>North Indian, Mughlai, Chinese</td>\n",
       "      <td>800</td>\n",
       "      <td>Buffet</td>\n",
       "      <td>4.1</td>\n",
       "    </tr>\n",
       "    <tr>\n",
       "      <th>1</th>\n",
       "      <td>2nd Floor, 80 Feet Road, Near Big Bazaar, 6th ...</td>\n",
       "      <td>Spice Elephant</td>\n",
       "      <td>Yes</td>\n",
       "      <td>No</td>\n",
       "      <td>4.1/5</td>\n",
       "      <td>787</td>\n",
       "      <td>080 41714161</td>\n",
       "      <td>Banashankari</td>\n",
       "      <td>Casual Dining</td>\n",
       "      <td>Momos, Lunch Buffet, Chocolate Nirvana, Thai G...</td>\n",
       "      <td>Chinese, North Indian, Thai</td>\n",
       "      <td>800</td>\n",
       "      <td>Buffet</td>\n",
       "      <td>4.1</td>\n",
       "    </tr>\n",
       "    <tr>\n",
       "      <th>2</th>\n",
       "      <td>1112, Next to KIMS Medical College, 17th Cross...</td>\n",
       "      <td>San Churro Cafe</td>\n",
       "      <td>Yes</td>\n",
       "      <td>No</td>\n",
       "      <td>3.8/5</td>\n",
       "      <td>918</td>\n",
       "      <td>+91 9663487993</td>\n",
       "      <td>Banashankari</td>\n",
       "      <td>Cafe, Casual Dining</td>\n",
       "      <td>Churros, Cannelloni, Minestrone Soup, Hot Choc...</td>\n",
       "      <td>Cafe, Mexican, Italian</td>\n",
       "      <td>800</td>\n",
       "      <td>Buffet</td>\n",
       "      <td>3.8</td>\n",
       "    </tr>\n",
       "    <tr>\n",
       "      <th>3</th>\n",
       "      <td>1st Floor, Annakuteera, 3rd Stage, Banashankar...</td>\n",
       "      <td>Addhuri Udupi Bhojana</td>\n",
       "      <td>No</td>\n",
       "      <td>No</td>\n",
       "      <td>3.7/5</td>\n",
       "      <td>88</td>\n",
       "      <td>+91 9620009302</td>\n",
       "      <td>Banashankari</td>\n",
       "      <td>Quick Bites</td>\n",
       "      <td>Masala Dosa</td>\n",
       "      <td>South Indian, North Indian</td>\n",
       "      <td>300</td>\n",
       "      <td>Buffet</td>\n",
       "      <td>3.7</td>\n",
       "    </tr>\n",
       "    <tr>\n",
       "      <th>4</th>\n",
       "      <td>10, 3rd Floor, Lakshmi Associates, Gandhi Baza...</td>\n",
       "      <td>Grand Village</td>\n",
       "      <td>No</td>\n",
       "      <td>No</td>\n",
       "      <td>3.8/5</td>\n",
       "      <td>166</td>\n",
       "      <td>+91 8026612447\\r\\n+91 9901210005</td>\n",
       "      <td>Basavanagudi</td>\n",
       "      <td>Casual Dining</td>\n",
       "      <td>Panipuri, Gol Gappe</td>\n",
       "      <td>North Indian, Rajasthani</td>\n",
       "      <td>600</td>\n",
       "      <td>Buffet</td>\n",
       "      <td>3.8</td>\n",
       "    </tr>\n",
       "  </tbody>\n",
       "</table>\n",
       "</div>"
      ],
      "text/plain": [
       "                                             address                   name  \\\n",
       "0  942, 21st Main Road, 2nd Stage, Banashankari, ...                  Jalsa   \n",
       "1  2nd Floor, 80 Feet Road, Near Big Bazaar, 6th ...         Spice Elephant   \n",
       "2  1112, Next to KIMS Medical College, 17th Cross...        San Churro Cafe   \n",
       "3  1st Floor, Annakuteera, 3rd Stage, Banashankar...  Addhuri Udupi Bhojana   \n",
       "4  10, 3rd Floor, Lakshmi Associates, Gandhi Baza...          Grand Village   \n",
       "\n",
       "  online_order book_table   rate votes                             phone  \\\n",
       "0          Yes        Yes  4.1/5   775    080 42297555\\r\\n+91 9743772233   \n",
       "1          Yes         No  4.1/5   787                      080 41714161   \n",
       "2          Yes         No  3.8/5   918                    +91 9663487993   \n",
       "3           No         No  3.7/5    88                    +91 9620009302   \n",
       "4           No         No  3.8/5   166  +91 8026612447\\r\\n+91 9901210005   \n",
       "\n",
       "       location            rest_type  \\\n",
       "0  Banashankari        Casual Dining   \n",
       "1  Banashankari        Casual Dining   \n",
       "2  Banashankari  Cafe, Casual Dining   \n",
       "3  Banashankari          Quick Bites   \n",
       "4  Basavanagudi        Casual Dining   \n",
       "\n",
       "                                          dish_liked  \\\n",
       "0  Pasta, Lunch Buffet, Masala Papad, Paneer Laja...   \n",
       "1  Momos, Lunch Buffet, Chocolate Nirvana, Thai G...   \n",
       "2  Churros, Cannelloni, Minestrone Soup, Hot Choc...   \n",
       "3                                        Masala Dosa   \n",
       "4                                Panipuri, Gol Gappe   \n",
       "\n",
       "                         cuisines approx_cost(for two people) listed_in(type)  \\\n",
       "0  North Indian, Mughlai, Chinese                         800          Buffet   \n",
       "1     Chinese, North Indian, Thai                         800          Buffet   \n",
       "2          Cafe, Mexican, Italian                         800          Buffet   \n",
       "3      South Indian, North Indian                         300          Buffet   \n",
       "4        North Indian, Rajasthani                         600          Buffet   \n",
       "\n",
       "   rating  \n",
       "0     4.1  \n",
       "1     4.1  \n",
       "2     3.8  \n",
       "3     3.7  \n",
       "4     3.8  "
      ]
     },
     "execution_count": 220,
     "metadata": {},
     "output_type": "execute_result"
    }
   ],
   "source": [
    "cor.head()"
   ]
  },
  {
   "cell_type": "code",
   "execution_count": 221,
   "id": "79200284-6e69-4d01-8f79-8db4da05d4d1",
   "metadata": {},
   "outputs": [
    {
     "data": {
      "text/plain": [
       "address                            0\n",
       "name                               0\n",
       "online_order                       0\n",
       "book_table                         0\n",
       "rate                               0\n",
       "votes                              0\n",
       "phone                            814\n",
       "location                           0\n",
       "rest_type                        149\n",
       "dish_liked                     18203\n",
       "cuisines                          11\n",
       "approx_cost(for two people)        0\n",
       "listed_in(type)                 4346\n",
       "rating                             0\n",
       "dtype: int64"
      ]
     },
     "execution_count": 221,
     "metadata": {},
     "output_type": "execute_result"
    }
   ],
   "source": [
    "cor.isna().sum()"
   ]
  },
  {
   "cell_type": "code",
   "execution_count": null,
   "id": "272e2970-ca0c-44f5-9c02-b4b3fc47cdbe",
   "metadata": {},
   "outputs": [],
   "source": []
  },
  {
   "cell_type": "code",
   "execution_count": 224,
   "id": "be7bc934-c594-45c9-86f2-d01d238d69b8",
   "metadata": {},
   "outputs": [
    {
     "data": {
      "image/png": "[encoded data removed]",
      "text/plain": [
       "<Figure size 640x480 with 1 Axes>"
      ]
     },
     "metadata": {},
     "output_type": "display_data"
    }
   ],
   "source": [
    "plt.plot(cor['approx_cost(for two people)'],cor.rating)\n",
    "plt.show()"
   ]
  },
  {
   "cell_type": "code",
   "execution_count": 228,
   "id": "9943d3e8-20fd-48af-8b7e-a09000269ad2",
   "metadata": {},
   "outputs": [],
   "source": [
    "cor['approx_cost(for two people)'] = pd.to_numeric(cor['approx_cost(for two people)'], errors='coerce')\n"
   ]
  },
  {
   "cell_type": "raw",
   "id": "c27da4d6-590e-40da-8121-39c922b8735d",
   "metadata": {},
   "source": [
    "corelation = cor['approx_cost(for two people)'].corr(cor.rating)"
   ]
  },
  {
   "cell_type": "code",
   "execution_count": 230,
   "id": "6a28d87f-5814-4c9f-bc78-78971a14a6f9",
   "metadata": {},
   "outputs": [
    {
     "data": {
      "text/plain": [
       "0.18833849487146997"
      ]
     },
     "execution_count": 230,
     "metadata": {},
     "output_type": "execute_result"
    }
   ],
   "source": [
    "corelation"
   ]
  },
  {
   "cell_type": "markdown",
   "id": "c112a172-7f98-4ee5-b73b-be0485ec1236",
   "metadata": {},
   "source": [
    "## What is the average cost for two people across different locations?"
   ]
  },
  {
   "cell_type": "code",
   "execution_count": 232,
   "id": "4d65ea9d-b0de-401b-95b3-aaf5e4fb24b9",
   "metadata": {},
   "outputs": [
    {
     "data": {
      "text/plain": [
       "location\n",
       "BTM                  392.872899\n",
       "Banashankari         428.958333\n",
       "Banaswadi            401.851852\n",
       "Bannerghatta Road    445.473773\n",
       "Basavanagudi         343.696028\n",
       "                        ...    \n",
       "West Bangalore       466.666667\n",
       "Whitefield           463.647152\n",
       "Wilson Garden        355.722892\n",
       "Yelahanka            260.000000\n",
       "Yeshwantpur          392.924528\n",
       "Name: approx_cost(for two people), Length: 92, dtype: float64"
      ]
     },
     "execution_count": 232,
     "metadata": {},
     "output_type": "execute_result"
    }
   ],
   "source": [
    "cor.groupby('location')['approx_cost(for two people)'].mean()"
   ]
  },
  {
   "cell_type": "markdown",
   "id": "1fcbefff-76b4-4cd6-9c4d-b411c6b2e84a",
   "metadata": {},
   "source": [
    "## How many restaurants offer the option of booking a table (book_table) and also provide online ordering (online_order)?\n"
   ]
  },
  {
   "cell_type": "code",
   "execution_count": 233,
   "id": "4650b0d5-892d-40d7-8272-f3deed1c99bf",
   "metadata": {},
   "outputs": [
    {
     "data": {
      "text/html": [
       "<div>\n",
       "<style scoped>\n",
       "    .dataframe tbody tr th:only-of-type {\n",
       "        vertical-align: middle;\n",
       "    }\n",
       "\n",
       "    .dataframe tbody tr th {\n",
       "        vertical-align: top;\n",
       "    }\n",
       "\n",
       "    .dataframe thead th {\n",
       "        text-align: right;\n",
       "    }\n",
       "</style>\n",
       "<table border=\"1\" class=\"dataframe\">\n",
       "  <thead>\n",
       "    <tr style=\"text-align: right;\">\n",
       "      <th></th>\n",
       "      <th>address</th>\n",
       "      <th>name</th>\n",
       "      <th>online_order</th>\n",
       "      <th>book_table</th>\n",
       "      <th>rate</th>\n",
       "      <th>votes</th>\n",
       "      <th>phone</th>\n",
       "      <th>location</th>\n",
       "      <th>rest_type</th>\n",
       "      <th>dish_liked</th>\n",
       "      <th>cuisines</th>\n",
       "      <th>approx_cost(for two people)</th>\n",
       "      <th>listed_in(type)</th>\n",
       "      <th>rating</th>\n",
       "    </tr>\n",
       "  </thead>\n",
       "  <tbody>\n",
       "    <tr>\n",
       "      <th>0</th>\n",
       "      <td>942, 21st Main Road, 2nd Stage, Banashankari, ...</td>\n",
       "      <td>Jalsa</td>\n",
       "      <td>Yes</td>\n",
       "      <td>Yes</td>\n",
       "      <td>4.1/5</td>\n",
       "      <td>775</td>\n",
       "      <td>080 42297555\\r\\n+91 9743772233</td>\n",
       "      <td>Banashankari</td>\n",
       "      <td>Casual Dining</td>\n",
       "      <td>Pasta, Lunch Buffet, Masala Papad, Paneer Laja...</td>\n",
       "      <td>North Indian, Mughlai, Chinese</td>\n",
       "      <td>800.0</td>\n",
       "      <td>Buffet</td>\n",
       "      <td>4.1</td>\n",
       "    </tr>\n",
       "    <tr>\n",
       "      <th>1</th>\n",
       "      <td>2nd Floor, 80 Feet Road, Near Big Bazaar, 6th ...</td>\n",
       "      <td>Spice Elephant</td>\n",
       "      <td>Yes</td>\n",
       "      <td>No</td>\n",
       "      <td>4.1/5</td>\n",
       "      <td>787</td>\n",
       "      <td>080 41714161</td>\n",
       "      <td>Banashankari</td>\n",
       "      <td>Casual Dining</td>\n",
       "      <td>Momos, Lunch Buffet, Chocolate Nirvana, Thai G...</td>\n",
       "      <td>Chinese, North Indian, Thai</td>\n",
       "      <td>800.0</td>\n",
       "      <td>Buffet</td>\n",
       "      <td>4.1</td>\n",
       "    </tr>\n",
       "    <tr>\n",
       "      <th>2</th>\n",
       "      <td>1112, Next to KIMS Medical College, 17th Cross...</td>\n",
       "      <td>San Churro Cafe</td>\n",
       "      <td>Yes</td>\n",
       "      <td>No</td>\n",
       "      <td>3.8/5</td>\n",
       "      <td>918</td>\n",
       "      <td>+91 9663487993</td>\n",
       "      <td>Banashankari</td>\n",
       "      <td>Cafe, Casual Dining</td>\n",
       "      <td>Churros, Cannelloni, Minestrone Soup, Hot Choc...</td>\n",
       "      <td>Cafe, Mexican, Italian</td>\n",
       "      <td>800.0</td>\n",
       "      <td>Buffet</td>\n",
       "      <td>3.8</td>\n",
       "    </tr>\n",
       "    <tr>\n",
       "      <th>3</th>\n",
       "      <td>1st Floor, Annakuteera, 3rd Stage, Banashankar...</td>\n",
       "      <td>Addhuri Udupi Bhojana</td>\n",
       "      <td>No</td>\n",
       "      <td>No</td>\n",
       "      <td>3.7/5</td>\n",
       "      <td>88</td>\n",
       "      <td>+91 9620009302</td>\n",
       "      <td>Banashankari</td>\n",
       "      <td>Quick Bites</td>\n",
       "      <td>Masala Dosa</td>\n",
       "      <td>South Indian, North Indian</td>\n",
       "      <td>300.0</td>\n",
       "      <td>Buffet</td>\n",
       "      <td>3.7</td>\n",
       "    </tr>\n",
       "    <tr>\n",
       "      <th>4</th>\n",
       "      <td>10, 3rd Floor, Lakshmi Associates, Gandhi Baza...</td>\n",
       "      <td>Grand Village</td>\n",
       "      <td>No</td>\n",
       "      <td>No</td>\n",
       "      <td>3.8/5</td>\n",
       "      <td>166</td>\n",
       "      <td>+91 8026612447\\r\\n+91 9901210005</td>\n",
       "      <td>Basavanagudi</td>\n",
       "      <td>Casual Dining</td>\n",
       "      <td>Panipuri, Gol Gappe</td>\n",
       "      <td>North Indian, Rajasthani</td>\n",
       "      <td>600.0</td>\n",
       "      <td>Buffet</td>\n",
       "      <td>3.8</td>\n",
       "    </tr>\n",
       "  </tbody>\n",
       "</table>\n",
       "</div>"
      ],
      "text/plain": [
       "                                             address                   name  \\\n",
       "0  942, 21st Main Road, 2nd Stage, Banashankari, ...                  Jalsa   \n",
       "1  2nd Floor, 80 Feet Road, Near Big Bazaar, 6th ...         Spice Elephant   \n",
       "2  1112, Next to KIMS Medical College, 17th Cross...        San Churro Cafe   \n",
       "3  1st Floor, Annakuteera, 3rd Stage, Banashankar...  Addhuri Udupi Bhojana   \n",
       "4  10, 3rd Floor, Lakshmi Associates, Gandhi Baza...          Grand Village   \n",
       "\n",
       "  online_order book_table   rate votes                             phone  \\\n",
       "0          Yes        Yes  4.1/5   775    080 42297555\\r\\n+91 9743772233   \n",
       "1          Yes         No  4.1/5   787                      080 41714161   \n",
       "2          Yes         No  3.8/5   918                    +91 9663487993   \n",
       "3           No         No  3.7/5    88                    +91 9620009302   \n",
       "4           No         No  3.8/5   166  +91 8026612447\\r\\n+91 9901210005   \n",
       "\n",
       "       location            rest_type  \\\n",
       "0  Banashankari        Casual Dining   \n",
       "1  Banashankari        Casual Dining   \n",
       "2  Banashankari  Cafe, Casual Dining   \n",
       "3  Banashankari          Quick Bites   \n",
       "4  Basavanagudi        Casual Dining   \n",
       "\n",
       "                                          dish_liked  \\\n",
       "0  Pasta, Lunch Buffet, Masala Papad, Paneer Laja...   \n",
       "1  Momos, Lunch Buffet, Chocolate Nirvana, Thai G...   \n",
       "2  Churros, Cannelloni, Minestrone Soup, Hot Choc...   \n",
       "3                                        Masala Dosa   \n",
       "4                                Panipuri, Gol Gappe   \n",
       "\n",
       "                         cuisines  approx_cost(for two people)  \\\n",
       "0  North Indian, Mughlai, Chinese                        800.0   \n",
       "1     Chinese, North Indian, Thai                        800.0   \n",
       "2          Cafe, Mexican, Italian                        800.0   \n",
       "3      South Indian, North Indian                        300.0   \n",
       "4        North Indian, Rajasthani                        600.0   \n",
       "\n",
       "  listed_in(type)  rating  \n",
       "0          Buffet     4.1  \n",
       "1          Buffet     4.1  \n",
       "2          Buffet     3.8  \n",
       "3          Buffet     3.7  \n",
       "4          Buffet     3.8  "
      ]
     },
     "execution_count": 233,
     "metadata": {},
     "output_type": "execute_result"
    }
   ],
   "source": [
    "df.head()"
   ]
  },
  {
   "cell_type": "code",
   "execution_count": 234,
   "id": "5df49214-ea43-4194-89ce-a0517a807035",
   "metadata": {},
   "outputs": [
    {
     "data": {
      "text/plain": [
       "array(['Yes', 'No'], dtype=object)"
      ]
     },
     "execution_count": 234,
     "metadata": {},
     "output_type": "execute_result"
    }
   ],
   "source": [
    "df.book_table.unique()"
   ]
  },
  {
   "cell_type": "code",
   "execution_count": 235,
   "id": "83946940-ad09-41d1-8418-af1fc9c3e1aa",
   "metadata": {},
   "outputs": [
    {
     "data": {
      "text/plain": [
       "array(['Yes', 'No'], dtype=object)"
      ]
     },
     "execution_count": 235,
     "metadata": {},
     "output_type": "execute_result"
    }
   ],
   "source": [
    "df.online_order.unique()\n"
   ]
  },
  {
   "cell_type": "code",
   "execution_count": 240,
   "id": "ec0b4978-e262-468f-a46e-3e004f204d5a",
   "metadata": {},
   "outputs": [
    {
     "data": {
      "text/plain": [
       "3754"
      ]
     },
     "execution_count": 240,
     "metadata": {},
     "output_type": "execute_result"
    }
   ],
   "source": [
    "len(df[(df.book_table=='Yes') & (df.online_order=='Yes')])"
   ]
  },
  {
   "cell_type": "markdown",
   "id": "11c752e3-07c3-4fdb-846d-49f5b3ce5c11",
   "metadata": {},
   "source": [
    "## What are the top 5 restaurants with the highest number of dish likes (dish_liked)?\n",
    "Can you find out the most common listed types (listed_in(type)) for restaurants in the dataset?\n",
    "Is there any relationship between the number of votes a restaurant receives and its average rating?"
   ]
  },
  {
   "cell_type": "code",
   "execution_count": 241,
   "id": "3ed60a45-351c-4172-8a51-0e1c0dd5daa3",
   "metadata": {},
   "outputs": [
    {
     "data": {
      "text/html": [
       "<div>\n",
       "<style scoped>\n",
       "    .dataframe tbody tr th:only-of-type {\n",
       "        vertical-align: middle;\n",
       "    }\n",
       "\n",
       "    .dataframe tbody tr th {\n",
       "        vertical-align: top;\n",
       "    }\n",
       "\n",
       "    .dataframe thead th {\n",
       "        text-align: right;\n",
       "    }\n",
       "</style>\n",
       "<table border=\"1\" class=\"dataframe\">\n",
       "  <thead>\n",
       "    <tr style=\"text-align: right;\">\n",
       "      <th></th>\n",
       "      <th>address</th>\n",
       "      <th>name</th>\n",
       "      <th>online_order</th>\n",
       "      <th>book_table</th>\n",
       "      <th>rate</th>\n",
       "      <th>votes</th>\n",
       "      <th>phone</th>\n",
       "      <th>location</th>\n",
       "      <th>rest_type</th>\n",
       "      <th>dish_liked</th>\n",
       "      <th>cuisines</th>\n",
       "      <th>approx_cost(for two people)</th>\n",
       "      <th>listed_in(type)</th>\n",
       "      <th>rating</th>\n",
       "    </tr>\n",
       "  </thead>\n",
       "  <tbody>\n",
       "    <tr>\n",
       "      <th>0</th>\n",
       "      <td>942, 21st Main Road, 2nd Stage, Banashankari, ...</td>\n",
       "      <td>Jalsa</td>\n",
       "      <td>Yes</td>\n",
       "      <td>Yes</td>\n",
       "      <td>4.1/5</td>\n",
       "      <td>775</td>\n",
       "      <td>080 42297555\\r\\n+91 9743772233</td>\n",
       "      <td>Banashankari</td>\n",
       "      <td>Casual Dining</td>\n",
       "      <td>Pasta, Lunch Buffet, Masala Papad, Paneer Laja...</td>\n",
       "      <td>North Indian, Mughlai, Chinese</td>\n",
       "      <td>800.0</td>\n",
       "      <td>Buffet</td>\n",
       "      <td>4.1</td>\n",
       "    </tr>\n",
       "    <tr>\n",
       "      <th>1</th>\n",
       "      <td>2nd Floor, 80 Feet Road, Near Big Bazaar, 6th ...</td>\n",
       "      <td>Spice Elephant</td>\n",
       "      <td>Yes</td>\n",
       "      <td>No</td>\n",
       "      <td>4.1/5</td>\n",
       "      <td>787</td>\n",
       "      <td>080 41714161</td>\n",
       "      <td>Banashankari</td>\n",
       "      <td>Casual Dining</td>\n",
       "      <td>Momos, Lunch Buffet, Chocolate Nirvana, Thai G...</td>\n",
       "      <td>Chinese, North Indian, Thai</td>\n",
       "      <td>800.0</td>\n",
       "      <td>Buffet</td>\n",
       "      <td>4.1</td>\n",
       "    </tr>\n",
       "    <tr>\n",
       "      <th>2</th>\n",
       "      <td>1112, Next to KIMS Medical College, 17th Cross...</td>\n",
       "      <td>San Churro Cafe</td>\n",
       "      <td>Yes</td>\n",
       "      <td>No</td>\n",
       "      <td>3.8/5</td>\n",
       "      <td>918</td>\n",
       "      <td>+91 9663487993</td>\n",
       "      <td>Banashankari</td>\n",
       "      <td>Cafe, Casual Dining</td>\n",
       "      <td>Churros, Cannelloni, Minestrone Soup, Hot Choc...</td>\n",
       "      <td>Cafe, Mexican, Italian</td>\n",
       "      <td>800.0</td>\n",
       "      <td>Buffet</td>\n",
       "      <td>3.8</td>\n",
       "    </tr>\n",
       "    <tr>\n",
       "      <th>3</th>\n",
       "      <td>1st Floor, Annakuteera, 3rd Stage, Banashankar...</td>\n",
       "      <td>Addhuri Udupi Bhojana</td>\n",
       "      <td>No</td>\n",
       "      <td>No</td>\n",
       "      <td>3.7/5</td>\n",
       "      <td>88</td>\n",
       "      <td>+91 9620009302</td>\n",
       "      <td>Banashankari</td>\n",
       "      <td>Quick Bites</td>\n",
       "      <td>Masala Dosa</td>\n",
       "      <td>South Indian, North Indian</td>\n",
       "      <td>300.0</td>\n",
       "      <td>Buffet</td>\n",
       "      <td>3.7</td>\n",
       "    </tr>\n",
       "    <tr>\n",
       "      <th>4</th>\n",
       "      <td>10, 3rd Floor, Lakshmi Associates, Gandhi Baza...</td>\n",
       "      <td>Grand Village</td>\n",
       "      <td>No</td>\n",
       "      <td>No</td>\n",
       "      <td>3.8/5</td>\n",
       "      <td>166</td>\n",
       "      <td>+91 8026612447\\r\\n+91 9901210005</td>\n",
       "      <td>Basavanagudi</td>\n",
       "      <td>Casual Dining</td>\n",
       "      <td>Panipuri, Gol Gappe</td>\n",
       "      <td>North Indian, Rajasthani</td>\n",
       "      <td>600.0</td>\n",
       "      <td>Buffet</td>\n",
       "      <td>3.8</td>\n",
       "    </tr>\n",
       "  </tbody>\n",
       "</table>\n",
       "</div>"
      ],
      "text/plain": [
       "                                             address                   name  \\\n",
       "0  942, 21st Main Road, 2nd Stage, Banashankari, ...                  Jalsa   \n",
       "1  2nd Floor, 80 Feet Road, Near Big Bazaar, 6th ...         Spice Elephant   \n",
       "2  1112, Next to KIMS Medical College, 17th Cross...        San Churro Cafe   \n",
       "3  1st Floor, Annakuteera, 3rd Stage, Banashankar...  Addhuri Udupi Bhojana   \n",
       "4  10, 3rd Floor, Lakshmi Associates, Gandhi Baza...          Grand Village   \n",
       "\n",
       "  online_order book_table   rate votes                             phone  \\\n",
       "0          Yes        Yes  4.1/5   775    080 42297555\\r\\n+91 9743772233   \n",
       "1          Yes         No  4.1/5   787                      080 41714161   \n",
       "2          Yes         No  3.8/5   918                    +91 9663487993   \n",
       "3           No         No  3.7/5    88                    +91 9620009302   \n",
       "4           No         No  3.8/5   166  +91 8026612447\\r\\n+91 9901210005   \n",
       "\n",
       "       location            rest_type  \\\n",
       "0  Banashankari        Casual Dining   \n",
       "1  Banashankari        Casual Dining   \n",
       "2  Banashankari  Cafe, Casual Dining   \n",
       "3  Banashankari          Quick Bites   \n",
       "4  Basavanagudi        Casual Dining   \n",
       "\n",
       "                                          dish_liked  \\\n",
       "0  Pasta, Lunch Buffet, Masala Papad, Paneer Laja...   \n",
       "1  Momos, Lunch Buffet, Chocolate Nirvana, Thai G...   \n",
       "2  Churros, Cannelloni, Minestrone Soup, Hot Choc...   \n",
       "3                                        Masala Dosa   \n",
       "4                                Panipuri, Gol Gappe   \n",
       "\n",
       "                         cuisines  approx_cost(for two people)  \\\n",
       "0  North Indian, Mughlai, Chinese                        800.0   \n",
       "1     Chinese, North Indian, Thai                        800.0   \n",
       "2          Cafe, Mexican, Italian                        800.0   \n",
       "3      South Indian, North Indian                        300.0   \n",
       "4        North Indian, Rajasthani                        600.0   \n",
       "\n",
       "  listed_in(type)  rating  \n",
       "0          Buffet     4.1  \n",
       "1          Buffet     4.1  \n",
       "2          Buffet     3.8  \n",
       "3          Buffet     3.7  \n",
       "4          Buffet     3.8  "
      ]
     },
     "execution_count": 241,
     "metadata": {},
     "output_type": "execute_result"
    }
   ],
   "source": [
    "df.head()"
   ]
  },
  {
   "cell_type": "code",
   "execution_count": 243,
   "id": "cb17bcce-6d28-4f8b-8c17-d63479416715",
   "metadata": {},
   "outputs": [
    {
     "data": {
      "text/plain": [
       "11"
      ]
     },
     "execution_count": 243,
     "metadata": {},
     "output_type": "execute_result"
    }
   ],
   "source": [
    "len(df.loc[3].dish_liked)"
   ]
  },
  {
   "cell_type": "code",
   "execution_count": 244,
   "id": "0233a142-4104-43cb-8752-c3e12fe0dd29",
   "metadata": {},
   "outputs": [
    {
     "data": {
      "text/plain": [
       "address                        1st Floor, Annakuteera, 3rd Stage, Banashankar...\n",
       "name                                                       Addhuri Udupi Bhojana\n",
       "online_order                                                                  No\n",
       "book_table                                                                    No\n",
       "rate                                                                       3.7/5\n",
       "votes                                                                         88\n",
       "phone                                                             +91 9620009302\n",
       "location                                                            Banashankari\n",
       "rest_type                                                            Quick Bites\n",
       "dish_liked                                                           Masala Dosa\n",
       "cuisines                                              South Indian, North Indian\n",
       "approx_cost(for two people)                                                300.0\n",
       "listed_in(type)                                                           Buffet\n",
       "rating                                                                       3.7\n",
       "Name: 3, dtype: object"
      ]
     },
     "execution_count": 244,
     "metadata": {},
     "output_type": "execute_result"
    }
   ],
   "source": [
    "df.loc[3]"
   ]
  },
  {
   "cell_type": "code",
   "execution_count": 248,
   "id": "c66f3ca4-4820-44a4-9639-06bfb13d7e55",
   "metadata": {},
   "outputs": [
    {
     "data": {
      "text/plain": [
       "[['Churros',\n",
       "  ' Cannelloni',\n",
       "  ' Minestrone Soup',\n",
       "  ' Hot Chocolate',\n",
       "  ' Pink Sauce Pasta',\n",
       "  ' Salsa',\n",
       "  ' Veg Supreme Pizza']]"
      ]
     },
     "execution_count": 248,
     "metadata": {},
     "output_type": "execute_result"
    }
   ],
   "source": [
    "[(df.loc[2].dish_liked).split(',')]\n"
   ]
  },
  {
   "cell_type": "code",
   "execution_count": 254,
   "id": "ca2fd11a-3b67-4649-b417-3127ecf6c001",
   "metadata": {},
   "outputs": [],
   "source": [
    "dish=df"
   ]
  },
  {
   "cell_type": "code",
   "execution_count": 261,
   "id": "298640d7-e4bb-4e0e-b84d-6b75d9348b73",
   "metadata": {},
   "outputs": [],
   "source": [
    "dish['dish_liked'] = dish.dish_liked.apply(lambda x: x.split(',') if isinstance(x, str) else [])\n",
    "#dish.groupby('name').len()"
   ]
  },
  {
   "cell_type": "code",
   "execution_count": 263,
   "id": "2e9fed14-8fa1-4ce3-ae55-54b36b4b8a56",
   "metadata": {},
   "outputs": [
    {
     "data": {
      "text/plain": [
       "address                           0\n",
       "name                              0\n",
       "online_order                      0\n",
       "book_table                        0\n",
       "rate                              0\n",
       "votes                             0\n",
       "phone                           814\n",
       "location                          0\n",
       "rest_type                       149\n",
       "dish_liked                        0\n",
       "cuisines                         11\n",
       "approx_cost(for two people)    6654\n",
       "listed_in(type)                4346\n",
       "rating                            0\n",
       "dtype: int64"
      ]
     },
     "execution_count": 263,
     "metadata": {},
     "output_type": "execute_result"
    }
   ],
   "source": [
    "dish.isna().sum()"
   ]
  },
  {
   "cell_type": "code",
   "execution_count": 265,
   "id": "1dcad266-741d-40f4-8e34-5588b24c3f32",
   "metadata": {},
   "outputs": [
    {
     "data": {
      "text/plain": [
       "address                           0\n",
       "name                              0\n",
       "online_order                      0\n",
       "book_table                        0\n",
       "rate                              0\n",
       "votes                             0\n",
       "phone                           814\n",
       "location                          0\n",
       "rest_type                       149\n",
       "dish_liked                        0\n",
       "cuisines                         11\n",
       "approx_cost(for two people)    6654\n",
       "listed_in(type)                4346\n",
       "rating                            0\n",
       "dtype: int64"
      ]
     },
     "execution_count": 265,
     "metadata": {},
     "output_type": "execute_result"
    }
   ],
   "source": [
    "df.isna().sum()"
   ]
  },
  {
   "cell_type": "code",
   "execution_count": 266,
   "id": "bede7c79-72f4-4674-8ed8-250e76e0afff",
   "metadata": {},
   "outputs": [
    {
     "ename": "AttributeError",
     "evalue": "'DataFrameGroupBy' object has no attribute 'len'",
     "output_type": "error",
     "traceback": [
      "\u001b[0;31m---------------------------------------------------------------------------\u001b[0m",
      "\u001b[0;31mAttributeError\u001b[0m                            Traceback (most recent call last)",
      "Cell \u001b[0;32mIn[266], line 1\u001b[0m\n\u001b[0;32m----> 1\u001b[0m \u001b[43mdish\u001b[49m\u001b[38;5;241;43m.\u001b[39;49m\u001b[43mgroupby\u001b[49m\u001b[43m(\u001b[49m\u001b[38;5;124;43m'\u001b[39;49m\u001b[38;5;124;43mname\u001b[39;49m\u001b[38;5;124;43m'\u001b[39;49m\u001b[43m)\u001b[49m\u001b[38;5;241;43m.\u001b[39;49m\u001b[43mlen\u001b[49m(dish\u001b[38;5;241m.\u001b[39mdish_liked)\n",
      "File \u001b[0;32m~/.local/lib/python3.10/site-packages/pandas/core/groupby/groupby.py:952\u001b[0m, in \u001b[0;36mGroupBy.__getattr__\u001b[0;34m(self, attr)\u001b[0m\n\u001b[1;32m    949\u001b[0m \u001b[38;5;28;01mif\u001b[39;00m attr \u001b[38;5;129;01min\u001b[39;00m \u001b[38;5;28mself\u001b[39m\u001b[38;5;241m.\u001b[39mobj:\n\u001b[1;32m    950\u001b[0m     \u001b[38;5;28;01mreturn\u001b[39;00m \u001b[38;5;28mself\u001b[39m[attr]\n\u001b[0;32m--> 952\u001b[0m \u001b[38;5;28;01mraise\u001b[39;00m \u001b[38;5;167;01mAttributeError\u001b[39;00m(\n\u001b[1;32m    953\u001b[0m     \u001b[38;5;124mf\u001b[39m\u001b[38;5;124m\"\u001b[39m\u001b[38;5;124m'\u001b[39m\u001b[38;5;132;01m{\u001b[39;00m\u001b[38;5;28mtype\u001b[39m(\u001b[38;5;28mself\u001b[39m)\u001b[38;5;241m.\u001b[39m\u001b[38;5;18m__name__\u001b[39m\u001b[38;5;132;01m}\u001b[39;00m\u001b[38;5;124m'\u001b[39m\u001b[38;5;124m object has no attribute \u001b[39m\u001b[38;5;124m'\u001b[39m\u001b[38;5;132;01m{\u001b[39;00mattr\u001b[38;5;132;01m}\u001b[39;00m\u001b[38;5;124m'\u001b[39m\u001b[38;5;124m\"\u001b[39m\n\u001b[1;32m    954\u001b[0m )\n",
      "\u001b[0;31mAttributeError\u001b[0m: 'DataFrameGroupBy' object has no attribute 'len'"
     ]
    }
   ],
   "source": [
    "dish.groupby('name').len(dish.dish_liked)"
   ]
  },
  {
   "cell_type": "code",
   "execution_count": 270,
   "id": "8812f01b-2e52-4855-9c20-3b80a3eb5670",
   "metadata": {},
   "outputs": [],
   "source": [
    "grouped_data = dish.groupby('name')['dish_liked'].apply(lambda x: len(dish.dish_liked))"
   ]
  },
  {
   "cell_type": "code",
   "execution_count": 271,
   "id": "801e3e7c-a10a-4a40-8e78-2997ec4c2d92",
   "metadata": {},
   "outputs": [
    {
     "data": {
      "text/plain": [
       "name\n",
       "#FeelTheROLL                                                            41665\n",
       "#L-81 Cafe                                                              41665\n",
       "#refuel                                                                 41665\n",
       "1000 B.C                                                                41665\n",
       "100ÃƒÂƒÃ‚ÂƒÃƒÂ‚Ã‚ÂƒÃƒÂƒÃ‚Â‚ÃƒÂ‚Ã‚Â‚ÃƒÂƒÃ‚ÂƒÃƒÂ‚Ã‚Â‚ÃƒÂƒÃ‚Â‚ÃƒÂ‚Ã‚Â°C    41665\n",
       "                                                                        ...  \n",
       "i-Bar - The Park Bangalore                                              41665\n",
       "iFruit Live Ice Creams                                                  41665\n",
       "iSpice Resto Cafe                                                       41665\n",
       "nu.tree                                                                 41665\n",
       "re:cess - Hilton Bangalore Embassy GolfLinks                            41665\n",
       "Name: dish_liked, Length: 6649, dtype: int64"
      ]
     },
     "execution_count": 271,
     "metadata": {},
     "output_type": "execute_result"
    }
   ],
   "source": [
    "grouped_data"
   ]
  },
  {
   "cell_type": "code",
   "execution_count": null,
   "id": "c2453c1a-63a7-4d58-9468-20bc330e3ff3",
   "metadata": {},
   "outputs": [],
   "source": []
  }
 ],
 "metadata": {
  "kernelspec": {
   "display_name": "Python 3 (ipykernel)",
   "language": "python",
   "name": "python3"
  },
  "language_info": {
   "codemirror_mode": {
    "name": "ipython",
    "version": 3
   },
   "file_extension": ".py",
   "mimetype": "text/x-python",
   "name": "python",
   "nbconvert_exporter": "python",
   "pygments_lexer": "ipython3",
   "version": "3.10.6"
  }
 },
 "nbformat": 4,
 "nbformat_minor": 5
}
