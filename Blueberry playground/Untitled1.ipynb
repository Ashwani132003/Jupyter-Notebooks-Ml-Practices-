{
 "cells": [
  {
   "cell_type": "code",
   "execution_count": null,
   "id": "95455ee1-27ca-45a3-8a1f-10e713747339",
   "metadata": {},
   "outputs": [],
   "source": []
  },
  {
   "cell_type": "code",
   "execution_count": 89,
   "id": "643c6c46-2d9b-4d37-8b5e-d433cd9e0146",
   "metadata": {},
   "outputs": [],
   "source": [
    "import numpy as np\n",
    "import pandas as pd\n",
    "import matplotlib.pyplot as plt\n",
    "import seaborn as sns"
   ]
  },
  {
   "cell_type": "code",
   "execution_count": 90,
   "id": "843b59b9-0715-4a1c-86d1-024e1ad7b89d",
   "metadata": {},
   "outputs": [],
   "source": [
    "df = pd.read_csv('playground-series-s3e14 blueberry/train.csv')"
   ]
  },
  {
   "cell_type": "code",
   "execution_count": 91,
   "id": "d0f8ee8d-5dbe-40ea-a223-1471ae77f48e",
   "metadata": {},
   "outputs": [
    {
     "data": {
      "text/html": [
       "<div>\n",
       "<style scoped>\n",
       "    .dataframe tbody tr th:only-of-type {\n",
       "        vertical-align: middle;\n",
       "    }\n",
       "\n",
       "    .dataframe tbody tr th {\n",
       "        vertical-align: top;\n",
       "    }\n",
       "\n",
       "    .dataframe thead th {\n",
       "        text-align: right;\n",
       "    }\n",
       "</style>\n",
       "<table border=\"1\" class=\"dataframe\">\n",
       "  <thead>\n",
       "    <tr style=\"text-align: right;\">\n",
       "      <th></th>\n",
       "      <th>id</th>\n",
       "      <th>clonesize</th>\n",
       "      <th>honeybee</th>\n",
       "      <th>bumbles</th>\n",
       "      <th>andrena</th>\n",
       "      <th>osmia</th>\n",
       "      <th>MaxOfUpperTRange</th>\n",
       "      <th>MinOfUpperTRange</th>\n",
       "      <th>AverageOfUpperTRange</th>\n",
       "      <th>MaxOfLowerTRange</th>\n",
       "      <th>MinOfLowerTRange</th>\n",
       "      <th>AverageOfLowerTRange</th>\n",
       "      <th>RainingDays</th>\n",
       "      <th>AverageRainingDays</th>\n",
       "      <th>fruitset</th>\n",
       "      <th>fruitmass</th>\n",
       "      <th>seeds</th>\n",
       "      <th>yield</th>\n",
       "    </tr>\n",
       "  </thead>\n",
       "  <tbody>\n",
       "    <tr>\n",
       "      <th>0</th>\n",
       "      <td>0</td>\n",
       "      <td>25.0</td>\n",
       "      <td>0.50</td>\n",
       "      <td>0.25</td>\n",
       "      <td>0.75</td>\n",
       "      <td>0.50</td>\n",
       "      <td>69.7</td>\n",
       "      <td>42.1</td>\n",
       "      <td>58.2</td>\n",
       "      <td>50.2</td>\n",
       "      <td>24.3</td>\n",
       "      <td>41.2</td>\n",
       "      <td>24.0</td>\n",
       "      <td>0.39</td>\n",
       "      <td>0.425011</td>\n",
       "      <td>0.417545</td>\n",
       "      <td>32.460887</td>\n",
       "      <td>4476.81146</td>\n",
       "    </tr>\n",
       "    <tr>\n",
       "      <th>1</th>\n",
       "      <td>1</td>\n",
       "      <td>25.0</td>\n",
       "      <td>0.50</td>\n",
       "      <td>0.25</td>\n",
       "      <td>0.50</td>\n",
       "      <td>0.50</td>\n",
       "      <td>69.7</td>\n",
       "      <td>42.1</td>\n",
       "      <td>58.2</td>\n",
       "      <td>50.2</td>\n",
       "      <td>24.3</td>\n",
       "      <td>41.2</td>\n",
       "      <td>24.0</td>\n",
       "      <td>0.39</td>\n",
       "      <td>0.444908</td>\n",
       "      <td>0.422051</td>\n",
       "      <td>33.858317</td>\n",
       "      <td>5548.12201</td>\n",
       "    </tr>\n",
       "    <tr>\n",
       "      <th>2</th>\n",
       "      <td>2</td>\n",
       "      <td>12.5</td>\n",
       "      <td>0.25</td>\n",
       "      <td>0.25</td>\n",
       "      <td>0.63</td>\n",
       "      <td>0.63</td>\n",
       "      <td>86.0</td>\n",
       "      <td>52.0</td>\n",
       "      <td>71.9</td>\n",
       "      <td>62.0</td>\n",
       "      <td>30.0</td>\n",
       "      <td>50.8</td>\n",
       "      <td>24.0</td>\n",
       "      <td>0.39</td>\n",
       "      <td>0.552927</td>\n",
       "      <td>0.470853</td>\n",
       "      <td>38.341781</td>\n",
       "      <td>6869.77760</td>\n",
       "    </tr>\n",
       "    <tr>\n",
       "      <th>3</th>\n",
       "      <td>3</td>\n",
       "      <td>12.5</td>\n",
       "      <td>0.25</td>\n",
       "      <td>0.25</td>\n",
       "      <td>0.63</td>\n",
       "      <td>0.50</td>\n",
       "      <td>77.4</td>\n",
       "      <td>46.8</td>\n",
       "      <td>64.7</td>\n",
       "      <td>55.8</td>\n",
       "      <td>27.0</td>\n",
       "      <td>45.8</td>\n",
       "      <td>24.0</td>\n",
       "      <td>0.39</td>\n",
       "      <td>0.565976</td>\n",
       "      <td>0.478137</td>\n",
       "      <td>39.467561</td>\n",
       "      <td>6880.77590</td>\n",
       "    </tr>\n",
       "    <tr>\n",
       "      <th>4</th>\n",
       "      <td>4</td>\n",
       "      <td>25.0</td>\n",
       "      <td>0.50</td>\n",
       "      <td>0.25</td>\n",
       "      <td>0.63</td>\n",
       "      <td>0.63</td>\n",
       "      <td>77.4</td>\n",
       "      <td>46.8</td>\n",
       "      <td>64.7</td>\n",
       "      <td>55.8</td>\n",
       "      <td>27.0</td>\n",
       "      <td>45.8</td>\n",
       "      <td>24.0</td>\n",
       "      <td>0.39</td>\n",
       "      <td>0.579677</td>\n",
       "      <td>0.494165</td>\n",
       "      <td>40.484512</td>\n",
       "      <td>7479.93417</td>\n",
       "    </tr>\n",
       "  </tbody>\n",
       "</table>\n",
       "</div>"
      ],
      "text/plain": [
       "   id  clonesize  honeybee  bumbles  andrena  osmia  MaxOfUpperTRange  \\\n",
       "0   0       25.0      0.50     0.25     0.75   0.50              69.7   \n",
       "1   1       25.0      0.50     0.25     0.50   0.50              69.7   \n",
       "2   2       12.5      0.25     0.25     0.63   0.63              86.0   \n",
       "3   3       12.5      0.25     0.25     0.63   0.50              77.4   \n",
       "4   4       25.0      0.50     0.25     0.63   0.63              77.4   \n",
       "\n",
       "   MinOfUpperTRange  AverageOfUpperTRange  MaxOfLowerTRange  MinOfLowerTRange  \\\n",
       "0              42.1                  58.2              50.2              24.3   \n",
       "1              42.1                  58.2              50.2              24.3   \n",
       "2              52.0                  71.9              62.0              30.0   \n",
       "3              46.8                  64.7              55.8              27.0   \n",
       "4              46.8                  64.7              55.8              27.0   \n",
       "\n",
       "   AverageOfLowerTRange  RainingDays  AverageRainingDays  fruitset  fruitmass  \\\n",
       "0                  41.2         24.0                0.39  0.425011   0.417545   \n",
       "1                  41.2         24.0                0.39  0.444908   0.422051   \n",
       "2                  50.8         24.0                0.39  0.552927   0.470853   \n",
       "3                  45.8         24.0                0.39  0.565976   0.478137   \n",
       "4                  45.8         24.0                0.39  0.579677   0.494165   \n",
       "\n",
       "       seeds       yield  \n",
       "0  32.460887  4476.81146  \n",
       "1  33.858317  5548.12201  \n",
       "2  38.341781  6869.77760  \n",
       "3  39.467561  6880.77590  \n",
       "4  40.484512  7479.93417  "
      ]
     },
     "execution_count": 91,
     "metadata": {},
     "output_type": "execute_result"
    }
   ],
   "source": [
    "df.head()"
   ]
  },
  {
   "cell_type": "code",
   "execution_count": 92,
   "id": "35aa81b8-271a-48fa-ba73-8a3decd068fe",
   "metadata": {},
   "outputs": [],
   "source": [
    "from sklearn.linear_model import LinearRegression"
   ]
  },
  {
   "cell_type": "code",
   "execution_count": 93,
   "id": "9e7f25a5-e321-41fe-bfbe-881aa142a7ba",
   "metadata": {},
   "outputs": [],
   "source": [
    "from sklearn.model_selection import train_test_split"
   ]
  },
  {
   "cell_type": "code",
   "execution_count": 94,
   "id": "e38bc30c-e7f0-4d74-948f-0f15dd854f8b",
   "metadata": {},
   "outputs": [
    {
     "data": {
      "text/html": [
       "<div>\n",
       "<style scoped>\n",
       "    .dataframe tbody tr th:only-of-type {\n",
       "        vertical-align: middle;\n",
       "    }\n",
       "\n",
       "    .dataframe tbody tr th {\n",
       "        vertical-align: top;\n",
       "    }\n",
       "\n",
       "    .dataframe thead th {\n",
       "        text-align: right;\n",
       "    }\n",
       "</style>\n",
       "<table border=\"1\" class=\"dataframe\">\n",
       "  <thead>\n",
       "    <tr style=\"text-align: right;\">\n",
       "      <th></th>\n",
       "      <th>id</th>\n",
       "      <th>clonesize</th>\n",
       "      <th>honeybee</th>\n",
       "      <th>bumbles</th>\n",
       "      <th>andrena</th>\n",
       "      <th>osmia</th>\n",
       "      <th>MaxOfUpperTRange</th>\n",
       "      <th>MinOfUpperTRange</th>\n",
       "      <th>AverageOfUpperTRange</th>\n",
       "      <th>MaxOfLowerTRange</th>\n",
       "      <th>MinOfLowerTRange</th>\n",
       "      <th>AverageOfLowerTRange</th>\n",
       "      <th>RainingDays</th>\n",
       "      <th>AverageRainingDays</th>\n",
       "      <th>fruitset</th>\n",
       "      <th>fruitmass</th>\n",
       "      <th>seeds</th>\n",
       "    </tr>\n",
       "  </thead>\n",
       "  <tbody>\n",
       "    <tr>\n",
       "      <th>0</th>\n",
       "      <td>0</td>\n",
       "      <td>25.0</td>\n",
       "      <td>0.50</td>\n",
       "      <td>0.25</td>\n",
       "      <td>0.75</td>\n",
       "      <td>0.50</td>\n",
       "      <td>69.7</td>\n",
       "      <td>42.1</td>\n",
       "      <td>58.2</td>\n",
       "      <td>50.2</td>\n",
       "      <td>24.3</td>\n",
       "      <td>41.2</td>\n",
       "      <td>24.0</td>\n",
       "      <td>0.39</td>\n",
       "      <td>0.425011</td>\n",
       "      <td>0.417545</td>\n",
       "      <td>32.460887</td>\n",
       "    </tr>\n",
       "    <tr>\n",
       "      <th>1</th>\n",
       "      <td>1</td>\n",
       "      <td>25.0</td>\n",
       "      <td>0.50</td>\n",
       "      <td>0.25</td>\n",
       "      <td>0.50</td>\n",
       "      <td>0.50</td>\n",
       "      <td>69.7</td>\n",
       "      <td>42.1</td>\n",
       "      <td>58.2</td>\n",
       "      <td>50.2</td>\n",
       "      <td>24.3</td>\n",
       "      <td>41.2</td>\n",
       "      <td>24.0</td>\n",
       "      <td>0.39</td>\n",
       "      <td>0.444908</td>\n",
       "      <td>0.422051</td>\n",
       "      <td>33.858317</td>\n",
       "    </tr>\n",
       "    <tr>\n",
       "      <th>2</th>\n",
       "      <td>2</td>\n",
       "      <td>12.5</td>\n",
       "      <td>0.25</td>\n",
       "      <td>0.25</td>\n",
       "      <td>0.63</td>\n",
       "      <td>0.63</td>\n",
       "      <td>86.0</td>\n",
       "      <td>52.0</td>\n",
       "      <td>71.9</td>\n",
       "      <td>62.0</td>\n",
       "      <td>30.0</td>\n",
       "      <td>50.8</td>\n",
       "      <td>24.0</td>\n",
       "      <td>0.39</td>\n",
       "      <td>0.552927</td>\n",
       "      <td>0.470853</td>\n",
       "      <td>38.341781</td>\n",
       "    </tr>\n",
       "    <tr>\n",
       "      <th>3</th>\n",
       "      <td>3</td>\n",
       "      <td>12.5</td>\n",
       "      <td>0.25</td>\n",
       "      <td>0.25</td>\n",
       "      <td>0.63</td>\n",
       "      <td>0.50</td>\n",
       "      <td>77.4</td>\n",
       "      <td>46.8</td>\n",
       "      <td>64.7</td>\n",
       "      <td>55.8</td>\n",
       "      <td>27.0</td>\n",
       "      <td>45.8</td>\n",
       "      <td>24.0</td>\n",
       "      <td>0.39</td>\n",
       "      <td>0.565976</td>\n",
       "      <td>0.478137</td>\n",
       "      <td>39.467561</td>\n",
       "    </tr>\n",
       "    <tr>\n",
       "      <th>4</th>\n",
       "      <td>4</td>\n",
       "      <td>25.0</td>\n",
       "      <td>0.50</td>\n",
       "      <td>0.25</td>\n",
       "      <td>0.63</td>\n",
       "      <td>0.63</td>\n",
       "      <td>77.4</td>\n",
       "      <td>46.8</td>\n",
       "      <td>64.7</td>\n",
       "      <td>55.8</td>\n",
       "      <td>27.0</td>\n",
       "      <td>45.8</td>\n",
       "      <td>24.0</td>\n",
       "      <td>0.39</td>\n",
       "      <td>0.579677</td>\n",
       "      <td>0.494165</td>\n",
       "      <td>40.484512</td>\n",
       "    </tr>\n",
       "  </tbody>\n",
       "</table>\n",
       "</div>"
      ],
      "text/plain": [
       "   id  clonesize  honeybee  bumbles  andrena  osmia  MaxOfUpperTRange  \\\n",
       "0   0       25.0      0.50     0.25     0.75   0.50              69.7   \n",
       "1   1       25.0      0.50     0.25     0.50   0.50              69.7   \n",
       "2   2       12.5      0.25     0.25     0.63   0.63              86.0   \n",
       "3   3       12.5      0.25     0.25     0.63   0.50              77.4   \n",
       "4   4       25.0      0.50     0.25     0.63   0.63              77.4   \n",
       "\n",
       "   MinOfUpperTRange  AverageOfUpperTRange  MaxOfLowerTRange  MinOfLowerTRange  \\\n",
       "0              42.1                  58.2              50.2              24.3   \n",
       "1              42.1                  58.2              50.2              24.3   \n",
       "2              52.0                  71.9              62.0              30.0   \n",
       "3              46.8                  64.7              55.8              27.0   \n",
       "4              46.8                  64.7              55.8              27.0   \n",
       "\n",
       "   AverageOfLowerTRange  RainingDays  AverageRainingDays  fruitset  fruitmass  \\\n",
       "0                  41.2         24.0                0.39  0.425011   0.417545   \n",
       "1                  41.2         24.0                0.39  0.444908   0.422051   \n",
       "2                  50.8         24.0                0.39  0.552927   0.470853   \n",
       "3                  45.8         24.0                0.39  0.565976   0.478137   \n",
       "4                  45.8         24.0                0.39  0.579677   0.494165   \n",
       "\n",
       "       seeds  \n",
       "0  32.460887  \n",
       "1  33.858317  \n",
       "2  38.341781  \n",
       "3  39.467561  \n",
       "4  40.484512  "
      ]
     },
     "execution_count": 94,
     "metadata": {},
     "output_type": "execute_result"
    }
   ],
   "source": [
    "X = df.drop('yield',axis=1)\n",
    "X.head()"
   ]
  },
  {
   "cell_type": "code",
   "execution_count": 95,
   "id": "57ce2b42-6c58-47bd-8dd1-d81efc4648ba",
   "metadata": {},
   "outputs": [
    {
     "data": {
      "text/plain": [
       "0    4476.81146\n",
       "1    5548.12201\n",
       "2    6869.77760\n",
       "3    6880.77590\n",
       "4    7479.93417\n",
       "Name: yield, dtype: float64"
      ]
     },
     "execution_count": 95,
     "metadata": {},
     "output_type": "execute_result"
    }
   ],
   "source": [
    "Y = df.iloc[:,-1].copy()\n",
    "Y.head()"
   ]
  },
  {
   "cell_type": "code",
   "execution_count": null,
   "id": "68267d43-7c33-415b-8a4d-dd1eeac6bb5f",
   "metadata": {},
   "outputs": [],
   "source": []
  },
  {
   "cell_type": "code",
   "execution_count": null,
   "id": "97b756f7-eb38-40bf-bc5c-860ac035ad9d",
   "metadata": {},
   "outputs": [],
   "source": []
  },
  {
   "cell_type": "code",
   "execution_count": 96,
   "id": "f8447636-512f-4e95-951a-7f240b07478e",
   "metadata": {},
   "outputs": [],
   "source": [
    "X_train, X_test, Y_train, Y_test = train_test_split(X,Y, test_size=0.2)"
   ]
  },
  {
   "cell_type": "code",
   "execution_count": 97,
   "id": "be1be103-50a0-49e5-ab72-c0f4fcbb1dd9",
   "metadata": {},
   "outputs": [
    {
     "name": "stdout",
     "output_type": "stream",
     "text": [
      "[[ 0.22460711 -1.09377748 -0.38693612 -0.61533962  1.73162614  1.1378667\n",
      "  -0.51694408 -0.51321573 -0.51316634 -0.51434873 -0.51511669 -0.50901658\n",
      "  -1.51876657 -1.37075614  1.07816384  0.98772375  1.15108505]\n",
      " [ 0.58860645  0.80445629  0.30781116 -0.61533962 -0.76205238  0.27153968\n",
      "   0.42568555  0.42664118  0.43139592  0.42595551  0.42612072  0.4209041\n",
      "  -0.23059753 -0.39369734  0.06282563  0.19704559  0.04531044]\n",
      " [ 0.73823554  0.80445629  0.30781116 -0.61533962  0.92286554  0.27153968\n",
      "   0.42568555  0.42664118  0.43139592  0.42595551  0.42612072  0.4209041\n",
      "  -0.23059753 -0.39369734 -0.72307126 -0.58827814 -0.82060204]\n",
      " [-0.85992078  0.80445629 -0.38693612 -0.61533962 -1.6382097  -2.47182923\n",
      "   1.36831517  1.36649809  1.36283925  1.36625974  1.36735813  1.3694232\n",
      "   1.31520532  1.43828791 -1.35638378 -1.1943571  -1.33381289]\n",
      " [ 1.16131686  0.80445629  0.30781116  1.55424883 -0.76205238  0.27153968\n",
      "  -0.51694408 -0.51321573 -0.51316634 -0.51434873 -0.51511669 -0.50901658\n",
      "  -0.23059753 -0.39369734  0.87192789  0.80588784  0.63994924]\n",
      " [-0.74356776  0.80445629  0.30781116 -0.61533962  0.92286554  0.27153968\n",
      "  -1.36092641 -1.36270179 -1.36589614 -1.36365578 -1.36223036 -1.36454361\n",
      "  -0.23059753 -0.39369734 -1.12239385 -1.0944793  -0.70648163]\n",
      " [ 0.10599041 -1.09377748 -0.38693612 -0.61533962  1.73162614  0.27153968\n",
      "  -1.36092641 -1.36270179 -1.36589614 -1.36365578 -1.36223036 -1.36454361\n",
      "  -1.51876657 -1.37075614  1.74869134  2.11096294  2.06890287]\n",
      " [ 0.55351945  0.80445629  0.30781116 -0.61533962  0.92286554  0.27153968\n",
      "  -0.51694408 -0.51321573 -0.51316634 -0.51434873 -0.51511669 -0.50901658\n",
      "   1.31520532  1.43828791 -1.34949496 -1.25029448 -1.50866968]\n",
      " [ 0.63161633  0.80445629  0.30781116  1.55424883  0.04670822 -0.66698126\n",
      "  -0.51694408 -0.51321573 -0.51316634 -0.51434873 -0.51511669 -0.50901658\n",
      "   0.45642596  0.40016293 -0.12263351  0.01302204  0.03040979]\n",
      " [ 0.65900683  0.80445629  0.30781116 -0.61533962 -0.76205238  1.1378667\n",
      "   1.36831517  1.36649809  1.36283925  1.36625974  1.36735813  1.3694232\n",
      "   0.45642596  0.40016293  0.0948495   0.19507282  0.12495239]]\n"
     ]
    }
   ],
   "source": [
    "from sklearn.preprocessing import StandardScaler\n",
    "  \n",
    "sc_x = StandardScaler()\n",
    "X_train = sc_x.fit_transform(X_train)\n",
    "X_test = sc_x.transform(X_test)\n",
    "  \n",
    "print (X_train[0:10, :])"
   ]
  },
  {
   "cell_type": "code",
   "execution_count": 98,
   "id": "789a4c74-0502-48e5-a29a-222eda972a10",
   "metadata": {},
   "outputs": [],
   "source": [
    "model = LinearRegression()"
   ]
  },
  {
   "cell_type": "code",
   "execution_count": 99,
   "id": "601355eb-c8f1-4f53-b26f-a9bafef4fa50",
   "metadata": {},
   "outputs": [
    {
     "data": {
      "text/plain": [
       "LinearRegression()"
      ]
     },
     "execution_count": 99,
     "metadata": {},
     "output_type": "execute_result"
    }
   ],
   "source": [
    "model.fit(X_train,Y_train)"
   ]
  },
  {
   "cell_type": "code",
   "execution_count": null,
   "id": "30a4098c-fb72-40b3-9b16-1030fbb6d894",
   "metadata": {},
   "outputs": [],
   "source": []
  },
  {
   "cell_type": "code",
   "execution_count": null,
   "id": "192f9ab5-6ffb-4955-a5ee-3c892df53b26",
   "metadata": {},
   "outputs": [],
   "source": []
  },
  {
   "cell_type": "code",
   "execution_count": null,
   "id": "944303f5-229e-42d5-b72c-ee333e9a5487",
   "metadata": {},
   "outputs": [],
   "source": []
  },
  {
   "cell_type": "code",
   "execution_count": null,
   "id": "14b2a89f-00d4-4265-a292-b5694788075b",
   "metadata": {},
   "outputs": [],
   "source": []
  },
  {
   "cell_type": "code",
   "execution_count": 100,
   "id": "9045faf4-1600-44e6-8d5c-b55d34e06500",
   "metadata": {},
   "outputs": [
    {
     "data": {
      "text/plain": [
       "0.8277683214712108"
      ]
     },
     "execution_count": 100,
     "metadata": {},
     "output_type": "execute_result"
    }
   ],
   "source": [
    "model.score(X_test,Y_test)"
   ]
  },
  {
   "cell_type": "code",
   "execution_count": null,
   "id": "ff785c36-4e22-482b-ba4b-a65b6ca76a21",
   "metadata": {},
   "outputs": [],
   "source": []
  },
  {
   "cell_type": "markdown",
   "id": "a5a3cd45-4b95-46d6-81c5-1a6697067a3e",
   "metadata": {},
   "source": []
  },
  {
   "cell_type": "code",
   "execution_count": 57,
   "id": "700e41e5-6ac0-4e0d-a0aa-55edc78f6048",
   "metadata": {},
   "outputs": [],
   "source": []
  },
  {
   "cell_type": "code",
   "execution_count": null,
   "id": "f30be249-3a66-48a9-8690-9e0410e0ff86",
   "metadata": {},
   "outputs": [],
   "source": []
  },
  {
   "cell_type": "code",
   "execution_count": null,
   "id": "9c3680b3-475f-475f-b437-764236f9f404",
   "metadata": {},
   "outputs": [],
   "source": []
  },
  {
   "cell_type": "code",
   "execution_count": null,
   "id": "a6acde1c-d749-431b-beb5-a0bd24f2c708",
   "metadata": {},
   "outputs": [],
   "source": []
  },
  {
   "cell_type": "code",
   "execution_count": null,
   "id": "df76062d-c531-438f-900f-ccea869b3f60",
   "metadata": {},
   "outputs": [],
   "source": []
  },
  {
   "cell_type": "code",
   "execution_count": null,
   "id": "cd128c59-1a94-439e-af28-6966dd8dd556",
   "metadata": {},
   "outputs": [],
   "source": []
  },
  {
   "cell_type": "code",
   "execution_count": 101,
   "id": "c4ad47a1-ac1e-4342-8921-9ade0165355d",
   "metadata": {},
   "outputs": [],
   "source": [
    "from sklearn.metrics import mean_absolute_error, r2_score"
   ]
  },
  {
   "cell_type": "code",
   "execution_count": 102,
   "id": "f73e0b0d-0c09-4761-af50-46e061f5d207",
   "metadata": {
    "tags": []
   },
   "outputs": [],
   "source": [
    "Y_pred1=model.predict(X_test)"
   ]
  },
  {
   "cell_type": "code",
   "execution_count": 103,
   "id": "ca0fe888-9199-4f0c-b02d-82a74ba3318c",
   "metadata": {},
   "outputs": [
    {
     "name": "stdout",
     "output_type": "stream",
     "text": [
      "MSE: 352.12\n",
      "R^2 score: 0.83\n"
     ]
    }
   ],
   "source": [
    "print('MSE: {:.2f}'.format(mean_absolute_error(Y_test, Y_pred1)))\n",
    "print('R^2 score: {:.2f}'.format(r2_score(Y_test, Y_pred1)))"
   ]
  },
  {
   "cell_type": "code",
   "execution_count": 104,
   "id": "73287fbe-e5e3-4f38-9fd0-b8e8be3d7534",
   "metadata": {},
   "outputs": [],
   "source": [
    "test = pd.read_csv('playground-series-s3e14 blueberry/test.csv')"
   ]
  },
  {
   "cell_type": "code",
   "execution_count": 105,
   "id": "30b860d9-9329-40e1-b3ec-4c5fb947f2ed",
   "metadata": {},
   "outputs": [
    {
     "name": "stdout",
     "output_type": "stream",
     "text": [
      "[[-1.73188091  0.78950305 -0.36308827 -0.60650259 -1.62884481 -2.45350556\n",
      "   0.41439846  0.41476769  0.42004409  0.41463614  0.4143742   0.40910888\n",
      "   0.46628816  0.40825643 -1.37131804 -1.0325095  -1.17963894]\n",
      " [-1.73154109 -1.10686691 -0.36308827 -0.60650259  1.74590499  0.26290733\n",
      "   1.35398187  1.35136485  1.348482    1.35165488  1.35242366  1.35433661\n",
      "  -1.48625709 -1.3457724  -0.18420686 -0.09389754  0.17678176]\n",
      " [-1.73120127 -1.10686691 -0.36308827 -0.60650259  0.93596504  0.26290733\n",
      "   0.41439846  0.41476769  0.42004409  0.41463614  0.4143742   0.40910888\n",
      "  -0.21285801 -0.37803235  1.09192201  1.0987803   0.97054679]\n",
      " [-1.73086145  0.78950305  0.27793227  1.56510043 -0.75140986  0.26290733\n",
      "   0.41439846  0.41476769  0.42004409  0.41463614  0.4143742   0.40910888\n",
      "  -0.21285801 -0.37803235 -0.92090449 -0.63419095 -0.75136625]\n",
      " [-1.73052164  2.68587302  0.9189528  -0.60650259 -1.62884481 -2.45350556\n",
      "   1.35398187  1.35136485  1.348482    1.35165488  1.35242366  1.35433661\n",
      "   0.46628816  0.40825643 -1.88496901 -1.55144865 -1.63652748]\n",
      " [-1.73018182 -1.10686691 -0.36308827 -0.60650259  1.74590499  1.12072192\n",
      "   1.35398187  1.35136485  1.348482    1.35165488  1.35242366  1.35433661\n",
      "   1.31522089  1.43648023 -0.66795311 -0.28942844 -0.82637966]\n",
      " [-1.729842   -1.10686691 -0.36308827 -0.60650259  1.74590499  0.26290733\n",
      "  -0.52518495 -0.52182947 -0.52147041 -0.52238259 -0.52367527 -0.51758497\n",
      "  -0.21285801 -0.37803235  0.94778346  0.96550578  1.00140078]\n",
      " [-1.72950218 -1.10686691 -0.36308827  1.56510043  0.05853009 -0.66639182\n",
      "  -1.36643986 -1.36836922 -1.37144877 -1.3687221  -1.36791979 -1.37014331\n",
      "  -1.48625709 -1.3457724   0.25204209 -0.34211885 -0.2045791 ]\n",
      " [-1.72916237  0.78950305  0.27793227  1.56510043  0.05853009  1.12072192\n",
      "   0.41439846  0.41476769  0.42004409  0.41463614  0.4143742   0.40910888\n",
      "  -1.48625709 -1.3457724   1.92538475  1.98798657  2.02558855]\n",
      " [-1.72882255  0.78950305 -0.36308827 -0.60650259 -1.62884481 -2.45350556\n",
      "  -0.52518495 -0.52182947 -0.52147041 -0.52238259 -0.52367527 -0.51758497\n",
      "   1.31522089  1.43648023 -1.38669309 -1.0325095  -1.18370084]]\n"
     ]
    }
   ],
   "source": [
    "from sklearn.preprocessing import StandardScaler\n",
    "  \n",
    "sc_x = StandardScaler()\n",
    "test = sc_x.fit_transform(test)\n",
    "\n",
    "  \n",
    "print (test[0:10, :])"
   ]
  },
  {
   "cell_type": "code",
   "execution_count": 107,
   "id": "bef089a8-ad74-4527-bb58-36630c424534",
   "metadata": {},
   "outputs": [],
   "source": [
    "pred_0=model.predict(test)"
   ]
  },
  {
   "cell_type": "code",
   "execution_count": null,
   "id": "e48c4a55-ac22-48c9-b42c-743916bcecc2",
   "metadata": {},
   "outputs": [],
   "source": []
  },
  {
   "cell_type": "code",
   "execution_count": 108,
   "id": "2038eac3-1087-4887-a970-960f8a5b1c44",
   "metadata": {},
   "outputs": [
    {
     "data": {
      "text/plain": [
       "array([4325.76670118, 6144.02597906, 7276.27169688, ..., 6947.821496  ,\n",
       "       4456.20857424, 7340.36449698])"
      ]
     },
     "execution_count": 108,
     "metadata": {},
     "output_type": "execute_result"
    }
   ],
   "source": [
    "pred_0"
   ]
  },
  {
   "cell_type": "code",
   "execution_count": 110,
   "id": "c9ead308-aae0-4c56-af88-911b062f3c0c",
   "metadata": {},
   "outputs": [],
   "source": [
    "sol = pd.read_csv('playground-series-s3e14 blueberry/sample_submission.csv')"
   ]
  },
  {
   "cell_type": "code",
   "execution_count": null,
   "id": "dac53a5e-59ec-495d-84df-01b4160eefdd",
   "metadata": {},
   "outputs": [],
   "source": []
  },
  {
   "cell_type": "code",
   "execution_count": 111,
   "id": "a490e141-e2e0-4ac0-b796-99f3dbfdddca",
   "metadata": {},
   "outputs": [
    {
     "data": {
      "text/html": [
       "<div>\n",
       "<style scoped>\n",
       "    .dataframe tbody tr th:only-of-type {\n",
       "        vertical-align: middle;\n",
       "    }\n",
       "\n",
       "    .dataframe tbody tr th {\n",
       "        vertical-align: top;\n",
       "    }\n",
       "\n",
       "    .dataframe thead th {\n",
       "        text-align: right;\n",
       "    }\n",
       "</style>\n",
       "<table border=\"1\" class=\"dataframe\">\n",
       "  <thead>\n",
       "    <tr style=\"text-align: right;\">\n",
       "      <th></th>\n",
       "      <th>id</th>\n",
       "    </tr>\n",
       "  </thead>\n",
       "  <tbody>\n",
       "    <tr>\n",
       "      <th>0</th>\n",
       "      <td>15289</td>\n",
       "    </tr>\n",
       "    <tr>\n",
       "      <th>1</th>\n",
       "      <td>15290</td>\n",
       "    </tr>\n",
       "    <tr>\n",
       "      <th>2</th>\n",
       "      <td>15291</td>\n",
       "    </tr>\n",
       "    <tr>\n",
       "      <th>3</th>\n",
       "      <td>15292</td>\n",
       "    </tr>\n",
       "    <tr>\n",
       "      <th>4</th>\n",
       "      <td>15293</td>\n",
       "    </tr>\n",
       "    <tr>\n",
       "      <th>...</th>\n",
       "      <td>...</td>\n",
       "    </tr>\n",
       "    <tr>\n",
       "      <th>10189</th>\n",
       "      <td>25478</td>\n",
       "    </tr>\n",
       "    <tr>\n",
       "      <th>10190</th>\n",
       "      <td>25479</td>\n",
       "    </tr>\n",
       "    <tr>\n",
       "      <th>10191</th>\n",
       "      <td>25480</td>\n",
       "    </tr>\n",
       "    <tr>\n",
       "      <th>10192</th>\n",
       "      <td>25481</td>\n",
       "    </tr>\n",
       "    <tr>\n",
       "      <th>10193</th>\n",
       "      <td>25482</td>\n",
       "    </tr>\n",
       "  </tbody>\n",
       "</table>\n",
       "<p>10194 rows × 1 columns</p>\n",
       "</div>"
      ],
      "text/plain": [
       "          id\n",
       "0      15289\n",
       "1      15290\n",
       "2      15291\n",
       "3      15292\n",
       "4      15293\n",
       "...      ...\n",
       "10189  25478\n",
       "10190  25479\n",
       "10191  25480\n",
       "10192  25481\n",
       "10193  25482\n",
       "\n",
       "[10194 rows x 1 columns]"
      ]
     },
     "execution_count": 111,
     "metadata": {},
     "output_type": "execute_result"
    }
   ],
   "source": [
    "sol.drop(['yield'],axis=1)"
   ]
  },
  {
   "cell_type": "code",
   "execution_count": 113,
   "id": "2cc68530-05ab-4ab6-b619-0bda06b3a6db",
   "metadata": {},
   "outputs": [],
   "source": [
    "sol['yield']=pred_0\n"
   ]
  },
  {
   "cell_type": "code",
   "execution_count": 114,
   "id": "f7dc5763-9ccd-4008-be72-8c0757cd05aa",
   "metadata": {},
   "outputs": [
    {
     "data": {
      "text/html": [
       "<div>\n",
       "<style scoped>\n",
       "    .dataframe tbody tr th:only-of-type {\n",
       "        vertical-align: middle;\n",
       "    }\n",
       "\n",
       "    .dataframe tbody tr th {\n",
       "        vertical-align: top;\n",
       "    }\n",
       "\n",
       "    .dataframe thead th {\n",
       "        text-align: right;\n",
       "    }\n",
       "</style>\n",
       "<table border=\"1\" class=\"dataframe\">\n",
       "  <thead>\n",
       "    <tr style=\"text-align: right;\">\n",
       "      <th></th>\n",
       "      <th>id</th>\n",
       "      <th>yield</th>\n",
       "    </tr>\n",
       "  </thead>\n",
       "  <tbody>\n",
       "    <tr>\n",
       "      <th>0</th>\n",
       "      <td>15289</td>\n",
       "      <td>4325.766701</td>\n",
       "    </tr>\n",
       "    <tr>\n",
       "      <th>1</th>\n",
       "      <td>15290</td>\n",
       "      <td>6144.025979</td>\n",
       "    </tr>\n",
       "    <tr>\n",
       "      <th>2</th>\n",
       "      <td>15291</td>\n",
       "      <td>7276.271697</td>\n",
       "    </tr>\n",
       "    <tr>\n",
       "      <th>3</th>\n",
       "      <td>15292</td>\n",
       "      <td>5003.563415</td>\n",
       "    </tr>\n",
       "    <tr>\n",
       "      <th>4</th>\n",
       "      <td>15293</td>\n",
       "      <td>3695.478618</td>\n",
       "    </tr>\n",
       "  </tbody>\n",
       "</table>\n",
       "</div>"
      ],
      "text/plain": [
       "      id        yield\n",
       "0  15289  4325.766701\n",
       "1  15290  6144.025979\n",
       "2  15291  7276.271697\n",
       "3  15292  5003.563415\n",
       "4  15293  3695.478618"
      ]
     },
     "execution_count": 114,
     "metadata": {},
     "output_type": "execute_result"
    }
   ],
   "source": [
    "sol.head()"
   ]
  },
  {
   "cell_type": "code",
   "execution_count": 115,
   "id": "9056d74c-cd44-49c8-935f-6f8ff7055c41",
   "metadata": {},
   "outputs": [],
   "source": [
    "sol.to_csv('final.csv',index=False)"
   ]
  },
  {
   "cell_type": "code",
   "execution_count": null,
   "id": "ee94fc3e-4d4a-405c-85ce-eb37af814554",
   "metadata": {},
   "outputs": [],
   "source": []
  }
 ],
 "metadata": {
  "kernelspec": {
   "display_name": "Python 3 (ipykernel)",
   "language": "python",
   "name": "python3"
  },
  "language_info": {
   "codemirror_mode": {
    "name": "ipython",
    "version": 3
   },
   "file_extension": ".py",
   "mimetype": "text/x-python",
   "name": "python",
   "nbconvert_exporter": "python",
   "pygments_lexer": "ipython3",
   "version": "3.9.12"
  }
 },
 "nbformat": 4,
 "nbformat_minor": 5
}
